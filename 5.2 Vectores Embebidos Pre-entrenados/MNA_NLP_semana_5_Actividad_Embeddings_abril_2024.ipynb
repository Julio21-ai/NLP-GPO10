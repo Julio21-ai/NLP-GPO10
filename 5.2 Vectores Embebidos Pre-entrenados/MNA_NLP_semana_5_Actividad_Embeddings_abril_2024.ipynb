{
  "nbformat": 4,
  "nbformat_minor": 0,
  "metadata": {
    "colab": {
      "provenance": [],
      "include_colab_link": true
    },
    "kernelspec": {
      "name": "python3",
      "display_name": "Python 3"
    }
  },
  "cells": [
    {
      "cell_type": "markdown",
      "metadata": {
        "id": "view-in-github",
        "colab_type": "text"
      },
      "source": [
        "<a href=\"https://colab.research.google.com/github/Julio21-ai/NLP-GPO10/blob/main/5.2%20Vectores%20Embebidos%20Pre-entrenados/MNA_NLP_semana_5_Actividad_Embeddings_abril_2024.ipynb\" target=\"_parent\"><img src=\"https://colab.research.google.com/assets/colab-badge.svg\" alt=\"Open In Colab\"/></a>"
      ]
    },
    {
      "cell_type": "markdown",
      "source": [
        "![Evidence 3](https://i.imgur.com/mu6ZuGT.jpg)\n",
        "# **Maestría en Inteligencia Artificial Aplicada**\n",
        "\n",
        "## Curso: **Procesamiento de Lenguaje Natural**\n",
        "\n",
        "### Tecnológico de Monterrey\n",
        "\n",
        "### Prof Luis Eduardo Falcón Morales\n",
        "\n",
        "## Actividad Semana 5\n",
        "\n",
        "### **Vectores Embebidos Pre-entrenados: Fasttext**"
      ],
      "metadata": {
        "id": "lNl8G3vHkPSX"
      }
    },
    {
      "cell_type": "markdown",
      "source": [
        "#### **Nombres y matrículas de los integrantes del equipo:**\n",
        "\n",
        "\n",
        "\n",
        "*   **Julio Baltazar Colín: A01794476**\n",
        "*   Elemento de lista\n",
        "\n"
      ],
      "metadata": {
        "id": "U69mHA6i201G"
      }
    },
    {
      "cell_type": "code",
      "metadata": {
        "id": "wCL2p6MA8NuT",
        "colab": {
          "base_uri": "https://localhost:8080/"
        },
        "outputId": "fd1bfe70-4abb-45c5-f8e4-d1711f77a23a"
      },
      "source": [
        "# Aquí deberás incluir todas las librerías que requieras durante esta actividad:\n",
        "import pandas as pd\n",
        "import numpy as np\n",
        "\n",
        "import nltk\n",
        "from nltk.corpus import stopwords\n",
        "\n",
        "import re\n",
        "import string\n",
        "\n",
        "from nltk.stem import WordNetLemmatizer\n",
        "nltk.download('wordnet')\n",
        "\n",
        "# Instalar el paquete contractions\n",
        "!pip install contractions\n",
        "\n",
        "import nltk\n",
        "import contractions\n",
        "from nltk.stem import WordNetLemmatizer\n",
        "from nltk.tokenize import word_tokenize\n",
        "\n",
        "import matplotlib.pyplot as plt\n"
      ],
      "execution_count": 279,
      "outputs": [
        {
          "output_type": "stream",
          "name": "stderr",
          "text": [
            "[nltk_data] Downloading package wordnet to /root/nltk_data...\n",
            "[nltk_data]   Package wordnet is already up-to-date!\n"
          ]
        },
        {
          "output_type": "stream",
          "name": "stdout",
          "text": [
            "Requirement already satisfied: contractions in /usr/local/lib/python3.10/dist-packages (0.1.73)\n",
            "Requirement already satisfied: textsearch>=0.0.21 in /usr/local/lib/python3.10/dist-packages (from contractions) (0.0.24)\n",
            "Requirement already satisfied: anyascii in /usr/local/lib/python3.10/dist-packages (from textsearch>=0.0.21->contractions) (0.3.2)\n",
            "Requirement already satisfied: pyahocorasick in /usr/local/lib/python3.10/dist-packages (from textsearch>=0.0.21->contractions) (2.1.0)\n"
          ]
        }
      ]
    },
    {
      "cell_type": "markdown",
      "source": [
        "##**Pregunta - 1:**\n",
        "\n"
      ],
      "metadata": {
        "id": "4c34ZOnna3Gu"
      }
    },
    {
      "cell_type": "markdown",
      "source": [
        "Descarga los 3 archivos de Canvas y genera un nuevo DataFrame de Pandas con ellos.\n",
        "\n",
        "**Llama simplemente \"df\" a dicho DataFrame.**\n",
        "\n",
        "Los archivos los encuentras en Canvas: amazon5.txt, imdb5.txt, yelp5.txt.\n",
        "\n"
      ],
      "metadata": {
        "id": "yeNllxRdmeWg"
      }
    },
    {
      "cell_type": "code",
      "source": [
        "#carga de datos desde un repositorio externo:\n",
        "\n",
        "import requests\n",
        "urlAmzn = 'https://raw.githubusercontent.com/Julio21-ai/NLP-GPO10/main/5.2%20Vectores%20Embebidos%20Pre-entrenados/amazon5.txt'\n",
        "urlimdb = 'https://raw.githubusercontent.com/Julio21-ai/NLP-GPO10/main/5.2%20Vectores%20Embebidos%20Pre-entrenados/imdb5.txt'\n",
        "urlyelp = 'https://raw.githubusercontent.com/Julio21-ai/NLP-GPO10/main/3.2%20Actividad%202/yelp_labelled.txt'\n",
        "\n",
        "responce_amzn = requests.get(urlAmzn)\n",
        "responce_imdb = requests.get(urlimdb)\n",
        "responce_urlyelp = requests.get(urlyelp)\n",
        "\n",
        "data_amzn = None\n",
        "data_imdb= None\n",
        "data_urlyelp= None\n",
        "\n",
        "if responce_amzn.status_code == 200: #200 = OK\n",
        "    data_amzn = responce_amzn.text\n",
        "else:\n",
        "    print(\"Error al obtener el archivo:\", responce_amzn.status_code)\n",
        "\n",
        "if responce_imdb.status_code == 200: #200 = OK\n",
        "    data_imdb = responce_imdb.text\n",
        "else:\n",
        "    print(\"Error al obtener el archivo:\", responce_imdb.status_code)\n",
        "\n",
        "if responce_urlyelp.status_code == 200: #200 = OK\n",
        "    data_urlyelp = responce_urlyelp.text\n",
        "else:\n",
        "    print(\"Error al obtener el archivo:\", responce_imdb.status_code)\n"
      ],
      "metadata": {
        "id": "g7esxl5yLN_g"
      },
      "execution_count": 280,
      "outputs": []
    },
    {
      "cell_type": "code",
      "source": [
        "\n",
        "# ******* Inlcuye a continuación todas las líneas de código y celdas que requieras: ***********\n",
        "from io import StringIO\n",
        "\n",
        "dfa = pd.read_csv(StringIO(data_amzn), sep='\\t', names=['review','label'], header=None, encoding='utf-8')\n",
        "dfi = pd.read_csv(StringIO(data_imdb), delimiter='\\t', names=['review','label'], header=None, encoding='utf-8')\n",
        "dfy = pd.read_csv(StringIO(data_urlyelp), sep='\\t', names=['review','label'], header=None, encoding='utf-8')\n",
        "\n",
        "\n",
        "print('Total de registros de Amazon:',dfa.shape)\n",
        "print('Total de registros de IMBD:',dfi.shape)\n",
        "print('Total de registros de Yelp:',dfy.shape)\n",
        "\n",
        "df = pd.concat([dfa, dfi, dfy], ignore_index=True)\n",
        "print('Total de registros dataframe df:',df.shape)\n",
        "\n",
        "# *********** Aquí termina la sección de agregar código *************\n"
      ],
      "metadata": {
        "id": "T_lyEFRkxzC6",
        "colab": {
          "base_uri": "https://localhost:8080/"
        },
        "outputId": "15f682ae-3f69-48cc-8719-fbb0f0266e4e"
      },
      "execution_count": 281,
      "outputs": [
        {
          "output_type": "stream",
          "name": "stdout",
          "text": [
            "Total de registros de Amazon: (1000, 2)\n",
            "Total de registros de IMBD: (1000, 2)\n",
            "Total de registros de Yelp: (1000, 2)\n",
            "Total de registros dataframe df: (3000, 2)\n"
          ]
        }
      ]
    },
    {
      "cell_type": "code",
      "source": [
        "# Verifiquemos la información del DataFrame:\n",
        "df.info()"
      ],
      "metadata": {
        "id": "3-w1xMLYnm9b",
        "colab": {
          "base_uri": "https://localhost:8080/"
        },
        "outputId": "cca96456-2b07-4229-ed78-c870c3fe5f68"
      },
      "execution_count": 282,
      "outputs": [
        {
          "output_type": "stream",
          "name": "stdout",
          "text": [
            "<class 'pandas.core.frame.DataFrame'>\n",
            "RangeIndex: 3000 entries, 0 to 2999\n",
            "Data columns (total 2 columns):\n",
            " #   Column  Non-Null Count  Dtype  \n",
            "---  ------  --------------  -----  \n",
            " 0   review  3000 non-null   object \n",
            " 1   label   2000 non-null   float64\n",
            "dtypes: float64(1), object(1)\n",
            "memory usage: 47.0+ KB\n"
          ]
        }
      ]
    },
    {
      "cell_type": "code",
      "source": [
        "# Y veamos sus primeros registros:\n",
        "\n",
        "df.head()"
      ],
      "metadata": {
        "id": "NfVUcYe1nubT",
        "colab": {
          "base_uri": "https://localhost:8080/",
          "height": 206
        },
        "outputId": "0f703d06-78db-433b-93c5-bf8c59ce009b"
      },
      "execution_count": 283,
      "outputs": [
        {
          "output_type": "execute_result",
          "data": {
            "text/plain": [
              "                                              review  label\n",
              "0  So there is no way for me to plug it in here i...    0.0\n",
              "1                        Good case, Excellent value.    1.0\n",
              "2                             Great for the jawbone.    1.0\n",
              "3  Tied to charger for conversations lasting more...    0.0\n",
              "4                                  The mic is great.    1.0"
            ],
            "text/html": [
              "\n",
              "  <div id=\"df-8337da4c-e0b4-415c-9aa1-14d75e096861\" class=\"colab-df-container\">\n",
              "    <div>\n",
              "<style scoped>\n",
              "    .dataframe tbody tr th:only-of-type {\n",
              "        vertical-align: middle;\n",
              "    }\n",
              "\n",
              "    .dataframe tbody tr th {\n",
              "        vertical-align: top;\n",
              "    }\n",
              "\n",
              "    .dataframe thead th {\n",
              "        text-align: right;\n",
              "    }\n",
              "</style>\n",
              "<table border=\"1\" class=\"dataframe\">\n",
              "  <thead>\n",
              "    <tr style=\"text-align: right;\">\n",
              "      <th></th>\n",
              "      <th>review</th>\n",
              "      <th>label</th>\n",
              "    </tr>\n",
              "  </thead>\n",
              "  <tbody>\n",
              "    <tr>\n",
              "      <th>0</th>\n",
              "      <td>So there is no way for me to plug it in here i...</td>\n",
              "      <td>0.0</td>\n",
              "    </tr>\n",
              "    <tr>\n",
              "      <th>1</th>\n",
              "      <td>Good case, Excellent value.</td>\n",
              "      <td>1.0</td>\n",
              "    </tr>\n",
              "    <tr>\n",
              "      <th>2</th>\n",
              "      <td>Great for the jawbone.</td>\n",
              "      <td>1.0</td>\n",
              "    </tr>\n",
              "    <tr>\n",
              "      <th>3</th>\n",
              "      <td>Tied to charger for conversations lasting more...</td>\n",
              "      <td>0.0</td>\n",
              "    </tr>\n",
              "    <tr>\n",
              "      <th>4</th>\n",
              "      <td>The mic is great.</td>\n",
              "      <td>1.0</td>\n",
              "    </tr>\n",
              "  </tbody>\n",
              "</table>\n",
              "</div>\n",
              "    <div class=\"colab-df-buttons\">\n",
              "\n",
              "  <div class=\"colab-df-container\">\n",
              "    <button class=\"colab-df-convert\" onclick=\"convertToInteractive('df-8337da4c-e0b4-415c-9aa1-14d75e096861')\"\n",
              "            title=\"Convert this dataframe to an interactive table.\"\n",
              "            style=\"display:none;\">\n",
              "\n",
              "  <svg xmlns=\"http://www.w3.org/2000/svg\" height=\"24px\" viewBox=\"0 -960 960 960\">\n",
              "    <path d=\"M120-120v-720h720v720H120Zm60-500h600v-160H180v160Zm220 220h160v-160H400v160Zm0 220h160v-160H400v160ZM180-400h160v-160H180v160Zm440 0h160v-160H620v160ZM180-180h160v-160H180v160Zm440 0h160v-160H620v160Z\"/>\n",
              "  </svg>\n",
              "    </button>\n",
              "\n",
              "  <style>\n",
              "    .colab-df-container {\n",
              "      display:flex;\n",
              "      gap: 12px;\n",
              "    }\n",
              "\n",
              "    .colab-df-convert {\n",
              "      background-color: #E8F0FE;\n",
              "      border: none;\n",
              "      border-radius: 50%;\n",
              "      cursor: pointer;\n",
              "      display: none;\n",
              "      fill: #1967D2;\n",
              "      height: 32px;\n",
              "      padding: 0 0 0 0;\n",
              "      width: 32px;\n",
              "    }\n",
              "\n",
              "    .colab-df-convert:hover {\n",
              "      background-color: #E2EBFA;\n",
              "      box-shadow: 0px 1px 2px rgba(60, 64, 67, 0.3), 0px 1px 3px 1px rgba(60, 64, 67, 0.15);\n",
              "      fill: #174EA6;\n",
              "    }\n",
              "\n",
              "    .colab-df-buttons div {\n",
              "      margin-bottom: 4px;\n",
              "    }\n",
              "\n",
              "    [theme=dark] .colab-df-convert {\n",
              "      background-color: #3B4455;\n",
              "      fill: #D2E3FC;\n",
              "    }\n",
              "\n",
              "    [theme=dark] .colab-df-convert:hover {\n",
              "      background-color: #434B5C;\n",
              "      box-shadow: 0px 1px 3px 1px rgba(0, 0, 0, 0.15);\n",
              "      filter: drop-shadow(0px 1px 2px rgba(0, 0, 0, 0.3));\n",
              "      fill: #FFFFFF;\n",
              "    }\n",
              "  </style>\n",
              "\n",
              "    <script>\n",
              "      const buttonEl =\n",
              "        document.querySelector('#df-8337da4c-e0b4-415c-9aa1-14d75e096861 button.colab-df-convert');\n",
              "      buttonEl.style.display =\n",
              "        google.colab.kernel.accessAllowed ? 'block' : 'none';\n",
              "\n",
              "      async function convertToInteractive(key) {\n",
              "        const element = document.querySelector('#df-8337da4c-e0b4-415c-9aa1-14d75e096861');\n",
              "        const dataTable =\n",
              "          await google.colab.kernel.invokeFunction('convertToInteractive',\n",
              "                                                    [key], {});\n",
              "        if (!dataTable) return;\n",
              "\n",
              "        const docLinkHtml = 'Like what you see? Visit the ' +\n",
              "          '<a target=\"_blank\" href=https://colab.research.google.com/notebooks/data_table.ipynb>data table notebook</a>'\n",
              "          + ' to learn more about interactive tables.';\n",
              "        element.innerHTML = '';\n",
              "        dataTable['output_type'] = 'display_data';\n",
              "        await google.colab.output.renderOutput(dataTable, element);\n",
              "        const docLink = document.createElement('div');\n",
              "        docLink.innerHTML = docLinkHtml;\n",
              "        element.appendChild(docLink);\n",
              "      }\n",
              "    </script>\n",
              "  </div>\n",
              "\n",
              "\n",
              "<div id=\"df-08788065-c545-437f-958e-c79d405110d2\">\n",
              "  <button class=\"colab-df-quickchart\" onclick=\"quickchart('df-08788065-c545-437f-958e-c79d405110d2')\"\n",
              "            title=\"Suggest charts\"\n",
              "            style=\"display:none;\">\n",
              "\n",
              "<svg xmlns=\"http://www.w3.org/2000/svg\" height=\"24px\"viewBox=\"0 0 24 24\"\n",
              "     width=\"24px\">\n",
              "    <g>\n",
              "        <path d=\"M19 3H5c-1.1 0-2 .9-2 2v14c0 1.1.9 2 2 2h14c1.1 0 2-.9 2-2V5c0-1.1-.9-2-2-2zM9 17H7v-7h2v7zm4 0h-2V7h2v10zm4 0h-2v-4h2v4z\"/>\n",
              "    </g>\n",
              "</svg>\n",
              "  </button>\n",
              "\n",
              "<style>\n",
              "  .colab-df-quickchart {\n",
              "      --bg-color: #E8F0FE;\n",
              "      --fill-color: #1967D2;\n",
              "      --hover-bg-color: #E2EBFA;\n",
              "      --hover-fill-color: #174EA6;\n",
              "      --disabled-fill-color: #AAA;\n",
              "      --disabled-bg-color: #DDD;\n",
              "  }\n",
              "\n",
              "  [theme=dark] .colab-df-quickchart {\n",
              "      --bg-color: #3B4455;\n",
              "      --fill-color: #D2E3FC;\n",
              "      --hover-bg-color: #434B5C;\n",
              "      --hover-fill-color: #FFFFFF;\n",
              "      --disabled-bg-color: #3B4455;\n",
              "      --disabled-fill-color: #666;\n",
              "  }\n",
              "\n",
              "  .colab-df-quickchart {\n",
              "    background-color: var(--bg-color);\n",
              "    border: none;\n",
              "    border-radius: 50%;\n",
              "    cursor: pointer;\n",
              "    display: none;\n",
              "    fill: var(--fill-color);\n",
              "    height: 32px;\n",
              "    padding: 0;\n",
              "    width: 32px;\n",
              "  }\n",
              "\n",
              "  .colab-df-quickchart:hover {\n",
              "    background-color: var(--hover-bg-color);\n",
              "    box-shadow: 0 1px 2px rgba(60, 64, 67, 0.3), 0 1px 3px 1px rgba(60, 64, 67, 0.15);\n",
              "    fill: var(--button-hover-fill-color);\n",
              "  }\n",
              "\n",
              "  .colab-df-quickchart-complete:disabled,\n",
              "  .colab-df-quickchart-complete:disabled:hover {\n",
              "    background-color: var(--disabled-bg-color);\n",
              "    fill: var(--disabled-fill-color);\n",
              "    box-shadow: none;\n",
              "  }\n",
              "\n",
              "  .colab-df-spinner {\n",
              "    border: 2px solid var(--fill-color);\n",
              "    border-color: transparent;\n",
              "    border-bottom-color: var(--fill-color);\n",
              "    animation:\n",
              "      spin 1s steps(1) infinite;\n",
              "  }\n",
              "\n",
              "  @keyframes spin {\n",
              "    0% {\n",
              "      border-color: transparent;\n",
              "      border-bottom-color: var(--fill-color);\n",
              "      border-left-color: var(--fill-color);\n",
              "    }\n",
              "    20% {\n",
              "      border-color: transparent;\n",
              "      border-left-color: var(--fill-color);\n",
              "      border-top-color: var(--fill-color);\n",
              "    }\n",
              "    30% {\n",
              "      border-color: transparent;\n",
              "      border-left-color: var(--fill-color);\n",
              "      border-top-color: var(--fill-color);\n",
              "      border-right-color: var(--fill-color);\n",
              "    }\n",
              "    40% {\n",
              "      border-color: transparent;\n",
              "      border-right-color: var(--fill-color);\n",
              "      border-top-color: var(--fill-color);\n",
              "    }\n",
              "    60% {\n",
              "      border-color: transparent;\n",
              "      border-right-color: var(--fill-color);\n",
              "    }\n",
              "    80% {\n",
              "      border-color: transparent;\n",
              "      border-right-color: var(--fill-color);\n",
              "      border-bottom-color: var(--fill-color);\n",
              "    }\n",
              "    90% {\n",
              "      border-color: transparent;\n",
              "      border-bottom-color: var(--fill-color);\n",
              "    }\n",
              "  }\n",
              "</style>\n",
              "\n",
              "  <script>\n",
              "    async function quickchart(key) {\n",
              "      const quickchartButtonEl =\n",
              "        document.querySelector('#' + key + ' button');\n",
              "      quickchartButtonEl.disabled = true;  // To prevent multiple clicks.\n",
              "      quickchartButtonEl.classList.add('colab-df-spinner');\n",
              "      try {\n",
              "        const charts = await google.colab.kernel.invokeFunction(\n",
              "            'suggestCharts', [key], {});\n",
              "      } catch (error) {\n",
              "        console.error('Error during call to suggestCharts:', error);\n",
              "      }\n",
              "      quickchartButtonEl.classList.remove('colab-df-spinner');\n",
              "      quickchartButtonEl.classList.add('colab-df-quickchart-complete');\n",
              "    }\n",
              "    (() => {\n",
              "      let quickchartButtonEl =\n",
              "        document.querySelector('#df-08788065-c545-437f-958e-c79d405110d2 button');\n",
              "      quickchartButtonEl.style.display =\n",
              "        google.colab.kernel.accessAllowed ? 'block' : 'none';\n",
              "    })();\n",
              "  </script>\n",
              "</div>\n",
              "    </div>\n",
              "  </div>\n"
            ],
            "application/vnd.google.colaboratory.intrinsic+json": {
              "type": "dataframe",
              "variable_name": "df",
              "summary": "{\n  \"name\": \"df\",\n  \"rows\": 3000,\n  \"fields\": [\n    {\n      \"column\": \"review\",\n      \"properties\": {\n        \"dtype\": \"string\",\n        \"num_unique_values\": 2983,\n        \"samples\": [\n          \"We've tried to like this place but after 10+ times I think we're done with them.\",\n          \"The script is a big flawed mess.    0\",\n          \"It was that loud.Glad to say that the Plantronics 510 maintains a flawless connection to my cell and with no static during normal use.\"\n        ],\n        \"semantic_type\": \"\",\n        \"description\": \"\"\n      }\n    },\n    {\n      \"column\": \"label\",\n      \"properties\": {\n        \"dtype\": \"number\",\n        \"std\": 0.5001250468945398,\n        \"min\": 0.0,\n        \"max\": 1.0,\n        \"num_unique_values\": 2,\n        \"samples\": [\n          1.0,\n          0.0\n        ],\n        \"semantic_type\": \"\",\n        \"description\": \"\"\n      }\n    }\n  ]\n}"
            }
          },
          "metadata": {},
          "execution_count": 283
        }
      ]
    },
    {
      "cell_type": "markdown",
      "source": [
        "##**Pregunta - 2:**"
      ],
      "metadata": {
        "id": "MfZZ0stLmWJN"
      }
    },
    {
      "cell_type": "markdown",
      "source": [
        "Realiza el proceso de limpieza.\n",
        "\n",
        "Aplica el preprocesamiento que consideres adecuado, sin embargo, deberás aplicar necesariamente alguna de las técnicas de lematización.\n",
        "\n",
        "\n",
        "\n",
        "\n",
        "\n",
        "\n",
        "\n",
        "\n",
        "\n"
      ],
      "metadata": {
        "id": "7F6JF5BommZ6"
      }
    },
    {
      "cell_type": "code",
      "source": [
        "# ******* Inlcuye a continuación todas las líneas de código y celdas que requieras: ***********\n",
        "def remover_espacios_extra(texto):\n",
        "    # Eliminar los espacios iniciales y finales y dividir el texto por espacios\n",
        "    texto_filtrado = re.sub(r'\\s+', ' ', texto).strip().split()\n",
        "    # texto_filtrado las palabras con un solo espacio\n",
        "    retval = ' '.join(texto_filtrado)\n",
        "    return retval\n",
        "\n",
        "def procesar_comilla(texto):\n",
        "    texto_filtrado = texto\n",
        "    # Eliminar terminaciones 's\n",
        "    texto_filtrado = re.sub(r\"'s\\b\", '', texto_filtrado)\n",
        "    # Reemplazar \".\", \",\" , \":\", y \"_\" por espacios en blanco\n",
        "    texto_filtrado = re.sub(r\"\\'\", ' ', texto_filtrado)\n",
        "    return texto_filtrado\n",
        "\n",
        "def eliminar_no_alfa(texto):\n",
        "    texto_filtrado = texto\n",
        "\n",
        "    # Eliminar caracteres no alfanuméricos, excepto \".\", \",\", \":\", \"-\" y \"_\"\n",
        "    texto_filtrado = re.sub(r\"[^\\w\\s\\.,:-]+\", '', texto_filtrado)\n",
        "\n",
        "    # Eliminar guiones repetidos en medio de la cadena\n",
        "    texto_filtrado = re.sub(r'(?<!-)-{2,}(?!-)', ' ', texto_filtrado)\n",
        "\n",
        "    # Eliminar guiones al principio y al final de la cadena\n",
        "    texto_filtrado = re.sub(r'^-+|-+$', '', texto_filtrado)\n",
        "\n",
        "    # Reemplazar \".\", \",\" , \":\", y \"_\" por espacios en blanco\n",
        "    texto_filtrado = re.sub(r'[\\.,:_]', ' ', texto_filtrado)\n",
        "\n",
        "    return texto_filtrado\n",
        "\n",
        "def minusculas(texto):\n",
        "    #Convertir a minusculas\n",
        "    return texto.lower()\n",
        "\n",
        "def remover_caracteres_sueltos(texto):\n",
        "    # Expresión regular para encontrar caracteres sueltos\n",
        "    expresion_regular = r'\\b\\w{1}\\b'  # Coincidirá con cualquier carácter único\n",
        "\n",
        "    # Reemplaza los caracteres sueltos con una cadena vacía\n",
        "    texto_filtrado = re.sub(expresion_regular, '', texto)\n",
        "\n",
        "    return texto_filtrado\n",
        "\n",
        "def eliminar_no_ascii(texto):\n",
        "    # Eliminar caracteres no ASCII\n",
        "    retval = re.sub(r'[^\\x00-\\x7F]+', '', texto)\n",
        "    return  texto\n",
        "\n",
        "def eliminar_digitos(texto):\n",
        "    # Utilizar una expresión regular para eliminar palabras con dígitos\n",
        "    texto_filtrado = re.sub(r'\\b\\w*\\d\\w*\\b', '', texto)\n",
        "\n",
        "    # Eliminar espacios adicionales resultantes\n",
        "    #texto_filtrado = re.sub(r'\\s+', ' ', texto_filtrado).strip()\n",
        "\n",
        "    return texto_filtrado\n",
        "\n",
        "\n",
        "def expandir_contracciones(texto):\n",
        "    # Expandir contracciones\n",
        "    return contractions.fix(texto)\n",
        "\n",
        "\n",
        "def lematizado(texto):\n",
        "    wnl = WordNetLemmatizer()\n",
        "    # Tokenizar el texto en palabras\n",
        "    palabras = word_tokenize(texto)\n",
        "\n",
        "    palabras_lemmatizadas = []\n",
        "    for palabra in palabras:\n",
        "        # Lemmatizar la palabra como adjetivo\n",
        "        lemmatizada = wnl.lemmatize(palabra, 'a')\n",
        "        # Lemmatizar la palabra como verbo\n",
        "        lemmatizada = wnl.lemmatize(lemmatizada, 'v')\n",
        "        # Lemmatizar la palabra como sustantivo\n",
        "        lemmatizada = wnl.lemmatize(lemmatizada, 'n')\n",
        "        # Lemmatizar la palabra como adverbio\n",
        "        lemmatizada = wnl.lemmatize(lemmatizada, 'r')\n",
        "        palabras_lemmatizadas.append(lemmatizada)\n",
        "\n",
        "    # Unir las palabras lemmatizadas en un texto de nuevo\n",
        "    texto_filtrado = ' '.join(palabras_lemmatizadas)\n",
        "\n",
        "    return texto_filtrado\n",
        "\n",
        "def remove_stop_words(lista_palabras, stopwords):\n",
        "    #Eliminar las stopwords\n",
        "    palabras_sin_stopwords = [palabra for palabra in lista_palabras if palabra not in stopwords]\n",
        "    return palabras_sin_stopwords\n",
        "\n",
        "\n",
        "def tokenizar(enunciado):\n",
        "    # Tokenizar el texto\n",
        "    tokens = word_tokenize(enunciado)\n",
        "    # Eliminar caracteres no alfanuméricos\n",
        "    tokens = [token for token in tokens if token.isalnum()]\n",
        "    return tokens\n",
        "\n",
        "def limpiar_texto(texto):\n",
        "  texto_filtrado = texto\n",
        "  texto_filtrado = expandir_contracciones(texto_filtrado)\n",
        "  texto_filtrado = procesar_comilla(texto_filtrado)\n",
        "  texto_filtrado = eliminar_no_alfa(texto_filtrado)\n",
        "  texto_filtrado = eliminar_no_ascii(texto_filtrado)\n",
        "  texto_filtrado = eliminar_digitos(texto_filtrado)\n",
        "  texto_filtrado = remover_espacios_extra(texto_filtrado)\n",
        "  texto_filtrado = lematizado(texto_filtrado)\n",
        "  texto_filtrado = remover_caracteres_sueltos(texto_filtrado)\n",
        "  texto_filtrado = minusculas(texto_filtrado)\n",
        "  return texto_filtrado\n",
        "\n",
        "# *********** Aquí termina la sección de agregar código *************\n",
        "\n"
      ],
      "metadata": {
        "id": "6qfe7J18NpNM"
      },
      "execution_count": 284,
      "outputs": []
    },
    {
      "cell_type": "code",
      "source": [
        "\n",
        "# ******* Inlcuye a continuación todas las líneas de código y celdas que requieras: ***********\n",
        "\n",
        "X = df.review     # Serie de strings\n",
        "Y = df.label      # Serie de enteros 0s y 1s\n",
        "\n",
        "\n",
        "texto_limpio = X.apply(limpiar_texto)\n",
        "df['review'].to_csv('rsultado_sucio.txt', index=False)\n",
        "texto_limpio.to_csv('resultado_limpio.txt', index=False)\n",
        "\n",
        "tokens_list = [tokenizar(texto) for texto in texto_limpio]\n",
        "Xclean = tokens_list\n",
        "\n",
        "# *********** Aquí termina la sección de agregar código *************"
      ],
      "metadata": {
        "id": "TsnvMp-7oYCM"
      },
      "execution_count": 285,
      "outputs": []
    },
    {
      "cell_type": "code",
      "source": [
        "# Despleguemos los primeros comentarios después de tu proceso de limpieza:\n",
        "\n",
        "for x in Xclean[0:5]:\n",
        "  print(x)\n"
      ],
      "metadata": {
        "id": "7jlQuoI2o33T",
        "colab": {
          "base_uri": "https://localhost:8080/"
        },
        "outputId": "e920d566-362d-46c7-ee8d-9f0c5ecdbffe"
      },
      "execution_count": 286,
      "outputs": [
        {
          "output_type": "stream",
          "name": "stdout",
          "text": [
            "['so', 'there', 'be', 'no', 'way', 'for', 'me', 'to', 'plug', 'it', 'in', 'here', 'in', 'the', 'us', 'unless', 'go', 'by', 'converter']\n",
            "['good', 'case', 'excellent', 'value']\n",
            "['great', 'for', 'the', 'jawbone']\n",
            "['tied', 'to', 'charger', 'for', 'conversation', 'last', 'more', 'than', 'minute', 'major', 'problems']\n",
            "['the', 'mic', 'be', 'great']\n"
          ]
        }
      ]
    },
    {
      "cell_type": "markdown",
      "source": [
        "#**Pregunta - 3:**\n"
      ],
      "metadata": {
        "id": "ygchEdcKqIzU"
      }
    },
    {
      "cell_type": "markdown",
      "source": [
        "\n",
        "Realicemos una partición aleatoria con los mismos porcentajes de la práctica pasada para poder comparar dichos resultados con los de\n",
        "esta actividad, a saber, 70%, 15% y 15%, para entrenamiento, validación y prueba, respectivamente."
      ],
      "metadata": {
        "id": "7wEIOkkl9Dot"
      }
    },
    {
      "cell_type": "code",
      "source": [
        "\n",
        "# ************* Inicia la sección de agregar código:*****************************\n",
        "\n",
        "from sklearn.model_selection import train_test_split\n",
        "\n",
        "x_train, x_val_and_test, y_train, y_val_and_test = train_test_split(Xclean, Y, train_size=.70, shuffle=True, random_state=1)\n",
        "x_val, x_test, y_val, y_test = train_test_split(x_val_and_test, y_val_and_test, test_size=.50, shuffle=True, random_state=17)\n",
        "\n",
        "print('X,y Train:', len(x_train), len(y_train))      # los \"x_\" son \"list\" y los \"y_\" son \"Series\"\n",
        "print('X,y Val:', len(x_val), len(y_val))\n",
        "print('X,y Test', len(x_test), len(y_test))\n",
        "\n",
        "# *********** Termina la sección de agregar código *************\n",
        "\n",
        "\n",
        "# verificemos las dimensiones obtenidas:\n",
        "print('X,y Train:', len(x_train), len(y_train))\n",
        "print('X,y Val:', len(x_val), len(y_val))\n",
        "print('X,y Test', len(x_test), len(y_test))"
      ],
      "metadata": {
        "id": "b0SAcYdq9X0w",
        "colab": {
          "base_uri": "https://localhost:8080/"
        },
        "outputId": "ffdaecf0-6fca-4a82-9c3c-d1187351ec62"
      },
      "execution_count": 287,
      "outputs": [
        {
          "output_type": "stream",
          "name": "stdout",
          "text": [
            "X,y Train: 2100 2100\n",
            "X,y Val: 450 450\n",
            "X,y Test 450 450\n",
            "X,y Train: 2100 2100\n",
            "X,y Val: 450 450\n",
            "X,y Test 450 450\n"
          ]
        }
      ]
    },
    {
      "cell_type": "markdown",
      "source": [
        "#**Pregunta - 4:**"
      ],
      "metadata": {
        "id": "1qjKoEqiqBN1"
      }
    },
    {
      "cell_type": "markdown",
      "source": [
        "\n",
        "\n",
        "Construye tu vocabulario a continuación\n"
      ],
      "metadata": {
        "id": "jENsKiN99r3F"
      }
    },
    {
      "cell_type": "code",
      "source": [
        "from collections import Counter\n",
        "\n",
        "# Aplanar la lista de listas de tokens en una sola lista de tokens\n",
        "all_tokens = [token for sublist in x_train for token in sublist]\n",
        "\n",
        "# Contar la frecuencia de cada token\n",
        "frecuencia_tokens = Counter(all_tokens)\n",
        "\n",
        "# Crear el vocabulario: un diccionario que asigna un índice único a cada token\n",
        "vocabulario = {token: idx for idx, (token, _) in enumerate(frecuencia_tokens.items())}\n",
        "print(\"Vocabulario:\")\n",
        "print(vocabulario)\n",
        "\n",
        "\n",
        "\n",
        "\n",
        "\n",
        "\n",
        "\n"
      ],
      "metadata": {
        "colab": {
          "base_uri": "https://localhost:8080/"
        },
        "id": "QP28YDSQ5vgT",
        "outputId": "e3a5cb71-5c36-4cbc-8edc-4005072bda5a"
      },
      "execution_count": 288,
      "outputs": [
        {
          "output_type": "stream",
          "name": "stdout",
          "text": [
            "Vocabulario:\n",
            "{'his': 0, 'do': 1, 'not': 2, 'fare': 3, 'much': 4, 'good': 5, 'with': 6, 'people': 7, 'like': 8, 'morgan': 9, 'freeman': 10, 'jonah': 11, 'hill': 12, 'and': 13, 'ed': 14, 'helms': 15, 'just': 16, 'waste': 17, 'tonight': 18, 'have': 19, 'the': 20, 'elk': 21, 'filet': 22, 'special': 23, 'it': 24, 'suck': 25, 'pay': 26, 'bill': 27, 'but': 28, 'tip': 29, 'because': 30, 'felt': 31, 'server': 32, 'terrible': 33, 'job': 34, 'how': 35, 'can': 36, 'you': 37, 'call': 38, 'yourself': 39, 'steakhouse': 40, 'if': 41, 'properly': 42, 'cook': 43, 'steak': 44, 'understand': 45, 'however': 46, 'keypad': 47, 'be': 48, 'so': 49, 'tinny': 50, 'that': 51, 'sometimes': 52, 'reach': 53, 'wrong': 54, 'button': 55, 'highly': 56, 'recommend': 57, 'this': 58, 'movie': 59, 'for': 60, 'anyone': 61, 'interest': 62, 'in': 63, 'art': 64, 'poetry': 65, 'theater': 66, 'politics': 67, 'or': 68, 'japanese': 69, 'history': 70, 'place': 71, 'jewel': 72, 'las': 73, 'vegas': 74, 'exactly': 75, 'what': 76, 'hop': 77, 'to': 78, 'find': 79, 'nearly': 80, 'ten': 81, 'year': 82, 'live': 83, 'here': 84, 'great': 85, 'product': 86, 'leave': 87, 'stomach': 88, 'ache': 89, 'sick': 90, 'rest': 91, 'of': 92, 'day': 93, 'point': 94, 'your': 95, 'finger': 96, 'at': 97, 'any': 98, 'item': 99, 'on': 100, 'menu': 101, 'order': 102, 'will': 103, 'disappoint': 104, 'best': 105, 'scene': 106, 'end': 107, 'spoil': 108, 'schrader': 109, 'make': 110, 'resume': 111, 'full': 112, 'lousy': 113, 'amateurish': 114, 'film': 115, 'adapter': 116, 'provide': 117, 'enough': 118, 'charge': 119, 'current': 120, 'when': 121, 'achille': 122, 'philippa': 123, 'beautifully': 124, 'sing': 125, 'duet': 126, 'from': 127, 'don': 128, 'giovanni': 129, 'perfectly': 130, 'describe': 131, 'their': 132, 'situation': 133, 'appreciate': 134, 'subtle': 135, 'layer': 136, 'excellent': 137, 'who': 138, 'first': 139, 'timer': 140, 'think': 141, 'they': 142, 'an': 143, 'know': 144, 'pull': 145, 'pork': 146, 'could': 147, 'soooo': 148, 'delicious': 149, 'start': 150, 'review': 151, 'two': 152, 'star': 153, 'edit': 154, 'give': 155, 'only': 156, 'one': 157, 'used': 158, 'dirty': 159, 'particularly': 160, 'please': 161, 'act': 162, 'ability': 163, 'dwight': 164, 'schultz': 165, 'overall': 166, 'experience': 167, 'yeah': 168, 'pretty': 169, 'garbage': 170, 'inexcusable': 171, 'probably': 172, 'return': 173, 'phone': 174, 'perhaps': 175, 'change': 176, 'carrier': 177, 'build': 178, 'itself': 179, 'seem': 180, 'neat': 181, 'bathroom': 182, 'trippy': 183, 'would': 184, 'eat': 185, 'again': 186, 'company': 187, 'me': 188, 'restock': 189, 'fee': 190, 'still': 191, 'my': 192, 'refund': 193, 'back': 194, 'love': 195, 'highlight': 196, 'fundamental': 197, 'flaw': 198, 'legal': 199, 'process': 200, 'about': 201, 'discover': 202, 'guilt': 203, 'innocence': 204, 'rather': 205, 'present': 206, 'court': 207, 'each': 208, 'track': 209, 'command': 210, 'sentiment': 211, 'actually': 212, 'contribute': 213, 'character': 214, 'sound': 215, 'quality': 216, 'fact': 217, 'everything': 218, 'worth': 219, 'food': 220, 'price': 221, 'which': 222, 'very': 223, 'high': 224, 'house': 225, 'pair': 226, 'device': 227, 'easy': 228, 'barely': 229, 'take': 230, 'couple': 231, 'minute': 232, 'before': 233, 'voice': 234, 'dial': 235, 'feature': 236, 'totally': 237, 'grate': 238, 'nerve': 239, 'unrecommended': 240, 'educational': 241, 'child': 242, 'old': 243, 'suppose': 244, 'cheap': 245, 'popcorn': 246, 'comedy': 247, 'mean': 248, 'completely': 249, 'insult': 250, 'our': 251, 'intelligence': 252, 'write': 253, 'incredibly': 254, 'hackneyed': 255, 'border': 256, 'offensive': 257, 'use': 258, 'small': 259, 'earpiece': 260, 'stay': 261, 'well': 262, 'also': 263, 'difficult': 264, 'put': 265, 'avoid': 266, 'parent': 267, 'most': 268, 'similar': 269, 'complaint': 270, 'silently': 271, 'too': 272, 'even': 273, 'realize': 274, 'there': 275, 'after': 276, 'while': 277, 'get': 278, 'furthermore': 279, 'hour': 280, 'operation': 281, 'website': 282, 'annoy': 283, 'thing': 284, 'cover': 285, 'girl': 286, 'way': 287, 'rita': 288, 'hayworth': 289, 'up': 290, 'pedestal': 291, 'seller': 292, 'patient': 293, 'definitely': 294, 'buy': 295, 'them': 296, 'service': 297, 'exceptional': 298, 'all': 299, 'no': 300, 'ear': 301, 'loop': 302, 'need': 303, 'tiny': 304, 'purchase': 305, 'jabra': 306, 'series': 307, 'work': 308, 'flawlessly': 309, 'moto': 310, 'go': 311, 'figure': 312, 'we': 313, 'anytime': 314, 'soon': 315, 'portrayal': 316, 'family': 317, 'share': 318, 'down': 319, 'other': 320, 'bud': 321, 'play': 322, 'music': 323, 'worst': 324, 'half': 325, 'lifeoh': 326, 'gosh': 327, 'really': 328, 'want': 329, 'plantronics': 330, 'right': 331, 'many': 332, 'issue': 333, 'story': 334, 'powerful': 335, 'exploration': 336, 'nature': 337, 'man': 338, 'sangria': 339, 'glass': 340, 'wine': 341, 'ridiculous': 342, 'definitly': 343, 'par': 344, 'denny': 345, 'say': 346, 'glad': 347, 'obvious': 348, 'choice': 349, 'le': 350, 'certainly': 351, 'painfully': 352, 'dreary': 353, 'reasonable': 354, 'convention': 355, 'never': 356, 'past': 357, 'picture': 358, 'battery': 359, 'drop': 360, 'bar': 361, 'beep': 362, 'let': 363, 'die': 364, 'thank': 365, 'such': 366, 'yet': 367, 'hear': 368, 'mickey': 369, 'speak': 370, 'ton': 371, 'effect': 372, 'throughout': 373, 'something': 374, 'grant': 375, 'now': 376, 'huge': 377, 'crowd': 378, 'pleaser': 379, 'taco': 380, 'town': 381, 'by': 382, 'far': 383, 'away': 384, 'shrimp': 385, 'stir': 386, 'fry': 387, 'noodle': 388, 'sort': 389, 'pap': 390, 'screen': 391, 'afternoon': 392, 'punish': 393, 'unemployed': 394, 'feel': 395, 'look': 396, 'little': 397, 'transform': 398, 'organizational': 399, 'capability': 400, 'life': 401, 'whole': 402, 'lot': 403, 'why': 404, 'rat': 405, 'third': 406, 'time': 407, 'bachi': 408, 'burger': 409, 'bad': 410, 'performance': 411, 'angela': 412, 'bennett': 413, 'computer': 414, 'expert': 415, 'home': 416, 'mature': 417, 'script': 418, 'suggest': 419, 'occasionally': 420, 'bring': 421, 'into': 422, 'dramatic': 423, 'focus': 424, 'underlie': 425, 'tension': 426, 'serve': 427, 'perfect': 428, 'apart': 429, 'odd': 430, 'inappropriate': 431, 'smile': 432, 'keira': 433, 'knightley': 434, 'prone': 435, 'though': 436, 'under': 437, 'direction': 438, 'themselves': 439, 'often': 440, 'mention': 441, 'design': 442, 'behing': 443, 'headset': 444, 'comfortible': 445, 'wear': 446, 'without': 447, 'pain': 448, 'long': 449, 'remind': 450, 'huston': 451, 'top': 452, 'game': 453, 'evince': 454, 'faithful': 455, 'adaptation': 456, 'james': 457, 'joyce': 458, 'acclaim': 459, 'novella': 460, 'dead': 461, 'line': 462, 'cut': 463, 'audio': 464, 'appears': 465, 'outperform': 466, 'original': 467, 'china': 468, 'come': 469, 'ever': 470, 'manager': 471, 'help': 472, 'table': 473, 'bought': 474, 'mainly': 475, 'charger': 476, 'break': 477, 'lightweight': 478, 'works': 479, 'functionality': 480, 'awesome': 481, 'word': 482, 'customer': 483, 'bruschetta': 484, 'devine': 485, 'drivng': 486, 'along': 487, 'ring': 488, 'reason': 489, 'scallop': 490, 'dish': 491, 'quite': 492, 'appal': 493, 'value': 494, 'displeased': 495, 'utter': 496, 'crap': 497, 'quick': 498, 'replacement': 499, 'startac': 500, 'regret': 501, 'since': 502, 'wonderful': 503, 'part': 504, 'literally': 505, 'wonder': 506, 'excerpt': 507, 'run': 508, 'new': 509, 'below': 510, 'three': 511, 'then': 512, 'where': 513, 'debate': 514, 'whether': 515, 'sack': 516, 'trumpeter': 517, 'falsely': 518, 'accuse': 519, 'murder': 520, 'pure': 521, 'horror': 522, 'stupid': 523, 'does': 524, 'cingular': 525, 'att': 526, 'he': 527, 'bore': 528, 'piece': 529, 'kill': 530, 'momentum': 531, 'than': 532, 'else': 533, 'problem': 534, 'attempting': 535, 'artiness': 536, 'black': 537, 'white': 538, 'clever': 539, 'camera': 540, 'angle': 541, 'become': 542, 'more': 543, 'poor': 544, 'plot': 545, 'almost': 546, 'stopped': 547, 'madison': 548, 'ironman': 549, 'friendly': 550, 'kind': 551, 'staff': 552, 'always': 553, 'compliment': 554, 'chef': 555, 'buffet': 556, 'underwhelming': 557, 'ninja': 558, 'sushi': 559, 'next': 560, 'continue': 561, 'lady': 562, 'night': 563, 'andddd': 564, 'date': 565, 'area': 566, 'overprice': 567, 'mediocre': 568, 'foreigner': 569, 'second': 570, 'final': 571, 'blow': 572, 'atleast': 573, 'speaking': 574, 'unbearably': 575, 'predictably': 576, 'kitchy': 577, 'disappointment': 578, 'bluetooth': 579, 'market': 580, 'simply': 581, 'genius': 582, 'brick': 583, 'oven': 584, 'bread': 585, 'app': 586, 'honestly': 587, 'linksys': 588, 'should': 589, 'some': 590, 'exchange': 591, 'refurb': 592, 'unit': 593, 'wait': 594, 'downright': 595, 'chip': 596, 'someone': 597, 'involve': 598, 'string': 599, 'together': 600, 'narrative': 601, 'shot': 602, 'southern': 603, 'california': 604, 'desert': 605, 'patent': 606, 'faux': 607, 'documentary': 608, 'style': 609, 'watkins': 610, 'create': 611, 'week': 612, 'stop': 613, 'extremely': 614, 'slow': 615, 'forever': 616, 'anything': 617, 'receive': 618, 'pita': 619, 'meat': 620, 'thumb': 621, 'hit': 622, 'spot': 623, 'healthy': 624, 'lack': 625, 'quantity': 626, 'flavor': 627, 'utterly': 628, 'confuse': 629, 'cause': 630, 'lose': 631, 'important': 632, 'contact': 633, 'super': 634, 'nice': 635, 'crazy': 636, 'downtown': 637, 'jury': 638, 'lawyer': 639, 'hype': 640, 'over': 641, 'assume': 642, 'mistake': 643, 'sooooo': 644, 'adventure': 645, 'pizza': 646, 'door': 647, 'restaurant': 648, 'mega': 649, 'pixel': 650, 'reasonably': 651, 'simple': 652, 'breakage': 653, 'unacceptible': 654, 'hand': 655, 'free': 656, 'tool': 657, 'single': 658, 'sour': 659, 'note': 660, 'strike': 661, 'either': 662, 'surprisingly': 663, 'solid': 664, 'cast': 665, 'igo': 666, 'pied': 667, 'off': 668, 'rating': 669, 'out': 670, 'money': 671, 'brain': 672, 'attempt': 673, 'primal': 674, 'impulse': 675, 'care': 676, 'restored': 677, 'mortify': 678, 'reception': 679, 'through': 680, 'kid': 681, 'average': 682, 'main': 683, 'person': 684, 'low': 685, 'budget': 686, 'clearly': 687, 'see': 688, 'bother': 689, 'verizon': 690, 'ago': 691, 'drag': 692, 'hero': 693, 'freedom': 694, 'rate': 695, 'dumb': 696, 'pointless': 697, 'complete': 698, 'total': 699, 'whatever': 700, 'producer': 701, 'miss': 702, 'entirely': 703, 'hitchcock': 704, 'director': 705, 'translate': 706, 'earbud': 707, 'easily': 708, 'personally': 709, 'show': 710, 'learn': 711, 'compromise': 712, 'self': 713, 'might': 714, 'defect': 715, 'risk': 716, 'alone': 717, 'helen': 718, 'baxendale': 719, 'credible': 720, 'macbeth': 721, 'cheerfull': 722, 'she': 723, 'naughty': 724, 'deadly': 725, 'her': 726, 'taste': 727, 'blood': 728, 'evil': 729, 'last': 730, 'particular': 731, 'model': 732, 'motorola': 733, 'smartphone': 734, 'melville': 735, 'nothing': 736, 'remake': 737, 'friends': 738, 'wedding': 739, 'advise': 740, 'everyone': 741, 'fooled': 742, 'realistic': 743, 'world': 744, 'ballet': 745, 'repertory': 746, 'pathetic': 747, 'sets': 748, 'big': 749, 'scale': 750, 'death': 751, 'decay': 752, 'shakespears': 753, 'lyric': 754, 'apparently': 755, 'salt': 756, 'batter': 757, 'fish': 758, 'chewy': 759, 'actress': 760, 'june': 761, 'allison': 762, 'fantastic': 763, 'direct': 764, 'pretentious': 765, 'samsung': 766, 'crappy': 767, 'seeen': 768, 'venture': 769, 'same': 770, 'real': 771, 'scare': 772, 'rent': 773, 'leopard': 774, 'print': 775, 'wonderfully': 776, 'wild': 777, 'poorly': 778, 'construct': 779, 'navigate': 780, 'recess': 781, 'push': 782, 'relate': 783, 'hell': 784, 'owner': 785, 'courteous': 786, 'wrongly': 787, 'advertise': 788, 'few': 789, 'woa': 790, 'talk': 791, 'awful': 792, 'honeslty': 793, 'fresh': 794, 'funny': 795, 'phoenix': 796, 'metro': 797, 'body': 798, 'soul': 799, 'masterpiece': 800, 'case': 801, 'disappointing': 802, 'accessory': 803, 'manufacturer': 804, 'embarassing': 805, 'hurt': 806, 'try': 807, 'plug': 808, 'keep': 809, 'group': 810, 'claim': 811, 'handle': 812, 'condescend': 813, 'genuine': 814, 'heart': 815, 'believable': 816, 'trim': 817, 'sweet': 818, 'potato': 819, 'tot': 820, 'onion': 821, 'perfection': 822, 'close': 823, 'obviously': 824, 'check': 825, 'mail': 826, 'backlight': 827, 'turn': 828, 'message': 829, 'trip': 830, 'summer': 831, 'dine': 832, 'charm': 833, 'outdoor': 834, 'patio': 835, 'delightful': 836, 'impress': 837, 'extend': 838, 'network': 839, 'coverage': 840, 'los': 841, 'angeles': 842, 'horrible': 843, 'until': 844, 'four': 845, 'absolutely': 846, 'hilarious': 847, 'watch': 848, 'color': 849, 'graphic': 850, 'sharp': 851, 'rubbish': 852, 'continuity': 853, 'error': 854, 'user': 855, 'comment': 856, 'different': 857, 'car': 858, 'garage': 859, 'joe': 860, 'facial': 861, 'hair': 862, 'configuration': 863, 'attentive': 864, 'happy': 865, 'cape': 866, 'cod': 867, 'ravoli': 868, 'chicken': 869, 'cranberry': 870, 'mmmm': 871, 'kathy': 872, 'bates': 873, 'desperation': 874, 'escapism': 875, 'variation': 876, 'fields': 877, 'lord': 878, 'irritate': 879, 'entire': 880, 'drama': 881, 'thoroughly': 882, 'enjoy': 883, 'myself': 884, 'having': 885, 'trouble': 886, 'volume': 887, 'ms': 888, 'anne': 889, 'heche': 890, 'convince': 891, 'stuff': 892, 'fan': 893, 'giallo': 894, 'cinema': 895, 'keyboard': 896, 'between': 897, 'qwerty': 898, 'basic': 899, 'cell': 900, 'number': 901, 'exemplar': 902, 'set': 903, 'designer': 904, 'age': 905, 'although': 906, 'young': 907, 'reference': 908, 'galley': 909, 'cradle': 910, 'headphone': 911, 'kit': 912, 'every': 913, 'tell': 914, 'edge': 915, 'th': 916, 'recently': 917, 'caballero': 918, 'waiter': 919, 'helpful': 920, 'bloddy': 921, 'mary': 922, 'finally': 923, 'mind': 924, 'brilliance': 925, 'depict': 926, 'lilt': 927, 'step': 928, 'joy': 929, 'hope': 930, 'human': 931, 'race': 932, 'seriously': 933, 'killer': 934, 'hot': 935, 'chai': 936, 'latte': 937, 'premise': 938, 'sideline': 939, 'inexplicable': 940, 'crew': 941, 'bus': 942, 'boy': 943, 'rude': 944, 'interplay': 945, 'martin': 946, 'emilio': 947, 'contain': 948, 'chemistry': 949, 'saw': 950, 'wall': 951, 'street': 952, 'charlie': 953, 'connection': 954, 'informative': 955, 'suspense': 956, 'frustration': 957, 'retard': 958, 'humor': 959, 'pitiful': 960, 'dosen': 961, 'bear': 962, 'basically': 963, 'vulcan': 964, 'steal': 965, 'enterprise': 966, 'god': 967, 'oh': 968, 'uhura': 969, 'belly': 970, 'dance': 971, 'distract': 972, 'male': 973, 'guard': 974, 'read': 975, 'characters': 976, 'guy': 977, 'especially': 978, 'dialog': 979, 'shallow': 980, 'insincere': 981, 'deal': 982, 'tremendously': 983, 'selection': 984, 'beer': 985, 'omelets': 986, 'roll': 987, 'eye': 988, 'may': 989, 'sure': 990, 'mostly': 991, 'due': 992, 'rice': 993, 'sensitivity': 994, 'treatment': 995, 'ship': 996, 'promptly': 997, 'plan': 998, 'cool': 999, 'deserve': 1000, 'another': 1001, 'punch': 1002, 'face': 1003, 'gallon': 1004, 'spew': 1005, 'forth': 1006, 'guess': 1007, 'nobody': 1008, 'air': 1009, 'dribble': 1010, 'redeem': 1011, 'inexpensive': 1012, 'hockey': 1013, 'defensemen': 1014, 'goalie': 1015, 'dive': 1016, 'foot': 1017, 'wide': 1018, 'net': 1019, 'etc': 1020, 'ha': 1021, 'bay': 1022, 'bite': 1023, 'flop': 1024, 'wow': 1025, 'spicy': 1026, 'drive': 1027, 'tucson': 1028, 'conclusion': 1029, 'volcano': 1030, 'nonsense': 1031, 'mother': 1032, 'must': 1033, 'tap': 1034, 'episode': 1035, 'buyer': 1036, 'beware': 1037, 'flush': 1038, 'toilet': 1039, 'extra': 1040, 'originally': 1041, 'late': 1042, 'discard': 1043, 'scratch': 1044, 'hence': 1045, 'title': 1046, 'lasted': 1047, 'hook': 1048, 'needless': 1049, 'unnecessary': 1050, 'trainroller': 1051, 'coaster': 1052, 'fit': 1053, 'was': 1054, 'fridays': 1055, 'pleasure': 1056, 'him': 1057, 'attitude': 1058, 'towards': 1059, 'fine': 1060, 'least': 1061, 'pas': 1062, 'arrive': 1063, 'busy': 1064, 'download': 1065, 'these': 1066, 'laptop': 1067, 'ir': 1068, 'send': 1069, 'concrete': 1070, 'knock': 1071, 'wood': 1072, 'strip': 1073, 'negative': 1074, 'insipid': 1075, 'front': 1076, 'wife': 1077, 'roast': 1078, 'garlic': 1079, 'bone': 1080, 'marrow': 1081, 'add': 1082, 'meal': 1083, 'relationship': 1084, 'bakery': 1085, 'assistant': 1086, 'waitress': 1087, 'setup': 1088, 'smoothly': 1089, 'inspiration': 1090, 'overcome': 1091, 'fear': 1092, 'rejection': 1093, 'grill': 1094, 'tender': 1095, 'yellow': 1096, 'saffron': 1097, 'season': 1098, 'juano': 1099, 'hernandez': 1100, 'actor': 1101, 'support': 1102, 'role': 1103, 'era': 1104, 'proud': 1105, 'south': 1106, 'cost': 1107, 'atmosphere': 1108, 'fun': 1109, 'chinese': 1110, 'cheesecurds': 1111, 'beat': 1112, 'negatively': 1113, 'occupy': 1114, 'peak': 1115, 'paper': 1116, 'instead': 1117, 'happen': 1118, 'during': 1119, 'columbo': 1120, 'post': 1121, 'detail': 1122, 'grey': 1123, 'fire': 1124, 'red': 1125, 'bipolarity': 1126, 'ruthless': 1127, 'thug': 1128, 'diaper': 1129, 'commercial': 1130, 'unconvincing': 1131, 'cocktail': 1132, 'handmade': 1133, 'slight': 1134, 'uniqueness': 1135, 'tater': 1136, 'southwest': 1137, 'julian': 1138, 'fellowes': 1139, 'triumph': 1140, 'dialogue': 1141, 'compose': 1142, 'sense': 1143, 'unfortunately': 1144, 'leftover': 1145, 'stale': 1146, 'both': 1147, 'song': 1148, 'explain': 1149, 'emotion': 1150, 'subject': 1151, 'jay': 1152, 'adams': 1153, 'unfortunate': 1154, 'neil': 1155, 'evoke': 1156, 'expect': 1157, 'consumer': 1158, 'macarons': 1159, 'insanely': 1160, 'store': 1161, 'nokia': 1162, 'sony': 1163, 'ericsson': 1164, 'once': 1165, 'son': 1166, 'open': 1167, 'sandwich': 1168, 'satifying': 1169, 'success': 1170, 'depend': 1171, 'sydney': 1172, 'greenstreet': 1173, 'alexander': 1174, 'yardley': 1175, 'loud': 1176, 'speaker': 1177, 'size': 1178, 'din': 1179, 'decide': 1180, 'touch': 1181, 'tuna': 1182, 'sashimi': 1183, 'brownish': 1184, 'video': 1185, 'decent': 1186, 'plain': 1187, 'john': 1188, 'wayne': 1189, 'result': 1190, 'bark': 1191, 'mad': 1192, 'sounds': 1193, 'effective': 1194, 'its': 1195, 'drink': 1196, 'empty': 1197, 'suggestion': 1198, 'join': 1199, 'club': 1200, 'offer': 1201, 'via': 1202, 'email': 1203, 'fits': 1204, 'comfortably': 1205, 'blueant': 1206, 'supertooth': 1207, 'president': 1208, 'asleep': 1209, 'insomniac': 1210, 'sad': 1211, 'rough': 1212, 'draft': 1213, 'shoot': 1214, 'begin': 1215, 'finish': 1216, 'lots': 1217, 'hole': 1218, 'description': 1219, 'yum': 1220, 'sauce': 1221, 'eel': 1222, 'mayo': 1223, 'none': 1224, 'reveal': 1225, 'complexity': 1226, 'task': 1227, 'incredible': 1228, 'challenge': 1229, 'africa': 1230, 'pillow': 1231, 'girlfriendboyfriend': 1232, 'anyways': 1233, 'fill': 1234, 'action': 1235, 'told': 1236, 'had': 1237, 'happened': 1238, 'badly': 1239, 'underwater': 1240, 'repeat': 1241, 'thousand': 1242, 'recognition': 1243, 'thru': 1244, 'handset': 1245, 'indeed': 1246, 'unconditional': 1247, 'stereo': 1248, 'boring': 1249, 'darn': 1250, 'twice': 1251, 'hereas': 1252, 'tribute': 1253, 'event': 1254, 'hold': 1255, 'convenient': 1256, 'mgm': 1257, 'stun': 1258, 'salads': 1259, 'officially': 1260, 'lunch': 1261, 'today': 1262, 'positive': 1263, 'diverse': 1264, 'aluminum': 1265, 'palm': 1266, 'vx': 1267, 'protect': 1268, 'handheld': 1269, 'comfortable': 1270, 'sleek': 1271, 'impressive': 1272, 'practical': 1273, 'ample': 1274, 'storage': 1275, 'atrocious': 1276, 'postinos': 1277, 'gyro': 1278, 'lettuce': 1279, 'believe': 1280, 'unexperienced': 1281, 'employee': 1282, 'around': 1283, 'head': 1284, 'breakfast': 1285, 'sat': 1286, 'sun': 1287, 'ipods': 1288, 'serious': 1289, 'regrettably': 1290, 'fail': 1291, 'strong': 1292, 'unpleasant': 1293, 'month': 1294, 'sudden': 1295, 'rare': 1296, 'worthy': 1297, 'moral': 1298, 'tale': 1299, 'fall': 1300, 'trap': 1301, 'overly': 1302, 'syrupy': 1303, 'indulgent': 1304, 'sit': 1305, 'ask': 1306, 'artist': 1307, 'kevin': 1308, 'spacey': 1309, 'verbal': 1310, 'tsunami': 1311, 'buddy': 1312, 'ackerman': 1313, 'hard': 1314, 'plastic': 1315, 'wish': 1316, 'jamaican': 1317, 'mojitos': 1318, 'essentially': 1319, 'forget': 1320, 'microsoft': 1321, 'tech': 1322, 'flavorful': 1323, 'amount': 1324, 'heat': 1325, 'thumbs': 1326, 'tear': 1327, 'timely': 1328, 'shipment': 1329, 'trash': 1330, 'damn': 1331, 'generic': 1332, 'pros': 1333, 'large': 1334, 'seat': 1335, 'homemade': 1336, 'dough': 1337, 'strange': 1338, 'tick': 1339, 'noise': 1340, 'plus': 1341, 'suit': 1342, 'relatively': 1343, 'short': 1344, 'term': 1345, 'bold': 1346, 'steamboat': 1347, 'willie': 1348, 'amazingly': 1349, 'software': 1350, 'own': 1351, 'ringtones': 1352, 'form': 1353, 'exist': 1354, 'cds': 1355, 'internet': 1356, 'score': 1357, 'pad': 1358, 'player': 1359, 'mesmerise': 1360, 'joint': 1361, 'lg': 1362, 'range': 1363, 'exceed': 1364, 'sight': 1365, 'vibe': 1366, 'junk': 1367, 'clean': 1368, 'suffer': 1369, 'italian': 1370, 'reviewer': 1371, 'protection': 1372, 'bulky': 1373, 'quickly': 1374, 'scar': 1375, 'medical': 1376, 'terminology': 1377, 'iffy': 1378, 'insulin': 1379, 'dependant': 1380, 'diabetic': 1381, 'shame': 1382, 'thomerson': 1383, 'mess': 1384, 'groove': 1385, 'antithesis': 1386, 'traffic': 1387, 'mark': 1388, 'sign': 1389, 'functional': 1390, 'rumble': 1391, 'machine': 1392, 'desperately': 1393, 'addition': 1394, 'cinematography': 1395, 'supposedly': 1396, 'match': 1397, 'summary': 1398, 'witticism': 1399, 'witty': 1400, 'gooodd': 1401, 'lassie': 1402, 'sleep': 1403, 'transfer': 1404, 'constantly': 1405, 'humorous': 1406, 'jessice': 1407, 'lange': 1408, 'clothe': 1409, 'walk': 1410, 'fast': 1411, 'bland': 1412, 'bean': 1413, 'evidently': 1414, 'limit': 1415, 'writer': 1416, 'smack': 1417, 'bonus': 1418, 'marriage': 1419, 'captain': 1420, 'laughable': 1421, 'theatre': 1422, 'relief': 1423, 'popular': 1424, 'reaction': 1425, 'plenty': 1426, 'laugh': 1427, 'unwrap': 1428, 'mile': 1429, 'brushfire': 1430, 'ice': 1431, 'cold': 1432, 'misplace': 1433, 'warning': 1434, 'general': 1435, 'loewenhielm': 1436, 'exquisite': 1437, 'partake': 1438, 'cailles': 1439, 'en': 1440, 'sarcophage': 1441, 'sample': 1442, 'savor': 1443, 'initially': 1444, 'local': 1445, 'buffalo': 1446, 'intrigue': 1447, 'treat': 1448, 'equally': 1449, 'carly': 1450, 'daily': 1451, 'as': 1452, 'canada': 1453, 'aye': 1454, 'dollar': 1455, 'lesson': 1456, 'online': 1457, 'anyway': 1458, 'sturdy': 1459, 'slowly': 1460, 'despite': 1461, 'assure': 1462, 'grind': 1463, 'smear': 1464, 'pile': 1465, 'green': 1466, 'bird': 1467, 'poop': 1468, 'spend': 1469, 'worked': 1470, 'treo': 1471, 'skype': 1472, 'pc': 1473, 'usb': 1474, 'transceiver': 1475, 'smudge': 1476, 'predictable': 1477, 'indication': 1478, 'meld': 1479, 'volatile': 1480, 'temperament': 1481, 'seamless': 1482, 'union': 1483, 'creativity': 1484, 'coupon': 1485, 'amazon': 1486, 'early': 1487, 'stink': 1488, 'clear': 1489, 'pace': 1490, 'fx': 1491, 'hang': 1492, 'standout': 1493, 'gratuity': 1494, 'party': 1495, 'attack': 1496, 'excuse': 1497, 'outside': 1498, 'worker': 1499, 'crawfish': 1500, 'salad': 1501, 'vinegrette': 1502, 'baby': 1503, 'satisfy': 1504, 'mandalay': 1505, 'brunch': 1506, 'kieslowski': 1507, 'cease': 1508, 'amaze': 1509, 'flipphones': 1510, 'greasy': 1511, 'unhealthy': 1512, 'razr': 1513, 'alert': 1514, 'decipher': 1515, 'leather': 1516, 'phrase': 1517, 'conflict': 1518, 'owe': 1519, 'maybe': 1520, 'explanation': 1521, 'atrocity': 1522, 'undercooked': 1523, 'dry': 1524, 'freezing': 1525, 'invite': 1526, 'racial': 1527, 'stereotype': 1528, 'joke': 1529, 'offend': 1530, 'catch': 1531, 'judge': 1532, 'inspire': 1533, 'cult': 1534, 'classic': 1535, 'got': 1536, 'those': 1537, 'slimy': 1538, 'drool': 1539, 'teeth': 1540, 'light': 1541, 'sensor': 1542, 'above': 1543, 'outlet': 1544, 'type': 1545, 'christopher': 1546, 'eccleston': 1547, 'control': 1548, 'tardis': 1549, 'continuation': 1550, 'jerky': 1551, 'camerawork': 1552, 'waterproof': 1553, 'widmark': 1554, 'unintentionally': 1555, 'comical': 1556, 'tried': 1557, 'madhouse': 1558, 'sim': 1559, 'aspect': 1560, 'dull': 1561, 'uninteresting': 1562, 'forgettable': 1563, 'disappointed': 1564, 'expensive': 1565, 'replace': 1566, 'operate': 1567, 'others': 1568, 'wasted': 1569, 'include': 1570, 'massive': 1571, 'meatloaf': 1572, 'crispy': 1573, 'wrap': 1574, 'delish': 1575, 'melt': 1576, 'tasty': 1577, 'portion': 1578, 'intelligent': 1579, 'masterful': 1580, 'imagination': 1581, 'courtroom': 1582, 'compel': 1583, 'indictment': 1584, 'american': 1585, 'justice': 1586, 'system': 1587, 'frighten': 1588, 'neither': 1589, 'fond': 1590, 'magnetic': 1591, 'strap': 1592, 'us': 1593, 'unless': 1594, 'converter': 1595, 'competent': 1596, 'jerry': 1597, 'falwell': 1598, 'vivian': 1599, 'schilling': 1600, 'traditional': 1601, 'hunan': 1602, 'trumbull': 1603, 'lucy': 1604, 'attention': 1605, 'complex': 1606, 'psychological': 1607, 'loyalty': 1608, 'treachery': 1609, 'tremendous': 1610, 'connect': 1611, 'pocket': 1612, 'mom': 1613, 'pop': 1614, 'shop': 1615, 'san': 1616, 'francisco': 1617, 'notable': 1618, 'gore': 1619, 'trunk': 1620, 'carry': 1621, 'conversation': 1622, 'hitch': 1623, 'saggy': 1624, 'floppy': 1625, 'considering': 1626, 'relation': 1627, 'taylor': 1628, 'stanwyck': 1629, 'surprise': 1630, 'save': 1631, 'specially': 1632, 'side': 1633, 'inexperience': 1634, 'jason': 1635, 'connery': 1636, 'move': 1637, 'monolog': 1638, 'brief': 1639, 'candle': 1640, 'outhe': 1641, 'sphere': 1642, 'dark': 1643, 'force': 1644, 'adhesive': 1645, 'warranty': 1646, 'reoccure': 1647, 'bottom': 1648, 'somewhere': 1649, 'lame': 1650, 'clarity': 1651, 'whiny': 1652, 'steve': 1653, 'deliver': 1654, 'upper': 1655, 'class': 1656, 'uptight': 1657, 'lovely': 1658, 'duo': 1659, 'violinist': 1660, 'request': 1661, 'sorely': 1662, 'jalapeno': 1663, 'bacon': 1664, 'opportunity': 1665, 'besides': 1666, 'costco': 1667, 'strawberry': 1668, 'tea': 1669, 'telephone': 1670, 'repair': 1671, 'nut': 1672, 'bitchy': 1673, 'bos': 1674, 'truly': 1675, 'hands': 1676, 'thai': 1677, 'visit': 1678, 'folk': 1679, 'condition': 1680, 'aailiyah': 1681, 'akasha': 1682, 'entrance': 1683, 'mini': 1684, 'tv': 1685, 'stranger': 1686, 'clip': 1687, 'dissapointing': 1688, 'worthless': 1689, 'crash': 1690, 'depress': 1691, 'provoke': 1692, 'teach': 1693, 'already': 1694, 'racism': 1695, 'prejudice': 1696, 'balance': 1697, 'overact': 1698, 'underact': 1699, 'tasteless': 1700, 'sam': 1701, 'shepard': 1702, 'gung': 1703, 'ho': 1704, 'marine': 1705, 'sober': 1706, 'everyday': 1707, 'mine': 1708, 'christmas': 1709, 'dock': 1710, 'station': 1711, 'moist': 1712, 'brother': 1713, 'law': 1714, 'mall': 1715, 'soundtrack': 1716, 'realise': 1717, 'woman': 1718, 'improvement': 1719, 'cartoon': 1720, 'sitcom': 1721, 'orient': 1722, 'teenager': 1723, 'waited': 1724, 'numerous': 1725, 'victor': 1726, 'mclaglen': 1727, 'brian': 1728, 'donlevy': 1729, 'unrecognizable': 1730, 'holster': 1731, 'photo': 1732, 'ad': 1733, 'merit': 1734, 'level': 1735, 'akin': 1736, 'torture': 1737, 'vanilla': 1738, 'cream': 1739, 'creamy': 1740, 'smooth': 1741, 'profiterole': 1742, 'chou': 1743, 'pastry': 1744, 'brilliant': 1745, 'flavourful': 1746, 'appearance': 1747, 'mouse': 1748, 'follow': 1749, 'silent': 1750, 'plane': 1751, 'famous': 1752, 'crack': 1753, 'gem': 1754, 'against': 1755, 'screenplay': 1756, 'visual': 1757, 'expression': 1758, 'celebration': 1759, 'patriotism': 1760, 'underline': 1761, 'hat': 1762, 'coconut': 1763, 'friend': 1764, 'errol': 1765, 'flynn': 1766, 'custer': 1767, 'favourite': 1768, 'glance': 1769, 'cafe': 1770, 'ambiance': 1771, 'switch': 1772, 'critical': 1773, 'greedy': 1774, 'corporation': 1775, 'dime': 1776, 'squib': 1777, 'travled': 1778, 'swivel': 1779, 'blackberry': 1780, 'flip': 1781, 'sprint': 1782, 'dinner': 1783, 'lewis': 1784, 'considerable': 1785, 'talent': 1786, 'incendiary': 1787, 'unrestrained': 1788, 'allow': 1789, 'promote': 1790, 'donut': 1791, 'beautiful': 1792, 'construction': 1793, 'pasta': 1794, 'angry': 1795, 'pho': 1796, 'commentary': 1797, 'undoubtedly': 1798, 'luck': 1799, 'management': 1800, 'verge': 1801, 'elaborately': 1802, 'aesthetically': 1803, 'sculpture': 1804, 'bell': 1805, 'sink': 1806, 'ac': 1807, 'juice': 1808, 'highy': 1809, 'freeze': 1810, 'margarita': 1811, 'sugary': 1812, 'starve': 1813, 'click': 1814, 'mechanism': 1815, 'accomodate': 1816, 'veganveggie': 1817, 'option': 1818, 'water': 1819, 'thriller': 1820, 'manage': 1821, 'transcend': 1822, 'limitation': 1823, 'indie': 1824, 'flick': 1825, 'continually': 1826, 'subvert': 1827, 'expectation': 1828, 'emerge': 1829, 'intense': 1830, 'astronaut': 1831, 'doctor': 1832, 'consider': 1833, 'war': 1834, 'ussr': 1835, 'robotic': 1836, 'artless': 1837, 'endlessly': 1838, 'ugly': 1839, 'imaginable': 1840, 'pack': 1841, 'pleather': 1842, 'development': 1843, 'depth': 1844, 'excelent': 1845, 'mislead': 1846, 'remember': 1847, 'ray': 1848, 'charles': 1849, 'himself': 1850, 'damian': 1851, 'talented': 1852, 'versatile': 1853, 'portray': 1854, 'emptiness': 1855, 'decor': 1856, 'piano': 1857, 'pleasant': 1858, 'barney': 1859, 'de': 1860, 'duper': 1861, 'magical': 1862, 'trust': 1863, 'han': 1864, 'nan': 1865, 'bethe': 1866, 'refuse': 1867, 'did': 1868, 'waiting': 1869, 'recieve': 1870, 'indian': 1871, 'naan': 1872, 'hummus': 1873, 'pine': 1874, 'performed': 1875, 'muffle': 1876, 'incoming': 1877, 'severe': 1878, 'echo': 1879, 'doughy': 1880, 'flavorless': 1881, 'elsewhere': 1882, 'whistle': 1883, 'fliptop': 1884, 'loose': 1885, 'wobbly': 1886, 'eventually': 1887, 'upstairs': 1888, 'basement': 1889, 'applause': 1890, 'prelude': 1891, 'boyfriend': 1892, 'oyster': 1893, 'customize': 1894, 'usual': 1895, 'eggplant': 1896, 'ordered': 1897, 'appetizer': 1898, 'twist': 1899, 'satisifed': 1900, 'prove': 1901, 'impeccable': 1902, 'regularly': 1903, 'awkward': 1904, 'cow': 1905, 'gristle': 1906, 'fat': 1907, 'aside': 1908, 'lead': 1909, 'load': 1910, 'debit': 1911, 'nobu': 1912, 'billy': 1913, 'bob': 1914, 'rise': 1915, 'whine': 1916, 'wind': 1917, 'lion': 1918, 'render': 1919, 'america': 1920, 'imperial': 1921, 'pan': 1922, 'cake': 1923, 'rave': 1924, 'disaster': 1925, 'tailor': 1926, 'palate': 1927, 'six': 1928, 'beyond': 1929, 'abysmal': 1930, 'unfunny': 1931, 'unrealistic': 1932, 'buldogis': 1933, 'gourmet': 1934, 'dog': 1935, 'possible': 1936, 'loved': 1937, 'biscuit': 1938, 'unmatched': 1939, 'recent': 1940, 'idea': 1941, 'minor': 1942, 'tone': 1943, 'package': 1944, 'nicely': 1945, 'damage': 1946, 'puppet': 1947, 'cheesy': 1948, 'master': 1949, 'generous': 1950, 'whoever': 1951, 'presentation': 1952, 'lover': 1953, 'honest': 1954, 'yama': 1955, 'def': 1956, 'bowl': 1957, 'majority': 1958, 'logitech': 1959, 'legendary': 1960, 'cute': 1961, 'quaint': 1962, 'hate': 1963, 'earbugs': 1964, 'prepare': 1965, 'weekend': 1966, 'greek': 1967, 'dress': 1968, 'refresh': 1969, 'capacity': 1970, 'confortable': 1971, 'somewhat': 1972, 'period': 1973, 'vegetarian': 1974, 'relax': 1975, 'view': 1976, 'dylan': 1977, 'recommendation': 1978, 'yummy': 1979, 'tummy': 1980, 'uncomfortable': 1981, 'compare': 1982, 'previous': 1983, 'wire': 1984, 'omit': 1985, 'interior': 1986, 'improve': 1987, 'improvisation': 1988, 'worry': 1989, 'within': 1990, 'olive': 1991, 'tracfone': 1992, 'thought': 1993, 'key': 1994, 'shelf': 1995, 'fix': 1996, 'agree': 1997, 'presence': 1998, 'shin': 1999, 'senior': 2000, 'distinction': 2001, 'father': 2002, 'cable': 2003, 'ipod': 2004, 'several': 2005, 'kris': 2006, 'kristoffersen': 2007, 'difference': 2008, 'lense': 2009, 'drastically': 2010, 'boot': 2011, 'zero': 2012, 'craft': 2013, 'paul': 2014, 'haggis': 2015, 'stroke': 2016, 'storytelling': 2017, 'paint': 2018, 'crayon': 2019, 'brand': 2020, 'unoriginal': 2021, 'martini': 2022, 'subway': 2023, 'meet': 2024, 'palms': 2025, 'mishima': 2026, 'classywarm': 2027, 'succulent': 2028, 'baseball': 2029, 'superb': 2030, 'immediately': 2031, 'display': 2032, 'went': 2033, 'cheat': 2034, 'gross': 2035, 'dessert': 2036, 'dislike': 2037, 'instal': 2038, 'overnite': 2039, 'hawaiian': 2040, 'breeze': 2041, 'mango': 2042, 'magic': 2043, 'pineapple': 2044, 'delight': 2045, 'smoothy': 2046, 'example': 2047, 'crisp': 2048, 'continuously': 2049, 'bertolucci': 2050, 'engage': 2051, 'prompt': 2052, 'bailey': 2053, 'production': 2054, 'costume': 2055, 'eiko': 2056, 'ishioka': 2057, 'memorable': 2058, 'coppola': 2059, 'dracula': 2060, 'oscar': 2061, 'interface': 2062, 'decade': 2063, 'compete': 2064, 'eew': 2065, 'location': 2066, 'overhaul': 2067, 'earphone': 2068, 'comfort': 2069, 'procedure': 2070, 'wipe': 2071, 'data': 2072, 'waaaaaayyyyyyyyyy': 2073, 'honor': 2074, 'hut': 2075, 'pale': 2076, 'char': 2077, 'update': 2078, 'true': 2079, 'shakespear': 2080, 'eve': 2081, 'possesed': 2082, 'written': 2083, 'fifteen': 2084, 'um': 2085, 'background': 2086, 'sweetest': 2087, 'chick': 2088, 'warmth': 2089, 'generate': 2090, 'contrast': 2091, 'austere': 2092, 'backdrop': 2093, 'spacek': 2094, 'coal': 2095, 'miner': 2096, 'daughter': 2097, 'quaid': 2098, 'balls': 2099, 'needlessly': 2100, 'throw': 2101, 'whatsoever': 2102, 'vehicle': 2103, 'corn': 2104, 'flakes': 2105, 'box': 2106, 'directorial': 2107, 'stupidity': 2108, 'ball': 2109, 'sals': 2110, 'storm': 2111, 'trooper': 2112, 'list': 2113, 'indescribably': 2114, 'idiotic': 2115, 'rank': 2116, 'among': 2117, 'ignore': 2118, 'hybrid': 2119, 'palmtopcameracellphone': 2120, 'excel': 2121, 'armand': 2122, 'assante': 2123, 'choke': 2124, 'vomit': 2125, 'dustpan': 2126, 'indoors': 2127, 'disposable': 2128, 'unreliable': 2129, 'shout': 2130, 'flat': 2131, 'audience': 2132, 'whom': 2133, 'regardless': 2134, 'rip': 2135, 'banana': 2136, 'petrify': 2137, 'min': 2138, 'milkshake': 2139, 'chocolate': 2140, 'milk': 2141, 'deeply': 2142, 'gorman': 2143, 'bechard': 2144, 'homework': 2145, 'industry': 2146, 'appropriate': 2147, 'downside': 2148, 'nevsky': 2149, 'fondue': 2150, 'edible': 2151, 'cinematic': 2152, 'capture': 2153, 'celluloid': 2154, 'movement': 2155, 'voodoo': 2156, 'gluten': 2157, 'wing': 2158, 'format': 2159, 'baaaaaad': 2160, 'cingulair': 2161, 'notice': 2162, 'seperated': 2163, 'mere': 2164, 'ft': 2165, 'excessive': 2166, 'static': 2167, 'garble': 2168, 'complain': 2169, 'veteran': 2170, 'nostalgia': 2171, 'certain': 2172, 'energy': 2173, 'shelve': 2174, 'jamie': 2175, 'foxx': 2176, 'is': 2177, 'pricing': 2178, 'concern': 2179, 'mellow': 2180, 'mushroom': 2181, 'delivery': 2182, 'european': 2183, 'crêpe': 2184, 'delicate': 2185, 'thin': 2186, 'bose': 2187, 'cancel': 2188, 'nyc': 2189, 'commuter': 2190, 'cumbersome': 2191, 'convey': 2192, 'broad': 2193, 'sweep': 2194, 'landscape': 2195, 'ryan': 2196, 'edinburgh': 2197, 'establishment': 2198, 'revisit': 2199, 'host': 2200, 'monotonous': 2201, 'guest': 2202, 'eargels': 2203, 'channel': 2204, 'directly': 2205, 'increase': 2206, 'sundays': 2207, 'march': 2208, 'ben': 2209, 'affleck': 2210, 'sandra': 2211, 'bullock': 2212, 'award': 2213, 'reservation': 2214, 'instruction': 2215, 'manual': 2216, 'accompany': 2217, 'outlandish': 2218, 'array': 2219, 'psychotic': 2220, 'lovable': 2221, 'actors': 2222, 'animal': 2223, 'integration': 2224, 'skilled': 2225, 'better': 2226, 'tapa': 2227, 'omg': 2228, 'delicioso': 2229, 'improper': 2230, 'trek': 2231, 'frontier': 2232, 'hungry': 2233, 'rotate': 2234, 'microphone': 2235, 'accord': 2236, 'applifies': 2237, 'spaghetti': 2238, 'am': 2239, 'az': 2240, 'tough': 2241, 'dignity': 2242, 'grace': 2243, 'course': 2244, 'shock': 2245, 'spoiler': 2246, 'enter': 2247, 'admins': 2248, 'conceptually': 2249, 'everybody': 2250, 'fantasy': 2251, 'andor': 2252, 'were': 2253, 'jerks': 2254, 'storyline': 2255, 'seafood': 2256, 'boil': 2257, 'crab': 2258, 'leg': 2259, 'ambience': 2260, 'linda': 2261, 'cardellini': 2262, 'kindle': 2263, 'fourth': 2264, 'hated': 2265, 'counterfeit': 2266, 'smart': 2267, 'genuinely': 2268, 'enthusiastic': 2269, 'french': 2270, 'cancan': 2271, 'boast': 2272, 'content': 2273, 'dozen': 2274, 'regular': 2275, 'kabuki': 2276, 'contract': 2277, 'subplots': 2278, 'native': 2279, 'brainsucking': 2280, 'foodservice': 2281, 'owl': 2282, 'adorable': 2283, 'campy': 2284, 'ease': 2285, 'cutie': 2286, 'smell': 2287, 'disgust': 2288, 'items': 2289, 'state': 2290, 'are': 2291, 'included': 2292, 'significant': 2293, 'theme': 2294, 'undertone': 2295, 'fifty': 2296, 'existential': 2297, 'aerial': 2298, 'ought': 2299, 'thrill': 2300, 'ready': 2301, 'handy': 2302, 'bartender': 2303, 'book': 2304, 'actual': 2305, 'screamy': 2306, 'masculine': 2307, 'belt': 2308, 'signal': 2309, 'able': 2310, 'jawbone': 2311, 'unlockable': 2312, 'crave': 2313, 'husband': 2314, 'apologize': 2315, 'nine': 2316, 'bellagio': 2317, 'anticipate': 2318, 'footage': 2319, 'elderly': 2320, 'awkwardly': 2321, 'babble': 2322, 'overwrought': 2323, 'gibberish': 2324, 'corny': 2325, 'teen': 2326, 'goth': 2327, 'blush': 2328, 'olde': 2329, 'english': 2330, 'latin': 2331, 'journey': 2332, 'everywhere': 2333, 'filmography': 2334, 'site': 2335, 'chance': 2336, 'impossible': 2337, 'understate': 2338, 'impression': 2339, 'across': 2340, 'texture': 2341, 'letdown': 2342, 'camelback': 2343, 'flower': 2344, 'cartel': 2345, 'coffee': 2346, 'mood': 2347, 'handsfree': 2348, 'gadget': 2349, 'dysfunction': 2350, 'instant': 2351, 'catchy': 2352, 'credit': 2353, 'combo': 2354, 'poignant': 2355, 'weak': 2356, 'material': 2357, 'standard': 2358, 'forty': 2359, 'five': 2360, 'vain': 2361, 'punishment': 2362, 'park': 2363, 'excite': 2364, 'multiple': 2365, 'fascinate': 2366, 'double': 2367, 'cheeseburger': 2368, 'member': 2369, 'blue': 2370, 'guacamole': 2371, 'puréed': 2372, 'dit': 2373, 'ok': 2374, 'refill': 2375, 'pumpkin': 2376, 'pancake': 2377, 'pecan': 2378, 'butter': 2379, 'fluffy': 2380, 'mobile': 2381, 'wake': 2382, 'normal': 2383, 'perabo': 2384, 'drift': 2385, 'earth': 2386, 'prime': 2387, 'efficient': 2388, 'painful': 2389, 'unintelligible': 2390, 'beauty': 2391, 'hopefully': 2392, 'bode': 2393, 'business': 2394, 'duck': 2395, 'wonton': 2396, 'thick': 2397, 'mouth': 2398, 'tom': 2399, 'wilkinson': 2400, 'ordeal': 2401, 'matter': 2402, 'progress': 2403, 'anguish': 2404, 'egg': 2405, 'generally': 2406, 'pulling': 2407, 'mercy': 2408, 'unlike': 2409, 'wholesome': 2410, 'tiramisu': 2411, 'cannoli': 2412, 'defective': 2413, 'owners': 2414, 'quit': 2415, 'soooooo': 2416, 'freak': 2417, 'room': 2418, 'college': 2419, 'nacho': 2420, 'frozen': 2421, 'puck': 2422, 'behind': 2423, 'register': 2424, 'judith': 2425, 'favorite': 2426, 'loudspeaker': 2427, 'bumper': 2428, 'appeal': 2429, 'onethis': 2430, 'defeat': 2431, 'purpose': 2432, 'remain': 2433, 'survivor': 2434, 'ferry': 2435, 'valentine': 2436, 'solidify': 2437, 'happiness': 2438, 'deliciously': 2439, 'inside': 2440, 'interview': 2441, 'vampire': 2442, 'lestat': 2443, 'stuart': 2444, 'townsend': 2445, 'cruise': 2446, 'somehow': 2447, 'careful': 2448, 'otto': 2449, 'welcome': 2450, 'enjoyment': 2451, 'dangerous': 2452, 'largely': 2453, 'frankly': 2454, 'cotton': 2455, 'unfaithful': 2456, 'embarrass': 2457, 'lane': 2458, 'gere': 2459, 'wirefly': 2460, 'cingularatt': 2461, 'inform': 2462, 'practice': 2463, 'chipotle': 2464, 'temp': 2465, 'bare': 2466, 'glove': 2467, 'deep': 2468, 'oil': 2469, 'maria': 2470, 'correctly': 2471, 'rubber': 2472, 'ahead': 2473, 'warm': 2474, 'awsome': 2475, 'stinker': 2476, 'release': 2477, 'entertain': 2478, 'national': 2479, 'treasure': 2480, 'villain': 2481, 'michael': 2482, 'ironside': 2483, 'power': 2484, 'gave': 2485, 'crust': 2486, 'sore': 2487, 'unprofessional': 2488, 'loyal': 2489, 'patron': 2490, 'fo': 2491, 'amuse': 2492, 'interesting': 2493, 'theft': 2494, 'bank': 2495, 'holiday': 2496, 'rick': 2497, 'crowe': 2498, 'dedication': 2499, 'crostini': 2500, 'overnight': 2501, 'timeless': 2502, 'bagel': 2503, 'cheese': 2504, 'lox': 2505, 'caper': 2506, 'fireball': 2507, 'professional': 2508, 'drago': 2509, 'debbie': 2510, 'rochon': 2511, 'contributory': 2512, 'former': 2513, 'tolerable': 2514, 'authentic': 2515, 'shine': 2516, 'constantine': 2517, 'intensity': 2518, 'motivation': 2519, 'vegetable': 2520, 'overcook': 2521, 'disagree': 2522, 'fellow': 2523, 'yelpers': 2524, 'sending': 2525, 'mic': 2526, 'ridiculousness': 2527, 'neighborhood': 2528, 'jiggle': 2529, 'speakerphone': 2530, 'riingtones': 2531, 'row': 2532, 'unmoving': 2533, 'appetizers': 2534, 'ergonomic': 2535, 'theory': 2536, 'stand': 2537, 'accept': 2538, 'cassette': 2539, 'ngage': 2540, 'earbuds': 2541, 'ownerchef': 2542, 'dude': 2543, 'acknowledge': 2544, 'chipolte': 2545, 'ranch': 2546, 'dip': 2547, 'sause': 2548, 'sorry': 2549, 'sunglass': 2550, 'cuisine': 2551, 'pink': 2552, 'sucks': 2553, 'delete': 2554, 'batch': 2555, 'yay': 2556, 'crayonpencil': 2557, 'draw': 2558, 'colorful': 2559, 'fanciful': 2560, 'problemsthe': 2561, 'professor': 2562, 'insane': 2563, 'remorse': 2564, 'familiar': 2565, 'crumby': 2566, 'animation': 2567, 'dominate': 2568, 'disneypixar': 2569, 'cgi': 2570, 'miyazaki': 2571, 'rely': 2572, 'enchant': 2573, 'sea': 2574, 'vessel': 2575, 'mighty': 2576, 'frost': 2577, 'scream': 2578, 'greet': 2579, 'outstanding': 2580, 'horrendous': 2581, 'exceptionally': 2582, 'visually': 2583, 'collect': 2584, 'extant': 2585, 'austen': 2586, 'skip': 2587, 'puff': 2588, 'smoke': 2589, 'curry': 2590, 'bamboo': 2591, 'function': 2592, 'toast': 2593, 'occasional': 2594, 'pat': 2595, 'shower': 2596, 'rinse': 2597, 'nude': 2598, 'amp': 2599, 'blah': 2600, 'nasty': 2601, 'unneeded': 2602, 'controversy': 2603, 'auto': 2604, 'reverse': 2605, 'tape': 2606, 'jim': 2607, 'connor': 2608, 'energetic': 2609, 'george': 2610, 'tepid': 2611, 'voyage': 2612, 'attractive': 2613, 'frenchman': 2614, 'coming': 2615, 'routine': 2616, 'boost': 2617, 'cole': 2618, 'starter': 2619, 'wireless': 2620, 'maintain': 2621, 'monkey': 2622, 'dna': 2623, 'copy': 2624, 'things': 2625, 'personality': 2626, 'occur': 2627, 'weird': 2628, 'styrofoam': 2629, 'petty': 2630, 'waaay': 2631, 'surely': 2632, 'coherent': 2633, 'screenwriter': 2634, 'oblige': 2635, 'sum': 2636, 'superlative': 2637, 'sergeant': 2638, 'pepper': 2639, 'beef': 2640, 'auju': 2641, 'recognize': 2642, 'modest': 2643, 'cellular': 2644, 'yawn': 2645, 'precisely': 2646, 'idiot': 2647, 'produce': 2648, 'texas': 2649, 'sublime': 2650, 'flimsy': 2651, 'natural': 2652, 'upgrade': 2653, 'discount': 2654, 'effort': 2655, 'access': 2656, 'detachable': 2657, 'jack': 2658, 'surefire': 2659, 'flow': 2660, 'hoot': 2661, 'doubt': 2662, 'mexican': 2663, 'identify': 2664, 'ant': 2665, 'negligent': 2666, 'unwelcome': 2667, 'bela': 2668, 'lugosi': 2669, 'extraneous': 2670, 'intone': 2671, 'dream': 2672, 'ratio': 2673, 'unsatisfying': 2674, 'ideal': 2675, 'whose': 2676, 'sensitive': 2677, 'nigiri': 2678, 'football': 2679, 'perplex': 2680, 'article': 2681, 'spice': 2682, 'consistent': 2683, 'boba': 2684, 'overpriced': 2685, 'garbo': 2686, 'bat': 2687, 'netflix': 2688, 'stock': 2689, 'intention': 2690, 'companion': 2691, 'wooden': 2692, 'shawarrrrrrma': 2693, 'practically': 2694, 'useless': 2695, 'patty': 2696, 'upload': 2697, 'drain': 2698, 'opinion': 2699, 'entree': 2700, 'gc': 2701, 'buzz': 2702, 'override': 2703, 'securely': 2704, 'canal': 2705, 'faceplate': 2706, 'elegant': 2707, 'cg': 2708, 'sequence': 2709, 'space': 2710, 'slideshow': 2711, 'sake': 2712, 'wit': 2713, 'grease': 2714, 'extensive': 2715, 'stream': 2716, 'submerge': 2717, 'promise': 2718, 'explosion': 2719, 'gas': 2720, 'tank': 2721, 'bye': 2722, 'stretch': 2723, 'portrait': 2724, 'exterior': 2725, 'comprehensible': 2726, 'sean': 2727, 'noble': 2728, 'brigand': 2729, 'candace': 2730, 'bergen': 2731, 'feisty': 2732, 'heroine': 2733, 'wily': 2734, 'hay': 2735, 'kanaly': 2736, 'spiffy': 2737, 'radiant': 2738, 'lieutenant': 2739, 'roosevelt': 2740, 'stick': 2741, 'yes': 2742, 'require': 2743, 'idyllic': 2744, 'activate': 2745, 'suddenly': 2746, 'future': 2747, 'irons': 2748, 'penny': 2749, 'simplify': 2750, 'brevity': 2751, 'core': 2752, 'fulfil': 2753, 'unsatisfactory': 2754, 'recall': 2755, 'hanks': 2756, 'unhappy': 2757, 'allergy': 2758, 'warn': 2759, 'clue': 2760, 'peanut': 2761, 'plater': 2762, 'ebay': 2763, 'count': 2764, 'winner': 2765, 'charcoal': 2766, 'communication': 2767, 'communicate': 2768, 'absolutel': 2769, 'wallet': 2770, 'jerk': 2771, 'shatter': 2772, 'fully': 2773, 'recover': 2774, 'hurry': 2775, 'ireland': 2776, 'lock': 2777, 'flash': 2778, 'randomly': 2779, 'scenery': 2780, 'calendar': 2781, 'sync': 2782, 'concert': 2783, 'forgeries': 2784, 'abound': 2785, 'excellently': 2786, 'scot': 2787, 'vandiver': 2788, 'overwhelm': 2789, 'poise': 2790, 'rpg': 2791, 'disgrace': 2792, 'rpger': 2793, 'hopeless': 2794, 'terribly': 2795, 'accolade': 2796, 'reaching': 2797, 'modern': 2798, 'equivalent': 2799, 'dickens': 2800, 'carol': 2801, 'sensibility': 2802, 'broke': 2803, 'being': 2804, 'days': 2805, 'otherwise': 2806, 'install': 2807, 'universe': 2808, 'thirty': 2809, 'vacant': 2810, 'usable': 2811, 'pda': 2812, 'useful': 2813, 'strive': 2814, 'greatness': 2815, 'muddle': 2816, 'bunch': 2817, 'disparate': 2818, 'accurately': 2819, 'define': 2820, 'proclaim': 2821, 'wildly': 2822, 'infra': 2823, 'port': 2824, 'irda': 2825, 'terrific': 2826, 'faultless': 2827, 'photography': 2828, 'composition': 2829, 'underappreciated': 2830, 'keith': 2831, 'bully': 2832, 'teddy': 2833, 'vivid': 2834, 'later': 2835, 'element': 2836, 'excessively': 2837, 'phony': 2838, 'contrive': 2839, 'disconnect': 2840, 'accessoryone': 2841, 'bmw': 2842, 'fairly': 2843, 'quiet': 2844, 'nurse': 2845, 'betty': 2846, 'unpredictability': 2847, 'disgraceful': 2848, 'locate': 2849, 'crystals': 2850, 'aria': 2851, 'typical': 2852, 'showcasing': 2853, 'noteworthy': 2854, 'plethora': 2855, 'seal': 2856, 'approval': 2857, 'seasonal': 2858, 'fruit': 2859, 'peach': 2860, 'puree': 2861, 'fs': 2862, 'breakfastlunch': 2863, 'predict': 2864, 'verbatim': 2865, 'memory': 2866, 'card': 2867, 'stylize': 2868, 'outshine': 2869, 'halibut': 2870, 'text': 2871, 'tricky': 2872, 'decidely': 2873, 'universal': 2874, 'derivative': 2875, 'motor': 2876, 'center': 2877, 'voltage': 2878, 'hum': 2879, 'equipment': 2880, 'intermittently': 2881, 'file': 2882, 'browser': 2883, 'lightly': 2884, 'sister': 2885, 'imaginative': 2886, 'cat': 2887, 'protective': 2888, 'destroy': 2889, 'iam': 2890, 'calls': 2891, 'sucker': 2892, 'bug': 2893, 'climb': 2894, 'kitchen': 2895, 'chow': 2896, 'mein': 2897, 'restart': 2898, 'horrendously': 2899, 'deffinitely': 2900, 'cent': 2901, 'jennifer': 2902, 'rubin': 2903, 'harris': 2904, 'nervous': 2905, 'starlet': 2906, 'spec': 2907, 'fulci': 2908, 'supernatural': 2909, 'zombie': 2910, 'caterpillar': 2911, 'baklava': 2912, 'falafel': 2913, 'baba': 2914, 'ganoush': 2915, 'usually': 2916, 'leak': 2917, 'choose': 2918, 'blatant': 2919, 'propaganda': 2920, 'unique': 2921, 'achievement': 2922, 'looks': 2923, 'discomfort': 2924, 'sketchy': 2925, 'technology': 2926, 'slide': 2927, 'grip': 2928, 'prevent': 2929, 'slip': 2930, 'slim': 2931, 'alarm': 2932, 'clock': 2933, 'remove': 2934, 'moment': 2935, 'inventive': 2936, 'pointillistic': 2937, 'behold': 2938, 'pant': 2939, 'cheaply': 2940, 'address': 2941, 'reboot': 2942, 'anywhere': 2943, 'monster': 2944, 'fabulous': 2945, 'lap': 2946, 'soggy': 2947, 'pissd': 2948, 'cheerless': 2949, 'heist': 2950, 'characterisation': 2951, 'underbite': 2952, 'stoic': 2953, 'emote': 2954, 'yun': 2955, 'tomorrow': 2956, 'clichés': 2957, 'abandon': 2958, 'factory': 2959, 'execute': 2960, 'fly': 2961, 'judo': 2962, 'la': 2963, 'woo': 2964, 'grade': 2965, 'sci': 2966, 'fi': 2967, 'fav': 2968, 'pretext': 2969, 'afraid': 2970, 'desire': 2971, 'hbo': 2972, 'sophisticate': 2973, 'thrillerhorror': 2974, 'miserably': 2975, 'soyo': 2976, 'privilege': 2977, 'workingeating': 2978, 'blanket': 2979, 'moz': 2980, 'subpar': 2981, 'shatner': 2982, 'nimoy': 2983, 'wash': 2984, 'tacky': 2985, 'spock': 2986, 'rescue': 2987, 'kirk': 2988, 'jet': 2989, 'mountain': 2990, 'container': 2991, 'oppose': 2992, 'cram': 2993, 'takeout': 2994, 'spoilers': 2995, 'surface': 2996, 'superbly': 2997, 'cashier': 2998, 'wayyy': 2999, 'americans': 3000, 'hatred': 3001, 'admit': 3002, 'murky': 3003, 'instance': 3004, 'uncalled': 3005, 'angus': 3006, 'scrimm': 3007, 'gently': 3008, 'menace': 3009, 'anatomist': 3010, 'quinn': 3011, 'left': 3012, 'frustrate': 3013, 'geeky': 3014, 'sex': 3015, 'rock': 3016, 'ooze': 3017, 'embed': 3018, 'stylish': 3019, 'answer': 3020, 'buck': 3021, 'filmiing': 3022, 'expansive': 3023, 'hello': 3024, 'ya': 3025, 'confirm': 3026, 'exaggerate': 3027, 'trailer': 3028, 'combination': 3029, 'pear': 3030, 'almond': 3031, 'dustin': 3032, 'hoffman': 3033, 'consolation': 3034, 'perpared': 3035, 'giant': 3036, 'slice': 3037, 'dust': 3038, 'powder': 3039, 'sugar': 3040, 'outta': 3041, 'buyit': 3042, 'rarely': 3043, 'roam': 3044, 'receptionsound': 3045, 'empowerment': 3046, 'transmission': 3047, 'reliability': 3048, 'disapointing': 3049, 'results': 3050, 'uneasy': 3051, 'usage': 3052, 'heavy': 3053, 'ensue': 3054, 'definately': 3055, 'ourselves': 3056, 'sexy': 3057, 'outrageously': 3058, 'flirt': 3059, 'salmon': 3060, 'rich': 3061, 'accordingly': 3062, 'grtting': 3063, 'bt': 3064, 'currently': 3065, 'shooter': 3066, 'delay': 3067, 'iriver': 3068, 'spinn': 3069, 'soft': 3070, 'tight': 3071, 'shape': 3072, 'virtue': 3073, 'regrettable': 3074, 'protects': 3075, 'toro': 3076, 'tartare': 3077, 'cavier': 3078, 'extraordinary': 3079, 'thinly': 3080, 'wagyu': 3081, 'truffle': 3082, 'hoping': 3083, 'reflect': 3084, 'borrow': 3085, 'snow': 3086, 'possibly': 3087, 'tolerance': 3088, 'polite': 3089, 'recharge': 3090, 'iphone': 3091, 'source': 3092, 'imac': 3093, 'external': 3094, 'scary': 3095, 'attach': 3096, 'lobster': 3097, 'bisque': 3098, 'bussell': 3099, 'sprouts': 3100, 'risotto': 3101, 'filmmaker': 3102, 'nor': 3103, 'hide': 3104, 'sand': 3105, 'imagine': 3106, 'secure': 3107, 'builder': 3108, 'cross': 3109, 'pg': 3110, 'normally': 3111, 'haul': 3112, 'passion': 3113, 'whenever': 3114, 'noca': 3115, 'peter': 3116, 'accessible': 3117, 'renowned': 3118, 'frances': 3119, 'marion': 3120, 'reccomendation': 3121, 'relative': 3122, 'hospitality': 3123, 'paradise': 3124, 'valley': 3125, 'refrain': 3126, 'cibo': 3127, 'near': 3128, 'shortlist': 3129, 'albondigas': 3130, 'soup': 3131, 'tomato': 3132, 'meatball': 3133, 'phenomenal': 3134, 'holder': 3135, 'dad': 3136, 'grow': 3137, 'goat': 3138, 'skimp': 3139, 'photograph': 3140, 'phantasm': 3141, 'integrated': 3142, 'seamlessly': 3143, 'worse': 3144, 'humiliate': 3145, 'name': 3146, 'listen': 3147, 'iq': 3148, 'mollusk': 3149, 'resolution': 3150, 'legit': 3151, 'crocdodile': 3152, 'crocs': 3153, 'swamp': 3154, 'century': 3155, 'fox': 3156, 'road': 3157, 'silly': 3158, 'noir': 3159, 'implausible': 3160, 'unmitigated': 3161, 'colour': 3162, 'flag': 3163, 'casino': 3164, 'forward': 3165, 'imdb': 3166, 'meh': 3167, 'linked': 3168, 'mid': 3169, 'simmer': 3170, 'wart': 3171, 'study': 3172, 'poet': 3173, 'bohemian': 3174, 'wartime': 3175, 'span': 3176, 'bombardment': 3177, 'london': 3178, 'outward': 3179, 'tranquillity': 3180, 'welsh': 3181, 'coastal': 3182, 'retreat': 3183, 'borderline': 3184, 'friendship': 3185, 'lust': 3186, 'versus': 3187, 'jealousy': 3188, 'rivalry': 3189, 'cowardice': 3190, 'egotism': 3191, 'heroism': 3192, 'shenanigan': 3193, 'surround': 3194, 'spy': 3195, 'kidnap': 3196, 'church': 3197, 'foreign': 3198, 'random': 3199, 'taxidermist': 3200, 'purcashed': 3201, 'tolerate': 3202, 'political': 3203, 'incorrectness': 3204, 'artistic': 3205, 'suspension': 3206, 'disbelief': 3207, 'slavic': 3208, 'female': 3209, 'mussel': 3210, 'reduction': 3211, 'circumstance': 3212, 'factor': 3213, 'crackle': 3214, 'unpredictable': 3215, 'youthful': 3216, 'concentrate': 3217, 'meander': 3218, 'shift': 3219, 'bubble': 3220, 'peel': 3221, 'nothingi': 3222, 'droid': 3223, 'similarly': 3224, 'apology': 3225, 'breeders': 3226, 'ebola': 3227, 'virus': 3228, 'cellphone': 3229, 'hoursthe': 3230, 'thereplacement': 3231, 'portable': 3232, 'spring': 3233, 'latch': 3234, 'visor': 3235, 'dee': 3236, 'snider': 3237, 'length': 3238, 'underneath': 3239, 'airport': 3240, 'speedy': 3241, 'thus': 3242, 'lastly': 3243, 'mozzarella': 3244, 'ayce': 3245, 'structure': 3246, 'tightly': 3247, 'matthews': 3248, 'wrotedirected': 3249, 'grim': 3250, 'emily': 3251, 'watson': 3252, 'disapppointment': 3253, 'watching': 3254, 'twirl': 3255, 'succeed': 3256, 'meagre': 3257, 'unacceptable': 3258, 'despicable': 3259, 'thorn': 3260, 'abhor': 3261, 'semi': 3262, 'truck': 3263, 'youtube': 3264, 'grab': 3265, 'pub': 3266, 'favor': 3267, 'hayao': 3268, 'eighth': 3269, 'studio': 3270, 'ghibili': 3271, 'gake': 3272, 'ue': 3273, 'ponyo': 3274, 'cliff': 3275, 'childhood': 3276, 'school': 3277, 'round': 3278, 'sequel': 3279, 'correction': 3280, 'heimer': 3281, 'returned': 3282, 'thread': 3283, 'leni': 3284, 'parker': 3285, 'anita': 3286, 'laselva': 3287, 'taelons': 3288, 'idealogical': 3289, 'goremeister': 3290, 'lucio': 3291, 'weekly': 3292, 'haunt': 3293, 'cashew': 3294, 'anymore': 3295, 'max': 3296, 'mute': 3297, 'walkman': 3298, 'fishnet': 3299, 'astonishingly': 3300, 'ham': 3301, 'fisted': 3302, 'link': 3303, 'curve': 3304, 'flawless': 3305, 'brisket': 3306, 'vinaigrette': 3307, 'accidentally': 3308, 'musicincluding': 3309, 'shirley': 3310, 'jones': 3311, 'rendition': 3312, 'uplift': 3313, 'prices': 3314, 'bitches': 3315, 'muffin': 3316, 'untoasted': 3317, 'disrespect': 3318, 'con': 3319, 'spotty': 3320, 'plantronincs': 3321, 'dvd': 3322, 'pm': 3323, 'watchable': 3324, 'humour': 3325, 'apt': 3326, 'babie': 3327, 'bop': 3328, 'meredith': 3329, 'makes': 3330, 'biographical': 3331, 'musician': 3332, 'additional': 3333, 'gel': 3334, 'snug': 3335, 'web': 3336, 'browse': 3337, 'significantly': 3338, 'roth': 3339, 'pearl': 3340, 'lazy': 3341, 'nonetheless': 3342, 'lie': 3343, 'charismatic': 3344, 'casting': 3345, 'trond': 3346, 'fausa': 3347, 'aurvåg': 3348, 'bothersome': 3349, 'tooth': 3350, 'google': 3351, 'smashburger': 3352, 'sibling': 3353, 'bond': 3354, 'tools': 3355, 'manna': 3356, 'heaven': 3357, 'godfather': 3358, 'pyromaniac': 3359, 'waylay': 3360, 'gyros': 3361, 'velvet': 3362, 'ohhh': 3363, 'bit': 3364, 'mar': 3365, 'constant': 3366, 'indoor': 3367, 'hey': 3368, 'pleasantly': 3369, 'suprised': 3370, 'appear': 3371, 'blame': 3372, 'disturb': 3373, 'disapoinment': 3374, 'ericson': 3375, 'decision': 3376, 'evaluate': 3377, 'resound': 3378}\n"
          ]
        }
      ]
    },
    {
      "cell_type": "code",
      "metadata": {
        "id": "KvXZKduYIKZ1",
        "colab": {
          "base_uri": "https://localhost:8080/",
          "height": 614
        },
        "outputId": "19aa7c19-0a89-4d5f-af0d-7f21bf873e13"
      },
      "source": [
        "\n",
        "diccionario = Counter()\n",
        "\n",
        "for k in range(len(x_train)):\n",
        "  diccionario.update(x_train[k])\n",
        "\n",
        "\n",
        "print('Longitud del diccionario:', len(diccionario))\n",
        "print('\\n(word,frequency):')\n",
        "print(diccionario.most_common(10))\n",
        "\n",
        "palabras_ordenadas = frecuencia_tokens.most_common()\n",
        "# Calcular la cobertura acumulada\n",
        "frecuencias = [freq for _, freq in palabras_ordenadas]\n",
        "total_frecuencias = sum(frecuencias)\n",
        "cobertura_acumulada = [sum(frecuencias[:i+1]) / total_frecuencias for i in range(len(frecuencias))]\n",
        "\n",
        "# Determinar el tamaño del vocabulario deseado\n",
        "cobertura_deseada = 0.80\n",
        "tamaño_vocabulario = next(i for i, cobertura in enumerate(cobertura_acumulada) if cobertura >= cobertura_deseada)\n",
        "\n",
        "print(f\"Tamaño del vocabulario para cubrir el {cobertura_deseada*100}%: {tamaño_vocabulario}\")\n",
        "\n",
        "# Visualización de la cobertura acumulada\n",
        "plt.plot(cobertura_acumulada)\n",
        "plt.xlabel('Número de Palabras')\n",
        "plt.ylabel('Cobertura Acumulada')\n",
        "plt.title('Cobertura Acumulada del Vocabulario')\n",
        "plt.axhline(y=cobertura_deseada, color='r', linestyle='--')\n",
        "plt.axvline(x=tamaño_vocabulario, color='r', linestyle='--')\n",
        "plt.show()\n",
        "\n",
        "# Crear el vocabulario\n",
        "vocabulario = {palabra: idx for idx, (palabra, _) in enumerate(palabras_ordenadas[:tamaño_vocabulario])}\n",
        "\n",
        "print(\"Vocabulario:\")\n",
        "print(vocabulario)\n",
        "\n",
        "\n"
      ],
      "execution_count": 289,
      "outputs": [
        {
          "output_type": "stream",
          "name": "stdout",
          "text": [
            "Longitud del diccionario: 3379\n",
            "\n",
            "(word,frequency):\n",
            "[('be', 1476), ('the', 1353), ('and', 756), ('it', 586), ('to', 475), ('this', 451), ('not', 437), ('of', 422), ('have', 330), ('in', 280)]\n",
            "Tamaño del vocabulario para cubrir el 80.0%: 504\n"
          ]
        },
        {
          "output_type": "display_data",
          "data": {
            "text/plain": [
              "<Figure size 640x480 with 1 Axes>"
            ],
            "image/png": "[encoded data removed]"
          },
          "metadata": {}
        },
        {
          "output_type": "stream",
          "name": "stdout",
          "text": [
            "Vocabulario:\n",
            "{'be': 0, 'the': 1, 'and': 2, 'it': 3, 'to': 4, 'this': 5, 'not': 6, 'of': 7, 'have': 8, 'in': 9, 'for': 10, 'that': 11, 'do': 12, 'with': 13, 'good': 14, 'very': 15, 'my': 16, 'you': 17, 'on': 18, 'but': 19, 'great': 20, 'movie': 21, 'phone': 22, 'film': 23, 'so': 24, 'all': 25, 'at': 26, 'bad': 27, 'like': 28, 'time': 29, 'one': 30, 'work': 31, 'go': 32, 'will': 33, 'just': 34, 'place': 35, 'would': 36, 'there': 37, 'get': 38, 'food': 39, 'service': 40, 'make': 41, 'we': 42, 'if': 43, 'can': 44, 'from': 45, 'really': 46, 'an': 47, 'they': 48, 'your': 49, 'no': 50, 'use': 51, 'about': 52, 'or': 53, 'only': 54, 'love': 55, 'here': 56, 'ever': 57, 'well': 58, 'best': 59, 'even': 60, 'out': 61, 'also': 62, 'could': 63, 'back': 64, 'up': 65, 'by': 66, 'think': 67, 'than': 68, 'when': 69, 'recommend': 70, 'more': 71, 'see': 72, 'me': 73, 'say': 74, 'he': 75, 'what': 76, 'come': 77, 'nice': 78, 'which': 79, 'look': 80, 'quality': 81, 'some': 82, 'much': 83, 'too': 84, 'after': 85, 'because': 86, 'their': 87, 'act': 88, 'thing': 89, 'other': 90, 'headset': 91, 'any': 92, 'excellent': 93, 'our': 94, 'how': 95, 'product': 96, 'again': 97, 'character': 98, 'sound': 99, 'who': 100, 'never': 101, 'price': 102, 'watch': 103, 'his': 104, 'buy': 105, 'them': 106, 'give': 107, 'way': 108, 'waste': 109, 'most': 110, 'ear': 111, 'battery': 112, 'case': 113, 'find': 114, 'disappoint': 115, 'scene': 116, 'first': 117, 'everything': 118, 'take': 119, 'try': 120, 'pretty': 121, 'still': 122, 'over': 123, 'year': 124, 'then': 125, 'real': 126, 'end': 127, 'want': 128, 'suck': 129, 'know': 130, 'experience': 131, 'minute': 132, 'right': 133, 'little': 134, 'into': 135, 'new': 136, 'every': 137, 'two': 138, 'many': 139, 'problem': 140, 'amaze': 141, 'people': 142, 'terrible': 143, 'eat': 144, 'far': 145, 'off': 146, 'show': 147, 'enough': 148, 'definitely': 149, 'now': 150, 'her': 151, 'order': 152, 'worth': 153, 'friendly': 154, 'restaurant': 155, 'she': 156, 'actor': 157, 'vegas': 158, 'day': 159, 'charge': 160, 'seem': 161, 'play': 162, 'feel': 163, 'plot': 164, 'few': 165, 'these': 166, 'call': 167, 'need': 168, 'story': 169, 'screen': 170, 'script': 171, 'long': 172, 'money': 173, 'last': 174, 'nothing': 175, 'however': 176, 'highly': 177, 'probably': 178, 'while': 179, 'life': 180, 'poor': 181, 'wait': 182, 'item': 183, 'delicious': 184, 'easy': 185, 'old': 186, 'hour': 187, 'lot': 188, 'performance': 189, 'awesome': 190, 'keep': 191, 'happy': 192, 'both': 193, 'interest': 194, 'star': 195, 'purchase': 196, 'down': 197, 'line': 198, 'quite': 199, 'piece': 200, 'bluetooth': 201, 'cast': 202, 'same': 203, 'absolutely': 204, 'enjoy': 205, 'around': 206, 'server': 207, 'steak': 208, 'leave': 209, 'start': 210, 'write': 211, 'avoid': 212, 'picture': 213, 'such': 214, 'hear': 215, 'fry': 216, 'charger': 217, 'wonderful': 218, 'staff': 219, 'always': 220, 'should': 221, 'lack': 222, 'big': 223, 'car': 224, 'fit': 225, 'expect': 226, 'anyone': 227, 'menu': 228, 'cheap': 229, 'bar': 230, 'break': 231, 'camera': 232, 'pizza': 233, 'fresh': 234, 'funny': 235, 'set': 236, 'another': 237, 'comfortable': 238, 'hard': 239, 'job': 240, 'totally': 241, 'stay': 242, 'put': 243, 'music': 244, 'though': 245, 'customer': 246, 'part': 247, 'kind': 248, 'next': 249, 'night': 250, 'slow': 251, 'either': 252, 'low': 253, 'awful': 254, 'check': 255, 'between': 256, 'bite': 257, 'fine': 258, 'least': 259, 'special': 260, 'art': 261, 'return': 262, 'before': 263, 'family': 264, 'man': 265, 'design': 266, 'without': 267, 'since': 268, 'where': 269, 'black': 270, 'simply': 271, 'anything': 272, 'receive': 273, 'taste': 274, 'everyone': 275, 'talk': 276, 'horrible': 277, 'sure': 278, 'cool': 279, 'must': 280, 'fail': 281, 'own': 282, 'those': 283, 'beautiful': 284, 'felt': 285, 'understand': 286, 'live': 287, 'please': 288, 'overall': 289, 'actually': 290, 'device': 291, 'small': 292, 'burger': 293, 'works': 294, 'stupid': 295, 'bore': 296, 'almost': 297, 'care': 298, 'fantastic': 299, 'plug': 300, 'tell': 301, 'especially': 302, 'hold': 303, 'month': 304, 'light': 305, 'tasty': 306, 'side': 307, 'full': 308, 'review': 309, 'each': 310, 'completely': 311, 'soon': 312, 'le': 313, 'drop': 314, 'away': 315, 'whole': 316, 'perfect': 317, 'wear': 318, 'top': 319, 'game': 320, 'table': 321, 'word': 322, 'dish': 323, 'sushi': 324, 'extremely': 325, 'through': 326, 'cell': 327, 'deal': 328, 'late': 329, 'sauce': 330, 'fast': 331, 'clear': 332, 'pay': 333, 'perfectly': 334, 'rather': 335, 'fact': 336, 'high': 337, 'mean': 338, 'let': 339, 'crap': 340, 'area': 341, 'mediocre': 342, 'second': 343, 'disappointment': 344, 'style': 345, 'week': 346, 'flavor': 347, 'lose': 348, 'hand': 349, 'reception': 350, 'impress': 351, 'chicken': 352, 'saw': 353, 'face': 354, 'drive': 355, 'meal': 356, 'once': 357, 'mess': 358, 'as': 359, 'predictable': 360, 'salad': 361, 'consider': 362, 'provide': 363, 'barely': 364, 'feature': 365, 'series': 366, 'worst': 367, 'half': 368, 'certainly': 369, 'effect': 370, 'why': 371, 'rat': 372, 'serve': 373, 'three': 374, 'does': 375, 'together': 376, 'super': 377, 'kid': 378, 'easily': 379, 'turn': 380, 'color': 381, 'myself': 382, 'human': 383, 'hot': 384, 'may': 385, 'guess': 386, 'waitress': 387, 'cost': 388, 'happen': 389, 'dialogue': 390, 'unfortunately': 391, 'sandwich': 392, 'none': 393, 'fall': 394, 'ask': 395, 'seat': 396, 'clean': 397, 'bland': 398, 'cold': 399, 'wrong': 400, 'subtle': 401, 'perhaps': 402, 'house': 403, 'pair': 404, 'couple': 405, 'child': 406, 'glad': 407, 'yet': 408, 'huge': 409, 'home': 410, 'run': 411, 'white': 412, 'buffet': 413, 'involve': 414, 'meat': 415, 'spot': 416, 'mistake': 417, 'average': 418, 'whatever': 419, 'director': 420, 'direct': 421, 'owner': 422, 'heart': 423, 'potato': 424, 'obviously': 425, 'charm': 426, 'different': 427, 'entire': 428, 'drama': 429, 'volume': 430, 'fan': 431, 'waiter': 432, 'finally': 433, 'seriously': 434, 'rude': 435, 'suspense': 436, 'read': 437, 'selection': 438, 'him': 439, 'tender': 440, 'role': 441, 'fun': 442, 'during': 443, 'loud': 444, 'begin': 445, 'today': 446, 'sit': 447, 'forget': 448, 'short': 449, 'junk': 450, 'amazon': 451, 'weak': 452, 'inside': 453, 'cook': 454, 'sometimes': 455, 'button': 456, 'change': 457, 'itself': 458, 'company': 459, 'ridiculous': 460, 'die': 461, 'throughout': 462, 'town': 463, 'bring': 464, 'cut': 465, 'audio': 466, 'original': 467, 'reason': 468, 'value': 469, 'quick': 470, 'whether': 471, 'lady': 472, 'unit': 473, 'create': 474, 'hit': 475, 'important': 476, 'simple': 477, 'attempt': 478, 'verizon': 479, 'might': 480, 'motorola': 481, 'believable': 482, 'stuff': 483, 'cinema': 484, 'number': 485, 'headphone': 486, 'helpful': 487, 'joy': 488, 'hope': 489, 'send': 490, 'nokia': 491, 'touch': 492, 'decent': 493, 'john': 494, 'shoot': 495, 'incredible': 496, 'action': 497, 'twice': 498, 'lunch': 499, 'believe': 500, 'breakfast': 501, 'damn': 502, 'range': 503}\n"
          ]
        }
      ]
    },
    {
      "cell_type": "code",
      "source": [
        "diccionario = Counter()\n",
        "\n",
        "for k in range(len(x_train)):\n",
        "  diccionario.update(x_train[k])\n",
        "\n",
        "\n",
        "# Contar la frecuencia de cada token\n",
        "frecuencia_tokens = Counter(diccionario)\n",
        "\n",
        "# Definir el umbral de frecuencia\n",
        "umbral_frecuencia = 2\n",
        "\n",
        "# Filtrar palabras con frecuencia menor al umbral\n",
        "frecuencia_filtrada = {token: freq for token, freq in frecuencia_tokens.items() if freq >= umbral_frecuencia}\n",
        "\n",
        "# Ordenar palabras por frecuencia\n",
        "palabras_ordenadas = sorted(frecuencia_filtrada.items(), key=lambda item: item[1], reverse=True)\n",
        "\n",
        "# Filtrar palabras con frecuencia menor al umbral\n",
        "vocabulario = {token: freq for token, freq in frecuencia_tokens.items() if freq >= umbral_frecuencia}\n",
        "\n",
        "# Ordenar el vocabulario por frecuencia en orden descendente\n",
        "vocabulario = dict(sorted(vocabulario.items(), key=lambda item: item[1], reverse=True))\n",
        "\n",
        "\n",
        "print(\"Vocabulario:\")\n",
        "print(vocabulario)"
      ],
      "metadata": {
        "colab": {
          "base_uri": "https://localhost:8080/"
        },
        "id": "4-7VuX0eFrbE",
        "outputId": "db30ed2e-9c96-4796-fd90-dd9b20c8d8a3"
      },
      "execution_count": 290,
      "outputs": [
        {
          "output_type": "stream",
          "name": "stdout",
          "text": [
            "Vocabulario:\n",
            "{'be': 1476, 'the': 1353, 'and': 756, 'it': 586, 'to': 475, 'this': 451, 'not': 437, 'of': 422, 'have': 330, 'in': 280, 'for': 242, 'that': 234, 'do': 215, 'with': 201, 'good': 194, 'very': 179, 'my': 174, 'you': 162, 'on': 152, 'but': 145, 'great': 141, 'movie': 140, 'phone': 133, 'film': 127, 'so': 121, 'all': 104, 'at': 102, 'bad': 101, 'like': 100, 'time': 100, 'one': 98, 'work': 97, 'go': 89, 'will': 88, 'just': 87, 'place': 87, 'would': 85, 'there': 85, 'get': 84, 'food': 83, 'service': 83, 'make': 79, 'we': 75, 'if': 74, 'can': 72, 'from': 72, 'really': 71, 'an': 69, 'they': 66, 'your': 65, 'no': 65, 'use': 64, 'about': 61, 'or': 60, 'only': 58, 'love': 58, 'here': 56, 'ever': 56, 'well': 55, 'best': 54, 'even': 54, 'out': 54, 'also': 53, 'could': 52, 'back': 52, 'up': 52, 'by': 52, 'think': 51, 'than': 51, 'when': 50, 'recommend': 49, 'more': 49, 'see': 49, 'me': 48, 'say': 46, 'he': 46, 'what': 45, 'come': 45, 'nice': 45, 'which': 44, 'look': 44, 'quality': 42, 'some': 40, 'much': 39, 'too': 39, 'after': 39, 'because': 38, 'their': 38, 'act': 38, 'thing': 38, 'other': 38, 'headset': 38, 'any': 37, 'excellent': 37, 'our': 37, 'how': 36, 'product': 36, 'again': 36, 'character': 36, 'sound': 36, 'who': 35, 'never': 35, 'price': 34, 'watch': 34, 'his': 33, 'buy': 33, 'them': 33, 'give': 32, 'way': 32, 'waste': 31, 'most': 31, 'ear': 31, 'battery': 31, 'case': 31, 'find': 30, 'disappoint': 30, 'scene': 30, 'first': 30, 'everything': 29, 'take': 29, 'try': 29, 'pretty': 28, 'still': 28, 'over': 28, 'year': 27, 'then': 27, 'real': 27, 'end': 26, 'want': 26, 'suck': 25, 'know': 25, 'experience': 25, 'minute': 25, 'right': 25, 'little': 25, 'into': 25, 'new': 25, 'every': 25, 'two': 24, 'many': 24, 'problem': 24, 'amaze': 24, 'people': 23, 'terrible': 23, 'eat': 23, 'far': 23, 'off': 23, 'show': 23, 'enough': 22, 'definitely': 22, 'now': 22, 'her': 22, 'order': 21, 'worth': 21, 'friendly': 21, 'restaurant': 21, 'she': 21, 'actor': 21, 'vegas': 20, 'day': 20, 'charge': 20, 'seem': 20, 'play': 20, 'feel': 20, 'plot': 20, 'few': 20, 'these': 20, 'call': 19, 'need': 19, 'story': 19, 'screen': 19, 'script': 19, 'long': 19, 'money': 19, 'last': 19, 'nothing': 19, 'however': 18, 'highly': 18, 'probably': 18, 'while': 18, 'life': 18, 'poor': 18, 'wait': 18, 'item': 17, 'delicious': 17, 'easy': 17, 'old': 17, 'hour': 17, 'lot': 17, 'performance': 17, 'awesome': 17, 'keep': 17, 'happy': 17, 'both': 17, 'interest': 16, 'star': 16, 'purchase': 16, 'down': 16, 'line': 16, 'quite': 16, 'piece': 16, 'bluetooth': 16, 'cast': 16, 'same': 16, 'absolutely': 16, 'enjoy': 16, 'around': 16, 'server': 15, 'steak': 15, 'leave': 15, 'start': 15, 'write': 15, 'avoid': 15, 'picture': 15, 'such': 15, 'hear': 15, 'fry': 15, 'charger': 15, 'wonderful': 15, 'staff': 15, 'always': 15, 'should': 15, 'lack': 15, 'big': 15, 'car': 15, 'fit': 15, 'expect': 15, 'anyone': 14, 'menu': 14, 'cheap': 14, 'bar': 14, 'break': 14, 'camera': 14, 'pizza': 14, 'fresh': 14, 'funny': 14, 'set': 14, 'another': 14, 'comfortable': 14, 'hard': 14, 'job': 13, 'totally': 13, 'stay': 13, 'put': 13, 'music': 13, 'though': 13, 'customer': 13, 'part': 13, 'kind': 13, 'next': 13, 'night': 13, 'slow': 13, 'either': 13, 'low': 13, 'awful': 13, 'check': 13, 'between': 13, 'bite': 13, 'fine': 13, 'least': 13, 'special': 12, 'art': 12, 'return': 12, 'before': 12, 'family': 12, 'man': 12, 'design': 12, 'without': 12, 'since': 12, 'where': 12, 'black': 12, 'simply': 12, 'anything': 12, 'receive': 12, 'taste': 12, 'everyone': 12, 'talk': 12, 'horrible': 12, 'sure': 12, 'cool': 12, 'must': 12, 'fail': 12, 'own': 12, 'those': 12, 'beautiful': 12, 'felt': 11, 'understand': 11, 'live': 11, 'please': 11, 'overall': 11, 'actually': 11, 'device': 11, 'small': 11, 'burger': 11, 'works': 11, 'stupid': 11, 'bore': 11, 'almost': 11, 'care': 11, 'fantastic': 11, 'plug': 11, 'tell': 11, 'especially': 11, 'hold': 11, 'month': 11, 'light': 11, 'tasty': 11, 'side': 11, 'full': 10, 'review': 10, 'each': 10, 'completely': 10, 'soon': 10, 'le': 10, 'drop': 10, 'away': 10, 'whole': 10, 'perfect': 10, 'wear': 10, 'top': 10, 'game': 10, 'table': 10, 'word': 10, 'dish': 10, 'sushi': 10, 'extremely': 10, 'through': 10, 'cell': 10, 'deal': 10, 'late': 10, 'sauce': 10, 'fast': 10, 'clear': 10, 'pay': 9, 'perfectly': 9, 'rather': 9, 'fact': 9, 'high': 9, 'mean': 9, 'let': 9, 'crap': 9, 'area': 9, 'mediocre': 9, 'second': 9, 'disappointment': 9, 'style': 9, 'week': 9, 'flavor': 9, 'lose': 9, 'hand': 9, 'reception': 9, 'impress': 9, 'chicken': 9, 'saw': 9, 'face': 9, 'drive': 9, 'meal': 9, 'once': 9, 'mess': 9, 'as': 9, 'predictable': 9, 'salad': 9, 'consider': 9, 'provide': 8, 'barely': 8, 'feature': 8, 'series': 8, 'worst': 8, 'half': 8, 'certainly': 8, 'effect': 8, 'why': 8, 'rat': 8, 'serve': 8, 'three': 8, 'does': 8, 'together': 8, 'super': 8, 'kid': 8, 'easily': 8, 'turn': 8, 'color': 8, 'myself': 8, 'human': 8, 'hot': 8, 'may': 8, 'guess': 8, 'waitress': 8, 'cost': 8, 'happen': 8, 'dialogue': 8, 'unfortunately': 8, 'sandwich': 8, 'none': 8, 'fall': 8, 'ask': 8, 'seat': 8, 'clean': 8, 'bland': 8, 'cold': 8, 'wrong': 7, 'subtle': 7, 'perhaps': 7, 'house': 7, 'pair': 7, 'couple': 7, 'child': 7, 'glad': 7, 'yet': 7, 'huge': 7, 'home': 7, 'run': 7, 'white': 7, 'buffet': 7, 'involve': 7, 'meat': 7, 'spot': 7, 'mistake': 7, 'average': 7, 'whatever': 7, 'director': 7, 'direct': 7, 'owner': 7, 'heart': 7, 'potato': 7, 'obviously': 7, 'charm': 7, 'different': 7, 'entire': 7, 'drama': 7, 'volume': 7, 'fan': 7, 'waiter': 7, 'finally': 7, 'seriously': 7, 'rude': 7, 'suspense': 7, 'read': 7, 'selection': 7, 'him': 7, 'tender': 7, 'role': 7, 'fun': 7, 'during': 7, 'loud': 7, 'begin': 7, 'today': 7, 'sit': 7, 'forget': 7, 'short': 7, 'junk': 7, 'amazon': 7, 'weak': 7, 'inside': 7, 'cook': 6, 'sometimes': 6, 'button': 6, 'change': 6, 'itself': 6, 'company': 6, 'ridiculous': 6, 'die': 6, 'throughout': 6, 'town': 6, 'bring': 6, 'cut': 6, 'audio': 6, 'original': 6, 'reason': 6, 'value': 6, 'quick': 6, 'whether': 6, 'lady': 6, 'unit': 6, 'create': 6, 'hit': 6, 'important': 6, 'simple': 6, 'attempt': 6, 'verizon': 6, 'might': 6, 'motorola': 6, 'believable': 6, 'stuff': 6, 'cinema': 6, 'number': 6, 'headphone': 6, 'helpful': 6, 'joy': 6, 'hope': 6, 'send': 6, 'nokia': 6, 'touch': 6, 'decent': 6, 'john': 6, 'shoot': 6, 'incredible': 6, 'action': 6, 'twice': 6, 'lunch': 6, 'believe': 6, 'breakfast': 6, 'damn': 6, 'range': 6, 'cinematography': 6, 'walk': 6, 'replace': 6, 'unless': 6, 'lovely': 6, 'clip': 6, 'level': 6, 'brilliant': 6, 'hate': 6, 'several': 6, 'superb': 6, 'location': 6, 'tip': 5, 'history': 5, 'sick': 5, 'rest': 5, 'describe': 5, 'pull': 5, 'garbage': 5, 'voice': 5, 'comedy': 5, 'website': 5, 'girl': 5, 'reasonable': 5, 'something': 5, 'shrimp': 5, 'under': 5, 'direction': 5, 'mention': 5, 'dead': 5, 'literally': 5, 'else': 5, 'blow': 5, 'bread': 5, 'chip': 5, 'forever': 5, 'utterly': 5, 'reasonably': 5, 'free': 5, 'note': 5, 'solid': 5, 'bother': 5, 'ago': 5, 'rate': 5, 'complete': 5, 'miss': 5, 'particular': 5, 'actress': 5, 'trip': 5, 'until': 5, 'attentive': 5, 'mind': 5, 'connection': 5, 'oh': 5, 'guy': 5, 'beer': 5, 'eye': 5, 'rice': 5, 'front': 5, 'wife': 5, 'season': 5, 'support': 5, 'atmosphere': 5, 'beat': 5, 'instead': 5, 'song': 5, 'open': 5, 'din': 5, 'its': 5, 'offer': 5, 'rare': 5, 'plastic': 5, 'large': 5, 'software': 5, 'despite': 5, 'early': 5, 'party': 5, 'outside': 5, 'razr': 5, 'maybe': 5, 'dry': 5, 'classic': 5, 'include': 5, 'truly': 5, 'tv': 5, 'tasteless': 5, 'torture': 5, 'silent': 5, 'friend': 5, 'water': 5, 'beyond': 5, 'whatsoever': 5, 'instruction': 5, 'better': 5, 'course': 5, 'disgust': 5, 'authentic': 5, 'nearly': 4, 'ten': 4, 'pork': 4, 'edit': 4, 'ability': 4, 'build': 4, 'highlight': 4, 'earpiece': 4, 'difficult': 4, 'annoy': 4, 'cover': 4, 'anytime': 4, 'portrayal': 4, 'share': 4, 'plantronics': 4, 'issue': 4, 'glass': 4, 'wine': 4, 'beep': 4, 'crowd': 4, 'computer': 4, 'focus': 4, 'themselves': 4, 'often': 4, 'manager': 4, 'help': 4, 'ring': 4, 'regret': 4, 'wonder': 4, 'horror': 4, 'angle': 4, 'become': 4, 'overprice': 4, 'final': 4, 'exchange': 4, 'shot': 4, 'documentary': 4, 'single': 4, 'main': 4, 'person': 4, 'clearly': 4, 'total': 4, 'advise': 4, 'pathetic': 4, 'death': 4, 'fish': 4, 'samsung': 4, 'rent': 4, 'wonderfully': 4, 'masterpiece': 4, 'handle': 4, 'message': 4, 'network': 4, 'graphic': 4, 'comment': 4, 'although': 4, 'young': 4, 'chemistry': 4, 'wall': 4, 'dance': 4, 'dialog': 4, 'roll': 4, 'mostly': 4, 'plan': 4, 'deserve': 4, 'bay': 4, 'spicy': 4, 'tap': 4, 'extra': 4, 'pas': 4, 'arrive': 4, 'strip': 4, 'add': 4, 'relationship': 4, 'red': 4, 'sense': 4, 'store': 4, 'size': 4, 'video': 4, 'sad': 4, 'description': 4, 'strong': 4, 'wish': 4, 'amount': 4, 'trash': 4, 'form': 4, 'player': 4, 'suffer': 4, 'reviewer': 4, 'addition': 4, 'anyway': 4, 'green': 4, 'spend': 4, 'treo': 4, 'pace': 4, 'fx': 4, 'satisfy': 4, 'leather': 4, 'above': 4, 'aspect': 4, 'others': 4, 'massive': 4, 'pocket': 4, 'conversation': 4, 'surprise': 4, 'force': 4, 'deliver': 4, 'bacon': 4, 'nut': 4, 'thai': 4, 'christmas': 4, 'follow': 4, 'ambiance': 4, 'dinner': 4, 'pasta': 4, 'option': 4, 'flick': 4, 'ray': 4, 'charles': 4, 'pleasant': 4, 'elsewhere': 4, 'lead': 4, 'possible': 4, 'prepare': 4, 'somewhat': 4, 'within': 4, 'zero': 4, 'gross': 4, 'production': 4, 'memorable': 4, 'list': 4, 'seafood': 4, 'ready': 4, 'book': 4, 'belt': 4, 'signal': 4, 'able': 4, 'room': 4, 'favorite': 4, 'entertain': 4, 'toast': 4, 'useless': 4, 'stick': 4, 'terrific': 4, 'bill': 3, 'yourself': 3, 'keypad': 3, 'tinny': 3, 'theater': 3, 'exactly': 3, 'hop': 3, 'point': 3, 'beautifully': 3, 'situation': 3, 'appreciate': 3, 'dirty': 3, 'yeah': 3, 'bathroom': 3, 'refund': 3, 'flaw': 3, 'present': 3, 'insult': 3, 'intelligence': 3, 'incredibly': 3, 'parent': 3, 'realize': 3, 'jabra': 3, 'choice': 3, 'mickey': 3, 'third': 3, 'occasionally': 3, 'tension': 3, 'apart': 3, 'odd': 3, 'remind': 3, 'lightweight': 3, 'along': 3, 'appal': 3, 'below': 3, 'murder': 3, 'cingular': 3, 'kill': 3, 'clever': 3, 'chef': 3, 'honestly': 3, 'someone': 3, 'narrative': 3, 'faux': 3, 'stop': 3, 'pita': 3, 'cause': 3, 'contact': 3, 'crazy': 3, 'door': 3, 'tool': 3, 'brain': 3, 'budget': 3, 'pointless': 3, 'earbud': 3, 'learn': 3, 'self': 3, 'alone': 3, 'scale': 3, 'chewy': 3, 'pretentious': 3, 'push': 3, 'hell': 3, 'genuine': 3, 'sweet': 3, 'close': 3, 'patio': 3, 'coverage': 3, 'sharp': 3, 'thoroughly': 3, 'anne': 3, 'giallo': 3, 'edge': 3, 'step': 3, 'killer': 3, 'boy': 3, 'martin': 3, 'contain': 3, 'basically': 3, 'ship': 3, 'redeem': 3, 'foot': 3, 'etc': 3, 'wow': 3, 'conclusion': 3, 'episode': 3, 'scratch': 3, 'was': 3, 'negative': 3, 'bakery': 3, 'fear': 3, 'grill': 3, 'era': 3, 'occupy': 3, 'paper': 3, 'detail': 3, 'fire': 3, 'ruthless': 3, 'stale': 3, 'emotion': 3, 'son': 3, 'speaker': 3, 'decide': 3, 'plain': 3, 'effective': 3, 'drink': 3, 'empty': 3, 'comfortably': 3, 'finish': 3, 'hole': 3, 'fill': 3, 'repeat': 3, 'indeed': 3, 'stun': 3, 'head': 3, 'serious': 3, 'pros': 3, 'internet': 3, 'italian': 3, 'quickly': 3, 'mark': 3, 'sign': 3, 'machine': 3, 'supposedly': 3, 'match': 3, 'summary': 3, 'bean': 3, 'writer': 3, 'laugh': 3, 'ice': 3, 'exquisite': 3, 'equally': 3, 'sturdy': 3, 'worked': 3, 'stink': 3, 'attack': 3, 'brunch': 3, 'conflict': 3, 'joke': 3, 'judge': 3, 'cult': 3, 'control': 3, 'disappointed': 3, 'operate': 3, 'wrap': 3, 'melt': 3, 'portion': 3, 'imagination': 3, 'american': 3, 'neither': 3, 'attention': 3, 'tremendous': 3, 'connect': 3, 'shop': 3, 'stanwyck': 3, 'move': 3, 'dark': 3, 'bottom': 3, 'lame': 3, 'steve': 3, 'visit': 3, 'folk': 3, 'worthless': 3, 'crash': 3, 'station': 3, 'moist': 3, 'soundtrack': 3, 'holster': 3, 'cream': 3, 'appearance': 3, 'gem': 3, 'allow': 3, 'thriller': 3, 'manage': 3, 'pack': 3, 'depth': 3, 'refuse': 3, 'hummus': 3, 'usual': 3, 'ordered': 3, 'twist': 3, 'wind': 3, 'loved': 3, 'recent': 3, 'idea': 3, 'package': 3, 'puppet': 3, 'master': 3, 'cute': 3, 'period': 3, 'previous': 3, 'cable': 3, 'paul': 3, 'dessert': 3, 'crisp': 3, 'prompt': 3, 'comfort': 3, 'true': 3, 'daughter': 3, 'box': 3, 'vomit': 3, 'unreliable': 3, 'industry': 3, 'complain': 3, 'energy': 3, 'is': 3, 'thin': 3, 'establishment': 3, 'host': 3, 'microphone': 3, 'spoiler': 3, 'smell': 3, 'significant': 3, 'theme': 3, 'aerial': 3, 'jawbone': 3, 'journey': 3, 'texture': 3, 'handsfree': 3, 'multiple': 3, 'blue': 3, 'ok': 3, 'butter': 3, 'duck': 3, 'mouth': 3, 'tom': 3, 'embarrass': 3, 'warm': 3, 'release': 3, 'power': 3, 'vegetable': 3, 'sea': 3, 'maintain': 3, 'produce': 3, 'effort': 3, 'mexican': 3, 'yes': 3, 'bunch': 3, 'quiet': 3, 'memory': 3, 'sister': 3, 'wash': 3, 'slice': 3, 'bt': 3, 'iphone': 3, 'fare': 2, 'morgan': 2, 'ed': 2, 'tonight': 2, 'filet': 2, 'properly': 2, 'poetry': 2, 'japanese': 2, 'finger': 2, 'spoil': 2, 'schrader': 2, 'lousy': 2, 'adapter': 2, 'current': 2, 'sing': 2, 'duet': 2, 'soooo': 2, 'particularly': 2, 'neat': 2, 'discover': 2, 'court': 2, 'track': 2, 'dial': 2, 'suppose': 2, 'hackneyed': 2, 'border': 2, 'offensive': 2, 'similar': 2, 'complaint': 2, 'exceptional': 2, 'loop': 2, 'flawlessly': 2, 'moto': 2, 'gosh': 2, 'nature': 2, 'par': 2, 'obvious': 2, 'thank': 2, 'speak': 2, 'taco': 2, 'stir': 2, 'sort': 2, 'suggest': 2, 'dramatic': 2, 'underlie': 2, 'smile': 2, 'huston': 2, 'james': 2, 'functionality': 2, 'scallop': 2, 'utter': 2, 'replacement': 2, 'accuse': 2, 'stopped': 2, 'compliment': 2, 'underwhelming': 2, 'continue': 2, 'date': 2, 'market': 2, 'genius': 2, 'brick': 2, 'oven': 2, 'string': 2, 'watkins': 2, 'thumb': 2, 'healthy': 2, 'confuse': 2, 'downtown': 2, 'igo': 2, 'rating': 2, 'drag': 2, 'freedom': 2, 'producer': 2, 'entirely': 2, 'hitchcock': 2, 'translate': 2, 'personally': 2, 'compromise': 2, 'macbeth': 2, 'blood': 2, 'evil': 2, 'model': 2, 'remake': 2, 'world': 2, 'decay': 2, 'apparently': 2, 'salt': 2, 'batter': 2, 'venture': 2, 'wild': 2, 'poorly': 2, 'construct': 2, 'relate': 2, 'phoenix': 2, 'soul': 2, 'disappointing': 2, 'hurt': 2, 'group': 2, 'tot': 2, 'summer': 2, 'dine': 2, 'delightful': 2, 'extend': 2, 'los': 2, 'angeles': 2, 'four': 2, 'hilarious': 2, 'continuity': 2, 'joe': 2, 'hair': 2, 'mmmm': 2, 'having': 2, 'trouble': 2, 'convince': 2, 'keyboard': 2, 'basic': 2, 'age': 2, 'reference': 2, 'cradle': 2, 'recently': 2, 'depict': 2, 'race': 2, 'premise': 2, 'pitiful': 2, 'god': 2, 'belly': 2, 'distract': 2, 'characters': 2, 'tremendously': 2, 'due': 2, 'promptly': 2, 'punch': 2, 'forth': 2, 'nobody': 2, 'air': 2, 'inexpensive': 2, 'nonsense': 2, 'mother': 2, 'buyer': 2, 'beware': 2, 'hence': 2, 'hook': 2, 'needless': 2, 'busy': 2, 'download': 2, 'laptop': 2, 'knock': 2, 'roast': 2, 'garlic': 2, 'marrow': 2, 'assistant': 2, 'setup': 2, 'smoothly': 2, 'south': 2, 'chinese': 2, 'commercial': 2, 'slight': 2, 'explain': 2, 'subject': 2, 'consumer': 2, 'sony': 2, 'depend': 2, 'alexander': 2, 'tuna': 2, 'sashimi': 2, 'wayne': 2, 'result': 2, 'club': 2, 'asleep': 2, 'yum': 2, 'reveal': 2, 'badly': 2, 'recognition': 2, 'thru': 2, 'tribute': 2, 'event': 2, 'convenient': 2, 'palm': 2, 'sleek': 2, 'impressive': 2, 'practical': 2, 'storage': 2, 'atrocious': 2, 'gyro': 2, 'employee': 2, 'moral': 2, 'trap': 2, 'overly': 2, 'artist': 2, 'essentially': 2, 'microsoft': 2, 'tech': 2, 'heat': 2, 'tear': 2, 'generic': 2, 'strange': 2, 'noise': 2, 'plus': 2, 'term': 2, 'bold': 2, 'score': 2, 'pad': 2, 'joint': 2, 'lg': 2, 'exceed': 2, 'vibe': 2, 'protection': 2, 'scar': 2, 'sleep': 2, 'limit': 2, 'bonus': 2, 'laughable': 2, 'reaction': 2, 'plenty': 2, 'warning': 2, 'sample': 2, 'treat': 2, 'assure': 2, 'pile': 2, 'skype': 2, 'pc': 2, 'usb': 2, 'coupon': 2, 'excuse': 2, 'worker': 2, 'vinegrette': 2, 'baby': 2, 'cease': 2, 'explanation': 2, 'undercooked': 2, 'racial': 2, 'inspire': 2, 'teeth': 2, 'outlet': 2, 'type': 2, 'jerky': 2, 'camerawork': 2, 'dull': 2, 'uninteresting': 2, 'delish': 2, 'masterful': 2, 'compel': 2, 'frighten': 2, 'traditional': 2, 'lucy': 2, 'complex': 2, 'psychological': 2, 'mom': 2, 'pop': 2, 'notable': 2, 'carry': 2, 'relation': 2, 'taylor': 2, 'save': 2, 'connery': 2, 'brief': 2, 'clarity': 2, 'class': 2, 'opportunity': 2, 'tea': 2, 'telephone': 2, 'hands': 2, 'depress': 2, 'already': 2, 'balance': 2, 'overact': 2, 'dock': 2, 'mall': 2, 'woman': 2, 'improvement': 2, 'cartoon': 2, 'waited': 2, 'numerous': 2, 'brian': 2, 'against': 2, 'visual': 2, 'hat': 2, 'errol': 2, 'flynn': 2, 'favourite': 2, 'cafe': 2, 'switch': 2, 'blackberry': 2, 'flip': 2, 'talent': 2, 'pho': 2, 'undoubtedly': 2, 'management': 2, 'bell': 2, 'freeze': 2, 'margarita': 2, 'sugary': 2, 'expectation': 2, 'astronaut': 2, 'doctor': 2, 'ugly': 2, 'imaginable': 2, 'remember': 2, 'decor': 2, 'indian': 2, 'echo': 2, 'flavorless': 2, 'loose': 2, 'boyfriend': 2, 'eggplant': 2, 'appetizer': 2, 'awkward': 2, 'fat': 2, 'lion': 2, 'pan': 2, 'cake': 2, 'disaster': 2, 'unfunny': 2, 'biscuit': 2, 'tone': 2, 'cheesy': 2, 'generous': 2, 'presentation': 2, 'honest': 2, 'bowl': 2, 'logitech': 2, 'greek': 2, 'refresh': 2, 'relax': 2, 'recommendation': 2, 'yummy': 2, 'uncomfortable': 2, 'wire': 2, 'improve': 2, 'worry': 2, 'key': 2, 'presence': 2, 'ipod': 2, 'boot': 2, 'craft': 2, 'paint': 2, 'subway': 2, 'mishima': 2, 'immediately': 2, 'display': 2, 'delight': 2, 'engage': 2, 'costume': 2, 'oscar': 2, 'procedure': 2, 'char': 2, 'update': 2, 'shakespear': 2, 'fifteen': 2, 'chick': 2, 'warmth': 2, 'contrast': 2, 'throw': 2, 'vehicle': 2, 'rank': 2, 'ignore': 2, 'audience': 2, 'rip': 2, 'min': 2, 'deeply': 2, 'edible': 2, 'wing': 2, 'notice': 2, 'static': 2, 'jamie': 2, 'concern': 2, 'delivery': 2, 'nyc': 2, 'cumbersome': 2, 'award': 2, 'omg': 2, 'rotate': 2, 'am': 2, 'grace': 2, 'enter': 2, 'storyline': 2, 'boil': 2, 'crab': 2, 'leg': 2, 'smart': 2, 'french': 2, 'regular': 2, 'contract': 2, 'adorable': 2, 'state': 2, 'are': 2, 'thrill': 2, 'handy': 2, 'husband': 2, 'footage': 2, 'english': 2, 'chance': 2, 'coffee': 2, 'mood': 2, 'gadget': 2, 'material': 2, 'five': 2, 'excite': 2, 'fascinate': 2, 'double': 2, 'cheeseburger': 2, 'member': 2, 'mobile': 2, 'normal': 2, 'earth': 2, 'painful': 2, 'business': 2, 'wilkinson': 2, 'matter': 2, 'egg': 2, 'mercy': 2, 'defective': 2, 'quit': 2, 'nacho': 2, 'behind': 2, 'remain': 2, 'largely': 2, 'lane': 2, 'villain': 2, 'dedication': 2, 'cheese': 2, 'professional': 2, 'overcook': 2, 'mic': 2, 'neighborhood': 2, 'row': 2, 'sorry': 2, 'sunglass': 2, 'sucks': 2, 'familiar': 2, 'animation': 2, 'miyazaki': 2, 'outstanding': 2, 'shower': 2, 'nasty': 2, 'attractive': 2, 'boost': 2, 'screenwriter': 2, 'sum': 2, 'pepper': 2, 'beef': 2, 'access': 2, 'doubt': 2, 'identify': 2, 'dream': 2, 'consistent': 2, 'overpriced': 2, 'stock': 2, 'wooden': 2, 'practically': 2, 'entree': 2, 'buzz': 2, 'override': 2, 'elegant': 2, 'sequence': 2, 'space': 2, 'sake': 2, 'gas': 2, 'bye': 2, 'exterior': 2, 'activate': 2, 'future': 2, 'peanut': 2, 'winner': 2, 'lock': 2, 'scenery': 2, 'excellently': 2, 'modern': 2, 'days': 2, 'otherwise': 2, 'composition': 2, 'fairly': 2, 'typical': 2, 'lightly': 2, 'imaginative': 2, 'bug': 2, 'chow': 2, 'fulci': 2, 'choose': 2, 'looks': 2, 'technology': 2, 'slide': 2, 'grip': 2, 'moment': 2, 'cheaply': 2, 'monster': 2, 'fabulous': 2, 'soggy': 2, 'clichés': 2, 'sex': 2, 'rock': 2, 'buck': 2, 'combination': 2, 'rarely': 2, 'imagine': 2, 'soup': 2, 'listen': 2, 'forward': 2, 'mid': 2, 'versus': 2, 'unpredictable': 2, 'succeed': 2, 'studio': 2, 'ponyo': 2, 'accidentally': 2}\n"
          ]
        }
      ]
    },
    {
      "cell_type": "code",
      "source": [
        "# a.\tUsa el conjunto de entrenamiento para generar tu vocabulario\n",
        "#     con un tamaño que consideres adecuado:\n",
        "\n",
        "\n",
        "# ******* Inlcuye a continuación todas las líneas de código y celdas que requieras: ***********\n",
        "\n",
        "\n",
        "lista_tokens = Counter()\n",
        "\n",
        "for k in range(len(x_train)):\n",
        "  lista_tokens.update(x_train[k])\n",
        "\n",
        "\n",
        "# Contar la frecuencia de cada token\n",
        "frecuencia_tokens = Counter(lista_tokens)\n",
        "\n",
        "# Definir el umbral de frecuencia\n",
        "umbral_frecuencia = 2\n",
        "\n",
        "# Filtrar palabras con frecuencia menor al umbral\n",
        "frecuencia_filtrada = {token: freq for token, freq in frecuencia_tokens.items() if freq >= umbral_frecuencia}\n",
        "\n",
        "# Ordenar palabras por frecuencia\n",
        "palabras_ordenadas = sorted(frecuencia_filtrada.items(), key=lambda item: item[1], reverse=True)\n",
        "\n",
        "# Filtrar palabras con frecuencia menor al umbral\n",
        "diccionario = {token: freq for token, freq in frecuencia_tokens.items() if freq >= umbral_frecuencia}\n",
        "\n",
        "# Ordenar el diccionario por frecuencia en orden descendente\n",
        "diccionario = dict(sorted(diccionario.items(), key=lambda item: item[1], reverse=True))\n",
        "\n",
        "\n",
        "# Determinar el tamaño del vocabulario deseado\n",
        "cobertura_deseada = 0.95\n",
        "tamaño_vocabulario = next(i for i, cobertura in enumerate(cobertura_acumulada) if cobertura >= cobertura_deseada)\n",
        "\n",
        "# Crear el vocabulario\n",
        "vocabulario = {palabra: idx for idx, (palabra, _) in enumerate(diccionario[:tamaño_vocabulario])}\n",
        "\n",
        "print(\"diccionario:\")\n",
        "print(diccionario)\n",
        "print(vocabulario)\n",
        "\n",
        "\n",
        "# *********** Aquí termina la sección de agregar código *************"
      ],
      "metadata": {
        "id": "TzJntmLPqPqC",
        "colab": {
          "base_uri": "https://localhost:8080/",
          "height": 211
        },
        "outputId": "709f5b74-aed2-4870-b4b6-89171279580a"
      },
      "execution_count": null,
      "outputs": [
        {
          "output_type": "error",
          "ename": "TypeError",
          "evalue": "unhashable type: 'slice'",
          "traceback": [
            "\u001b[0;31m---------------------------------------------------------------------------\u001b[0m",
            "\u001b[0;31mTypeError\u001b[0m                                 Traceback (most recent call last)",
            "\u001b[0;32m<ipython-input-267-b51457cfbb58>\u001b[0m in \u001b[0;36m<cell line: 38>\u001b[0;34m()\u001b[0m\n\u001b[1;32m     36\u001b[0m \u001b[0;34m\u001b[0m\u001b[0m\n\u001b[1;32m     37\u001b[0m \u001b[0;31m# Crear el vocabulario\u001b[0m\u001b[0;34m\u001b[0m\u001b[0;34m\u001b[0m\u001b[0m\n\u001b[0;32m---> 38\u001b[0;31m \u001b[0mvocabulario\u001b[0m \u001b[0;34m=\u001b[0m \u001b[0;34m{\u001b[0m\u001b[0mpalabra\u001b[0m\u001b[0;34m:\u001b[0m \u001b[0midx\u001b[0m \u001b[0;32mfor\u001b[0m \u001b[0midx\u001b[0m\u001b[0;34m,\u001b[0m \u001b[0;34m(\u001b[0m\u001b[0mpalabra\u001b[0m\u001b[0;34m,\u001b[0m \u001b[0m_\u001b[0m\u001b[0;34m)\u001b[0m \u001b[0;32min\u001b[0m \u001b[0menumerate\u001b[0m\u001b[0;34m(\u001b[0m\u001b[0mdiccionario\u001b[0m\u001b[0;34m[\u001b[0m\u001b[0;34m:\u001b[0m\u001b[0mtamaño_vocabulario\u001b[0m\u001b[0;34m]\u001b[0m\u001b[0;34m)\u001b[0m\u001b[0;34m}\u001b[0m\u001b[0;34m\u001b[0m\u001b[0;34m\u001b[0m\u001b[0m\n\u001b[0m\u001b[1;32m     39\u001b[0m \u001b[0;34m\u001b[0m\u001b[0m\n\u001b[1;32m     40\u001b[0m \u001b[0mprint\u001b[0m\u001b[0;34m(\u001b[0m\u001b[0;34m\"diccionario:\"\u001b[0m\u001b[0;34m)\u001b[0m\u001b[0;34m\u001b[0m\u001b[0;34m\u001b[0m\u001b[0m\n",
            "\u001b[0;31mTypeError\u001b[0m: unhashable type: 'slice'"
          ]
        }
      ]
    },
    {
      "cell_type": "code",
      "source": [
        "# b.\tIndica el tamaño del vocabulario generado.\n",
        "\n",
        "print('Longitud del vocabulario generado:')\n",
        "\n",
        "\n",
        "# ******* Inicia la sección de agregar código: ***********\n",
        "\n",
        "\n",
        "None\n",
        "\n",
        "\n",
        "# *********** Aquí termina la sección de agregar código *************"
      ],
      "metadata": {
        "id": "yTDZ0Rr86CUP"
      },
      "execution_count": null,
      "outputs": []
    },
    {
      "cell_type": "markdown",
      "source": [
        "c.\t¿Por qué debe usarse solamente el conjunto de entrenamiento para generar el vocabulario?\n",
        "\n",
        "\n",
        "### ++++++++ Inicia la sección de agregar texto: +++++++++++\n",
        "\n",
        "None\n",
        "\n",
        "### ++++++++ Termina la sección de agregar texto: +++++++++++\n"
      ],
      "metadata": {
        "id": "NDa4EhTqrw15"
      }
    },
    {
      "cell_type": "code",
      "source": [
        "# d.\tCon el vocabulario generado, filtra los conjuntos de entrenamiento,\n",
        "#     validación y prueba para que todos los comentarios usen solamente las\n",
        "#     palabras de este vocabulario.\n",
        "\n",
        "#     Llamar train_x, val_x y test_x a estos tres conjuntos.\n",
        "\n",
        "\n",
        "# ******* Inlcuye a continuación todas las líneas de código y celdas que requieras: ***********\n",
        "\n",
        "\n",
        "None\n",
        "\n",
        "\n",
        "# *********** Aquí termina la sección de agregar código *************\n"
      ],
      "metadata": {
        "id": "7ykjxQI3rpxx"
      },
      "execution_count": null,
      "outputs": []
    },
    {
      "cell_type": "code",
      "source": [
        "# Vemos el resultado de los primeros comentarios del conjunto de entrenamiento:\n",
        "\n",
        "for ss in train_x[0:5]:\n",
        "  print(ss)"
      ],
      "metadata": {
        "id": "iYF2RGuPtQTC"
      },
      "execution_count": null,
      "outputs": []
    },
    {
      "cell_type": "markdown",
      "source": [
        "#**Pregunta - 5:**"
      ],
      "metadata": {
        "id": "RS0Hxj25vTWh"
      }
    },
    {
      "cell_type": "markdown",
      "source": [
        "\n",
        "a. Incluye una tabla comparativa de pros y contras entre los modelos FastText, word2vec de Google y Glove de Stanford."
      ],
      "metadata": {
        "id": "CnHHAza5_P5Z"
      }
    },
    {
      "cell_type": "markdown",
      "source": [
        "### ++++++++ Inicia la sección de agregar texto: +++++++++++\n",
        "\n",
        "None\n",
        "\n",
        "### ++++++++ Termina la sección de agregar texto: +++++++++++\n"
      ],
      "metadata": {
        "id": "uTI9xSgF_Xc8"
      }
    },
    {
      "cell_type": "markdown",
      "source": [
        "#**Pregunta - 6:**\n",
        "\n",
        "Utiliza el modelo FastText de vectores embebidos pre-entrenados de dimensión 300 para generar un nuevo diccionario clave-valor, donde la “clave” será cada token o palabra de tu vocabulario y el “valor” será su vector embebido de dimensión 300.\n",
        "\n",
        "Este diccionario deberá ser del mismo tamaño que el vocabulario previo que hayas construido previamente.\n",
        "\n",
        "Es recomendable que una vez que generes el nuevo vocabulario de vectores embebidos, guardes dicho diccionario en un archivo.\n",
        "\n",
        "Recuerda borrar la variable donde descargaste los 2 millones de vectores embebidos Fasttext.\n",
        "\n"
      ],
      "metadata": {
        "id": "ToqRl7fT_fn2"
      }
    },
    {
      "cell_type": "code",
      "source": [
        "# ******* Inlcuye a continuación todas las líneas de código y celdas que requieras: ***********\n",
        "\n",
        "\n",
        "None\n",
        "\n",
        "\n",
        "# *********** Aquí termina la sección de agregar código *************"
      ],
      "metadata": {
        "id": "UdK-jMfLxHLY"
      },
      "execution_count": null,
      "outputs": []
    },
    {
      "cell_type": "markdown",
      "source": [
        "#**Pregunta - 7:**"
      ],
      "metadata": {
        "id": "W4S7q0yR0Mpi"
      }
    },
    {
      "cell_type": "markdown",
      "source": [
        "\n",
        "\n",
        "Generamos los vectores embebidos a paertir de los conjuntos de entrenamiento, validación y preuba.\n",
        "\n",
        "Los llamaremos trainEmb, valEmb y testEmb, respectivamente."
      ],
      "metadata": {
        "id": "VyeOrkoaC1eq"
      }
    },
    {
      "cell_type": "code",
      "source": [
        "# ******* Inlcuye a continuación todas las líneas de código y celdas que requieras: ***********\n",
        "\n",
        "\n",
        "None\n",
        "\n",
        "\n",
        "# *********** Aquí termina la sección de agregar código *************"
      ],
      "metadata": {
        "id": "wnfQpkxg0Usq"
      },
      "execution_count": null,
      "outputs": []
    },
    {
      "cell_type": "code",
      "source": [
        "# Veamos las dimensiones de cada conjunto embebido:\n",
        "\n",
        "print(\"Train-Emb:\", trainEmb.shape)\n",
        "print(\"Val-Emb:\", valEmb.shape)\n",
        "print(\"Test-Emb:\", testEmb.shape)"
      ],
      "metadata": {
        "id": "J3BBF96D0N8Z"
      },
      "execution_count": null,
      "outputs": []
    },
    {
      "cell_type": "markdown",
      "source": [
        "#**Pregunta - 8:**\n"
      ],
      "metadata": {
        "id": "pibp1LA91CP_"
      }
    },
    {
      "cell_type": "markdown",
      "source": [
        "\n",
        "Utiliza los modelos de regresión logística y bosque aleatorio (random forest) y encuentra sus desempeños.\n",
        "\n",
        "Compara los resultados con los de la semana anterior."
      ],
      "metadata": {
        "id": "UxC9K0VnGOwG"
      }
    },
    {
      "cell_type": "code",
      "source": [
        "# REGRESIÓN LOGÍSTICA:\n",
        "\n",
        "# ******* Inlcuye a continuación todas las líneas de código y celdas que requieras: ***********\n",
        "\n",
        "\n",
        "None\n",
        "\n",
        "\n",
        "# *********** Aquí termina la sección de agregar código *************\n"
      ],
      "metadata": {
        "id": "ycwjD8ztGOL7"
      },
      "execution_count": null,
      "outputs": []
    },
    {
      "cell_type": "code",
      "source": [
        "# BOSQUE ALEATORIO (Random Forest):\n",
        "\n",
        "# ******* Inlcuye a continuación todas las líneas de código y celdas que requieras: ***********\n",
        "\n",
        "\n",
        "None\n",
        "\n",
        "\n",
        "# *********** Aquí termina la sección de agregar código *************"
      ],
      "metadata": {
        "id": "N4n70GHW0sl3"
      },
      "execution_count": null,
      "outputs": []
    },
    {
      "cell_type": "markdown",
      "source": [
        "#**Pregunta - 9:**"
      ],
      "metadata": {
        "id": "WDIiSHvg0_hm"
      }
    },
    {
      "cell_type": "markdown",
      "source": [
        "\n",
        "\n",
        "Reporte del mejor modelo.\n"
      ],
      "metadata": {
        "id": "dJJtALGZHrGk"
      }
    },
    {
      "cell_type": "code",
      "source": [
        "# ******* Inlcuye a continuación todas las líneas de código y celdas que requieras: ***********\n",
        "\n",
        "\n",
        "None\n",
        "\n",
        "\n",
        "# *********** Aquí termina la sección de agregar código *************"
      ],
      "metadata": {
        "id": "ETv4VLjP1GYt"
      },
      "execution_count": null,
      "outputs": []
    },
    {
      "cell_type": "markdown",
      "source": [
        "#**Pregunta - 10:**"
      ],
      "metadata": {
        "id": "YCkh2WfN1MC1"
      }
    },
    {
      "cell_type": "markdown",
      "source": [
        "\n",
        "\n",
        "Incluye tus comentarios finales de la actividad.\n",
        "\n",
        "### ++++++++ Inicia la sección de agregar texto: +++++++++++\n",
        "\n",
        "None\n",
        "\n",
        "### ++++++++ Termina la sección de agregar texto: +++++++++++"
      ],
      "metadata": {
        "id": "4ySFuDQtVuK5"
      }
    },
    {
      "cell_type": "markdown",
      "source": [
        "##**Fin de la Actividad de vectores Embebidos - FastText**"
      ],
      "metadata": {
        "id": "bgKHmQTbWJT1"
      }
    }
  ]
}