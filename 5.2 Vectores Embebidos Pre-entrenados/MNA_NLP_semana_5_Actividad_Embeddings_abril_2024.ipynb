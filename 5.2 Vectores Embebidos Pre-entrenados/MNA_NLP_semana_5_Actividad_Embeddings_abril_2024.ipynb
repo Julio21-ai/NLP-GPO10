{
  "nbformat": 4,
  "nbformat_minor": 0,
  "metadata": {
    "colab": {
      "provenance": [],
      "include_colab_link": true
    },
    "kernelspec": {
      "name": "python3",
      "display_name": "Python 3"
    }
  },
  "cells": [
    {
      "cell_type": "markdown",
      "metadata": {
        "id": "view-in-github",
        "colab_type": "text"
      },
      "source": [
        "<a href=\"https://colab.research.google.com/github/Julio21-ai/NLP-GPO10/blob/main/5.2%20Vectores%20Embebidos%20Pre-entrenados/MNA_NLP_semana_5_Actividad_Embeddings_abril_2024.ipynb\" target=\"_parent\"><img src=\"https://colab.research.google.com/assets/colab-badge.svg\" alt=\"Open In Colab\"/></a>"
      ]
    },
    {
      "cell_type": "markdown",
      "source": [
        "![Evidence 3](https://i.imgur.com/mu6ZuGT.jpg)\n",
        "# **Maestría en Inteligencia Artificial Aplicada**\n",
        "\n",
        "## Curso: **Procesamiento de Lenguaje Natural**\n",
        "\n",
        "### Tecnológico de Monterrey\n",
        "\n",
        "### Prof Luis Eduardo Falcón Morales\n",
        "\n",
        "## Actividad Semana 5\n",
        "\n",
        "### **Vectores Embebidos Pre-entrenados: Fasttext**"
      ],
      "metadata": {
        "id": "lNl8G3vHkPSX"
      }
    },
    {
      "cell_type": "markdown",
      "source": [
        "#### **Nombres y matrículas de los integrantes del equipo:**\n",
        "\n",
        "\n",
        "\n",
        "*   **Julio Baltazar Colín: A01794476**\n",
        "*   Elemento de lista\n",
        "\n"
      ],
      "metadata": {
        "id": "U69mHA6i201G"
      }
    },
    {
      "cell_type": "code",
      "metadata": {
        "id": "wCL2p6MA8NuT",
        "colab": {
          "base_uri": "https://localhost:8080/"
        },
        "outputId": "ef8798ca-f62b-47e8-8009-2800497afbb9"
      },
      "source": [
        "# Aquí deberás incluir todas las librerías que requieras durante esta actividad:\n",
        "import pandas as pd\n",
        "import numpy as np\n",
        "\n",
        "import nltk\n",
        "from nltk.corpus import stopwords\n",
        "\n",
        "import re\n",
        "import string\n",
        "\n",
        "from nltk.stem import WordNetLemmatizer\n",
        "nltk.download('wordnet')\n",
        "\n",
        "# Instalar el paquete contractions\n",
        "!pip install contractions\n",
        "from collections import Counter\n",
        "import nltk\n",
        "import contractions\n",
        "from nltk.stem import WordNetLemmatizer\n",
        "from nltk.tokenize import word_tokenize\n",
        "\n",
        "import matplotlib.pyplot as plt\n"
      ],
      "execution_count": 12,
      "outputs": [
        {
          "output_type": "stream",
          "name": "stderr",
          "text": [
            "[nltk_data] Downloading package wordnet to /root/nltk_data...\n",
            "[nltk_data]   Package wordnet is already up-to-date!\n"
          ]
        },
        {
          "output_type": "stream",
          "name": "stdout",
          "text": [
            "Requirement already satisfied: contractions in /usr/local/lib/python3.10/dist-packages (0.1.73)\n",
            "Requirement already satisfied: textsearch>=0.0.21 in /usr/local/lib/python3.10/dist-packages (from contractions) (0.0.24)\n",
            "Requirement already satisfied: anyascii in /usr/local/lib/python3.10/dist-packages (from textsearch>=0.0.21->contractions) (0.3.2)\n",
            "Requirement already satisfied: pyahocorasick in /usr/local/lib/python3.10/dist-packages (from textsearch>=0.0.21->contractions) (2.1.0)\n"
          ]
        }
      ]
    },
    {
      "cell_type": "markdown",
      "source": [
        "##**Pregunta - 1:**\n",
        "\n"
      ],
      "metadata": {
        "id": "4c34ZOnna3Gu"
      }
    },
    {
      "cell_type": "markdown",
      "source": [
        "Descarga los 3 archivos de Canvas y genera un nuevo DataFrame de Pandas con ellos.\n",
        "\n",
        "**Llama simplemente \"df\" a dicho DataFrame.**\n",
        "\n",
        "Los archivos los encuentras en Canvas: amazon5.txt, imdb5.txt, yelp5.txt.\n",
        "\n"
      ],
      "metadata": {
        "id": "yeNllxRdmeWg"
      }
    },
    {
      "cell_type": "code",
      "source": [
        "#carga de datos desde un repositorio externo:\n",
        "\n",
        "import requests\n",
        "urlAmzn = 'https://raw.githubusercontent.com/Julio21-ai/NLP-GPO10/main/5.2%20Vectores%20Embebidos%20Pre-entrenados/amazon5.txt'\n",
        "urlimdb = 'https://raw.githubusercontent.com/Julio21-ai/NLP-GPO10/main/5.2%20Vectores%20Embebidos%20Pre-entrenados/imdb5.txt'\n",
        "urlyelp = 'https://raw.githubusercontent.com/Julio21-ai/NLP-GPO10/main/3.2%20Actividad%202/yelp_labelled.txt'\n",
        "\n",
        "responce_amzn = requests.get(urlAmzn)\n",
        "responce_imdb = requests.get(urlimdb)\n",
        "responce_urlyelp = requests.get(urlyelp)\n",
        "\n",
        "data_amzn = None\n",
        "data_imdb= None\n",
        "data_urlyelp= None\n",
        "\n",
        "if responce_amzn.status_code == 200: #200 = OK\n",
        "    data_amzn = responce_amzn.text\n",
        "else:\n",
        "    print(\"Error al obtener el archivo:\", responce_amzn.status_code)\n",
        "\n",
        "if responce_imdb.status_code == 200: #200 = OK\n",
        "    data_imdb = responce_imdb.text\n",
        "else:\n",
        "    print(\"Error al obtener el archivo:\", responce_imdb.status_code)\n",
        "\n",
        "if responce_urlyelp.status_code == 200: #200 = OK\n",
        "    data_urlyelp = responce_urlyelp.text\n",
        "else:\n",
        "    print(\"Error al obtener el archivo:\", responce_imdb.status_code)\n"
      ],
      "metadata": {
        "id": "g7esxl5yLN_g"
      },
      "execution_count": 13,
      "outputs": []
    },
    {
      "cell_type": "code",
      "source": [
        "\n",
        "# ******* Inlcuye a continuación todas las líneas de código y celdas que requieras: ***********\n",
        "from io import StringIO\n",
        "\n",
        "dfa = pd.read_csv(StringIO(data_amzn), sep='\\t', names=['review','label'], header=None, encoding='utf-8')\n",
        "dfi = pd.read_csv(StringIO(data_imdb), delimiter='\\t', names=['review','label'], header=None, encoding='utf-8')\n",
        "dfy = pd.read_csv(StringIO(data_urlyelp), sep='\\t', names=['review','label'], header=None, encoding='utf-8')\n",
        "\n",
        "\n",
        "print('Total de registros de Amazon:',dfa.shape)\n",
        "print('Total de registros de IMBD:',dfi.shape)\n",
        "print('Total de registros de Yelp:',dfy.shape)\n",
        "\n",
        "df = pd.concat([dfa, dfi, dfy], ignore_index=True)\n",
        "print('Total de registros dataframe df:',df.shape)\n",
        "\n",
        "# *********** Aquí termina la sección de agregar código *************\n"
      ],
      "metadata": {
        "id": "T_lyEFRkxzC6",
        "colab": {
          "base_uri": "https://localhost:8080/"
        },
        "outputId": "7dedb4aa-0ebe-42f3-dd9e-0897bae5d3fc"
      },
      "execution_count": 14,
      "outputs": [
        {
          "output_type": "stream",
          "name": "stdout",
          "text": [
            "Total de registros de Amazon: (1000, 2)\n",
            "Total de registros de IMBD: (1000, 2)\n",
            "Total de registros de Yelp: (1000, 2)\n",
            "Total de registros dataframe df: (3000, 2)\n"
          ]
        }
      ]
    },
    {
      "cell_type": "code",
      "source": [
        "# Verifiquemos la información del DataFrame:\n",
        "df.info()"
      ],
      "metadata": {
        "id": "3-w1xMLYnm9b",
        "colab": {
          "base_uri": "https://localhost:8080/"
        },
        "outputId": "665b768e-6df2-4545-86e9-4d737cde7e4b"
      },
      "execution_count": 15,
      "outputs": [
        {
          "output_type": "stream",
          "name": "stdout",
          "text": [
            "<class 'pandas.core.frame.DataFrame'>\n",
            "RangeIndex: 3000 entries, 0 to 2999\n",
            "Data columns (total 2 columns):\n",
            " #   Column  Non-Null Count  Dtype  \n",
            "---  ------  --------------  -----  \n",
            " 0   review  3000 non-null   object \n",
            " 1   label   2000 non-null   float64\n",
            "dtypes: float64(1), object(1)\n",
            "memory usage: 47.0+ KB\n"
          ]
        }
      ]
    },
    {
      "cell_type": "code",
      "source": [
        "# Y veamos sus primeros registros:\n",
        "\n",
        "df.head()"
      ],
      "metadata": {
        "id": "NfVUcYe1nubT",
        "colab": {
          "base_uri": "https://localhost:8080/",
          "height": 206
        },
        "outputId": "ea0d49dc-51af-4a42-c10c-fd44d056fb4c"
      },
      "execution_count": 16,
      "outputs": [
        {
          "output_type": "execute_result",
          "data": {
            "text/plain": [
              "                                              review  label\n",
              "0  So there is no way for me to plug it in here i...    0.0\n",
              "1                        Good case, Excellent value.    1.0\n",
              "2                             Great for the jawbone.    1.0\n",
              "3  Tied to charger for conversations lasting more...    0.0\n",
              "4                                  The mic is great.    1.0"
            ],
            "text/html": [
              "\n",
              "  <div id=\"df-d85912fc-8582-481d-952f-48e2257bda79\" class=\"colab-df-container\">\n",
              "    <div>\n",
              "<style scoped>\n",
              "    .dataframe tbody tr th:only-of-type {\n",
              "        vertical-align: middle;\n",
              "    }\n",
              "\n",
              "    .dataframe tbody tr th {\n",
              "        vertical-align: top;\n",
              "    }\n",
              "\n",
              "    .dataframe thead th {\n",
              "        text-align: right;\n",
              "    }\n",
              "</style>\n",
              "<table border=\"1\" class=\"dataframe\">\n",
              "  <thead>\n",
              "    <tr style=\"text-align: right;\">\n",
              "      <th></th>\n",
              "      <th>review</th>\n",
              "      <th>label</th>\n",
              "    </tr>\n",
              "  </thead>\n",
              "  <tbody>\n",
              "    <tr>\n",
              "      <th>0</th>\n",
              "      <td>So there is no way for me to plug it in here i...</td>\n",
              "      <td>0.0</td>\n",
              "    </tr>\n",
              "    <tr>\n",
              "      <th>1</th>\n",
              "      <td>Good case, Excellent value.</td>\n",
              "      <td>1.0</td>\n",
              "    </tr>\n",
              "    <tr>\n",
              "      <th>2</th>\n",
              "      <td>Great for the jawbone.</td>\n",
              "      <td>1.0</td>\n",
              "    </tr>\n",
              "    <tr>\n",
              "      <th>3</th>\n",
              "      <td>Tied to charger for conversations lasting more...</td>\n",
              "      <td>0.0</td>\n",
              "    </tr>\n",
              "    <tr>\n",
              "      <th>4</th>\n",
              "      <td>The mic is great.</td>\n",
              "      <td>1.0</td>\n",
              "    </tr>\n",
              "  </tbody>\n",
              "</table>\n",
              "</div>\n",
              "    <div class=\"colab-df-buttons\">\n",
              "\n",
              "  <div class=\"colab-df-container\">\n",
              "    <button class=\"colab-df-convert\" onclick=\"convertToInteractive('df-d85912fc-8582-481d-952f-48e2257bda79')\"\n",
              "            title=\"Convert this dataframe to an interactive table.\"\n",
              "            style=\"display:none;\">\n",
              "\n",
              "  <svg xmlns=\"http://www.w3.org/2000/svg\" height=\"24px\" viewBox=\"0 -960 960 960\">\n",
              "    <path d=\"M120-120v-720h720v720H120Zm60-500h600v-160H180v160Zm220 220h160v-160H400v160Zm0 220h160v-160H400v160ZM180-400h160v-160H180v160Zm440 0h160v-160H620v160ZM180-180h160v-160H180v160Zm440 0h160v-160H620v160Z\"/>\n",
              "  </svg>\n",
              "    </button>\n",
              "\n",
              "  <style>\n",
              "    .colab-df-container {\n",
              "      display:flex;\n",
              "      gap: 12px;\n",
              "    }\n",
              "\n",
              "    .colab-df-convert {\n",
              "      background-color: #E8F0FE;\n",
              "      border: none;\n",
              "      border-radius: 50%;\n",
              "      cursor: pointer;\n",
              "      display: none;\n",
              "      fill: #1967D2;\n",
              "      height: 32px;\n",
              "      padding: 0 0 0 0;\n",
              "      width: 32px;\n",
              "    }\n",
              "\n",
              "    .colab-df-convert:hover {\n",
              "      background-color: #E2EBFA;\n",
              "      box-shadow: 0px 1px 2px rgba(60, 64, 67, 0.3), 0px 1px 3px 1px rgba(60, 64, 67, 0.15);\n",
              "      fill: #174EA6;\n",
              "    }\n",
              "\n",
              "    .colab-df-buttons div {\n",
              "      margin-bottom: 4px;\n",
              "    }\n",
              "\n",
              "    [theme=dark] .colab-df-convert {\n",
              "      background-color: #3B4455;\n",
              "      fill: #D2E3FC;\n",
              "    }\n",
              "\n",
              "    [theme=dark] .colab-df-convert:hover {\n",
              "      background-color: #434B5C;\n",
              "      box-shadow: 0px 1px 3px 1px rgba(0, 0, 0, 0.15);\n",
              "      filter: drop-shadow(0px 1px 2px rgba(0, 0, 0, 0.3));\n",
              "      fill: #FFFFFF;\n",
              "    }\n",
              "  </style>\n",
              "\n",
              "    <script>\n",
              "      const buttonEl =\n",
              "        document.querySelector('#df-d85912fc-8582-481d-952f-48e2257bda79 button.colab-df-convert');\n",
              "      buttonEl.style.display =\n",
              "        google.colab.kernel.accessAllowed ? 'block' : 'none';\n",
              "\n",
              "      async function convertToInteractive(key) {\n",
              "        const element = document.querySelector('#df-d85912fc-8582-481d-952f-48e2257bda79');\n",
              "        const dataTable =\n",
              "          await google.colab.kernel.invokeFunction('convertToInteractive',\n",
              "                                                    [key], {});\n",
              "        if (!dataTable) return;\n",
              "\n",
              "        const docLinkHtml = 'Like what you see? Visit the ' +\n",
              "          '<a target=\"_blank\" href=https://colab.research.google.com/notebooks/data_table.ipynb>data table notebook</a>'\n",
              "          + ' to learn more about interactive tables.';\n",
              "        element.innerHTML = '';\n",
              "        dataTable['output_type'] = 'display_data';\n",
              "        await google.colab.output.renderOutput(dataTable, element);\n",
              "        const docLink = document.createElement('div');\n",
              "        docLink.innerHTML = docLinkHtml;\n",
              "        element.appendChild(docLink);\n",
              "      }\n",
              "    </script>\n",
              "  </div>\n",
              "\n",
              "\n",
              "<div id=\"df-305e2fb3-7199-475f-a36b-c826da08df83\">\n",
              "  <button class=\"colab-df-quickchart\" onclick=\"quickchart('df-305e2fb3-7199-475f-a36b-c826da08df83')\"\n",
              "            title=\"Suggest charts\"\n",
              "            style=\"display:none;\">\n",
              "\n",
              "<svg xmlns=\"http://www.w3.org/2000/svg\" height=\"24px\"viewBox=\"0 0 24 24\"\n",
              "     width=\"24px\">\n",
              "    <g>\n",
              "        <path d=\"M19 3H5c-1.1 0-2 .9-2 2v14c0 1.1.9 2 2 2h14c1.1 0 2-.9 2-2V5c0-1.1-.9-2-2-2zM9 17H7v-7h2v7zm4 0h-2V7h2v10zm4 0h-2v-4h2v4z\"/>\n",
              "    </g>\n",
              "</svg>\n",
              "  </button>\n",
              "\n",
              "<style>\n",
              "  .colab-df-quickchart {\n",
              "      --bg-color: #E8F0FE;\n",
              "      --fill-color: #1967D2;\n",
              "      --hover-bg-color: #E2EBFA;\n",
              "      --hover-fill-color: #174EA6;\n",
              "      --disabled-fill-color: #AAA;\n",
              "      --disabled-bg-color: #DDD;\n",
              "  }\n",
              "\n",
              "  [theme=dark] .colab-df-quickchart {\n",
              "      --bg-color: #3B4455;\n",
              "      --fill-color: #D2E3FC;\n",
              "      --hover-bg-color: #434B5C;\n",
              "      --hover-fill-color: #FFFFFF;\n",
              "      --disabled-bg-color: #3B4455;\n",
              "      --disabled-fill-color: #666;\n",
              "  }\n",
              "\n",
              "  .colab-df-quickchart {\n",
              "    background-color: var(--bg-color);\n",
              "    border: none;\n",
              "    border-radius: 50%;\n",
              "    cursor: pointer;\n",
              "    display: none;\n",
              "    fill: var(--fill-color);\n",
              "    height: 32px;\n",
              "    padding: 0;\n",
              "    width: 32px;\n",
              "  }\n",
              "\n",
              "  .colab-df-quickchart:hover {\n",
              "    background-color: var(--hover-bg-color);\n",
              "    box-shadow: 0 1px 2px rgba(60, 64, 67, 0.3), 0 1px 3px 1px rgba(60, 64, 67, 0.15);\n",
              "    fill: var(--button-hover-fill-color);\n",
              "  }\n",
              "\n",
              "  .colab-df-quickchart-complete:disabled,\n",
              "  .colab-df-quickchart-complete:disabled:hover {\n",
              "    background-color: var(--disabled-bg-color);\n",
              "    fill: var(--disabled-fill-color);\n",
              "    box-shadow: none;\n",
              "  }\n",
              "\n",
              "  .colab-df-spinner {\n",
              "    border: 2px solid var(--fill-color);\n",
              "    border-color: transparent;\n",
              "    border-bottom-color: var(--fill-color);\n",
              "    animation:\n",
              "      spin 1s steps(1) infinite;\n",
              "  }\n",
              "\n",
              "  @keyframes spin {\n",
              "    0% {\n",
              "      border-color: transparent;\n",
              "      border-bottom-color: var(--fill-color);\n",
              "      border-left-color: var(--fill-color);\n",
              "    }\n",
              "    20% {\n",
              "      border-color: transparent;\n",
              "      border-left-color: var(--fill-color);\n",
              "      border-top-color: var(--fill-color);\n",
              "    }\n",
              "    30% {\n",
              "      border-color: transparent;\n",
              "      border-left-color: var(--fill-color);\n",
              "      border-top-color: var(--fill-color);\n",
              "      border-right-color: var(--fill-color);\n",
              "    }\n",
              "    40% {\n",
              "      border-color: transparent;\n",
              "      border-right-color: var(--fill-color);\n",
              "      border-top-color: var(--fill-color);\n",
              "    }\n",
              "    60% {\n",
              "      border-color: transparent;\n",
              "      border-right-color: var(--fill-color);\n",
              "    }\n",
              "    80% {\n",
              "      border-color: transparent;\n",
              "      border-right-color: var(--fill-color);\n",
              "      border-bottom-color: var(--fill-color);\n",
              "    }\n",
              "    90% {\n",
              "      border-color: transparent;\n",
              "      border-bottom-color: var(--fill-color);\n",
              "    }\n",
              "  }\n",
              "</style>\n",
              "\n",
              "  <script>\n",
              "    async function quickchart(key) {\n",
              "      const quickchartButtonEl =\n",
              "        document.querySelector('#' + key + ' button');\n",
              "      quickchartButtonEl.disabled = true;  // To prevent multiple clicks.\n",
              "      quickchartButtonEl.classList.add('colab-df-spinner');\n",
              "      try {\n",
              "        const charts = await google.colab.kernel.invokeFunction(\n",
              "            'suggestCharts', [key], {});\n",
              "      } catch (error) {\n",
              "        console.error('Error during call to suggestCharts:', error);\n",
              "      }\n",
              "      quickchartButtonEl.classList.remove('colab-df-spinner');\n",
              "      quickchartButtonEl.classList.add('colab-df-quickchart-complete');\n",
              "    }\n",
              "    (() => {\n",
              "      let quickchartButtonEl =\n",
              "        document.querySelector('#df-305e2fb3-7199-475f-a36b-c826da08df83 button');\n",
              "      quickchartButtonEl.style.display =\n",
              "        google.colab.kernel.accessAllowed ? 'block' : 'none';\n",
              "    })();\n",
              "  </script>\n",
              "</div>\n",
              "    </div>\n",
              "  </div>\n"
            ],
            "application/vnd.google.colaboratory.intrinsic+json": {
              "type": "dataframe",
              "variable_name": "df",
              "summary": "{\n  \"name\": \"df\",\n  \"rows\": 3000,\n  \"fields\": [\n    {\n      \"column\": \"review\",\n      \"properties\": {\n        \"dtype\": \"string\",\n        \"num_unique_values\": 2983,\n        \"samples\": [\n          \"We've tried to like this place but after 10+ times I think we're done with them.\",\n          \"The script is a big flawed mess.    0\",\n          \"It was that loud.Glad to say that the Plantronics 510 maintains a flawless connection to my cell and with no static during normal use.\"\n        ],\n        \"semantic_type\": \"\",\n        \"description\": \"\"\n      }\n    },\n    {\n      \"column\": \"label\",\n      \"properties\": {\n        \"dtype\": \"number\",\n        \"std\": 0.5001250468945398,\n        \"min\": 0.0,\n        \"max\": 1.0,\n        \"num_unique_values\": 2,\n        \"samples\": [\n          1.0,\n          0.0\n        ],\n        \"semantic_type\": \"\",\n        \"description\": \"\"\n      }\n    }\n  ]\n}"
            }
          },
          "metadata": {},
          "execution_count": 16
        }
      ]
    },
    {
      "cell_type": "markdown",
      "source": [
        "##**Pregunta - 2:**"
      ],
      "metadata": {
        "id": "MfZZ0stLmWJN"
      }
    },
    {
      "cell_type": "markdown",
      "source": [
        "Realiza el proceso de limpieza.\n",
        "\n",
        "Aplica el preprocesamiento que consideres adecuado, sin embargo, deberás aplicar necesariamente alguna de las técnicas de lematización.\n",
        "\n",
        "\n",
        "\n",
        "\n",
        "\n",
        "\n",
        "\n",
        "\n",
        "\n"
      ],
      "metadata": {
        "id": "7F6JF5BommZ6"
      }
    },
    {
      "cell_type": "code",
      "source": [
        "# ******* Inlcuye a continuación todas las líneas de código y celdas que requieras: ***********\n",
        "def remover_espacios_extra(texto):\n",
        "    # Eliminar los espacios iniciales y finales y dividir el texto por espacios\n",
        "    texto_filtrado = re.sub(r'\\s+', ' ', texto).strip().split()\n",
        "    # texto_filtrado las palabras con un solo espacio\n",
        "    retval = ' '.join(texto_filtrado)\n",
        "    return retval\n",
        "\n",
        "def procesar_comilla(texto):\n",
        "    texto_filtrado = texto\n",
        "    # Eliminar terminaciones 's\n",
        "    texto_filtrado = re.sub(r\"'s\\b\", '', texto_filtrado)\n",
        "    # Reemplazar \".\", \",\" , \":\", y \"_\" por espacios en blanco\n",
        "    texto_filtrado = re.sub(r\"\\'\", ' ', texto_filtrado)\n",
        "    return texto_filtrado\n",
        "\n",
        "def eliminar_no_alfa(texto):\n",
        "    texto_filtrado = texto\n",
        "\n",
        "    # Eliminar caracteres no alfanuméricos, excepto \".\", \",\", \":\", \"-\" y \"_\"\n",
        "    texto_filtrado = re.sub(r\"[^\\w\\s\\.,:-]+\", '', texto_filtrado)\n",
        "\n",
        "    # Eliminar guiones repetidos en medio de la cadena\n",
        "    texto_filtrado = re.sub(r'(?<!-)-{2,}(?!-)', ' ', texto_filtrado)\n",
        "\n",
        "    # Eliminar guiones al principio y al final de la cadena\n",
        "    texto_filtrado = re.sub(r'^-+|-+$', '', texto_filtrado)\n",
        "\n",
        "    # Reemplazar \".\", \",\" , \":\", y \"_\" por espacios en blanco\n",
        "    texto_filtrado = re.sub(r'[\\.,:_]', ' ', texto_filtrado)\n",
        "\n",
        "    return texto_filtrado\n",
        "\n",
        "def minusculas(texto):\n",
        "    #Convertir a minusculas\n",
        "    return texto.lower()\n",
        "\n",
        "def remover_caracteres_sueltos(texto):\n",
        "    # Expresión regular para encontrar caracteres sueltos\n",
        "    expresion_regular = r'\\b\\w{1}\\b'  # Coincidirá con cualquier carácter único\n",
        "\n",
        "    # Reemplaza los caracteres sueltos con una cadena vacía\n",
        "    texto_filtrado = re.sub(expresion_regular, '', texto)\n",
        "\n",
        "    return texto_filtrado\n",
        "\n",
        "def eliminar_no_ascii(texto):\n",
        "    # Eliminar caracteres no ASCII\n",
        "    retval = re.sub(r'[^\\x00-\\x7F]+', '', texto)\n",
        "    return  texto\n",
        "\n",
        "def eliminar_digitos(texto):\n",
        "    # Utilizar una expresión regular para eliminar palabras con dígitos\n",
        "    texto_filtrado = re.sub(r'\\b\\w*\\d\\w*\\b', '', texto)\n",
        "\n",
        "    # Eliminar espacios adicionales resultantes\n",
        "    #texto_filtrado = re.sub(r'\\s+', ' ', texto_filtrado).strip()\n",
        "\n",
        "    return texto_filtrado\n",
        "\n",
        "\n",
        "def expandir_contracciones(texto):\n",
        "    # Expandir contracciones\n",
        "    return contractions.fix(texto)\n",
        "\n",
        "\n",
        "def lematizado(texto):\n",
        "    wnl = WordNetLemmatizer()\n",
        "    # Tokenizar el texto en palabras\n",
        "    palabras = word_tokenize(texto)\n",
        "\n",
        "    palabras_lemmatizadas = []\n",
        "    for palabra in palabras:\n",
        "        # Lemmatizar la palabra como adjetivo\n",
        "        lemmatizada = wnl.lemmatize(palabra, 'a')\n",
        "        # Lemmatizar la palabra como verbo\n",
        "        lemmatizada = wnl.lemmatize(lemmatizada, 'v')\n",
        "        # Lemmatizar la palabra como sustantivo\n",
        "        lemmatizada = wnl.lemmatize(lemmatizada, 'n')\n",
        "        # Lemmatizar la palabra como adverbio\n",
        "        lemmatizada = wnl.lemmatize(lemmatizada, 'r')\n",
        "        palabras_lemmatizadas.append(lemmatizada)\n",
        "\n",
        "    # Unir las palabras lemmatizadas en un texto de nuevo\n",
        "    texto_filtrado = ' '.join(palabras_lemmatizadas)\n",
        "\n",
        "    return texto_filtrado\n",
        "\n",
        "def remove_stop_words(lista_palabras, stopwords):\n",
        "    #Eliminar las stopwords\n",
        "    palabras_sin_stopwords = [palabra for palabra in lista_palabras if palabra not in stopwords]\n",
        "    return palabras_sin_stopwords\n",
        "\n",
        "\n",
        "def tokenizar(enunciado):\n",
        "    # Tokenizar el texto\n",
        "    tokens = word_tokenize(enunciado)\n",
        "    # Eliminar caracteres no alfanuméricos\n",
        "    tokens = [token for token in tokens if token.isalnum()]\n",
        "    return tokens\n",
        "\n",
        "def limpiar_texto(texto):\n",
        "  texto_filtrado = texto\n",
        "  texto_filtrado = expandir_contracciones(texto_filtrado)\n",
        "  texto_filtrado = procesar_comilla(texto_filtrado)\n",
        "  texto_filtrado = eliminar_no_alfa(texto_filtrado)\n",
        "  texto_filtrado = eliminar_no_ascii(texto_filtrado)\n",
        "  texto_filtrado = eliminar_digitos(texto_filtrado)\n",
        "  texto_filtrado = remover_espacios_extra(texto_filtrado)\n",
        "  texto_filtrado = lematizado(texto_filtrado)\n",
        "  texto_filtrado = remover_caracteres_sueltos(texto_filtrado)\n",
        "  texto_filtrado = minusculas(texto_filtrado)\n",
        "  return texto_filtrado\n",
        "\n",
        "# *********** Aquí termina la sección de agregar código *************\n",
        "\n"
      ],
      "metadata": {
        "id": "6qfe7J18NpNM"
      },
      "execution_count": 17,
      "outputs": []
    },
    {
      "cell_type": "code",
      "source": [
        "\n",
        "# ******* Inlcuye a continuación todas las líneas de código y celdas que requieras: ***********\n",
        "\n",
        "X = df.review     # Serie de strings\n",
        "Y = df.label      # Serie de enteros 0s y 1s\n",
        "\n",
        "\n",
        "texto_limpio = X.apply(limpiar_texto)\n",
        "df['review'].to_csv('rsultado_sucio.txt', index=False)\n",
        "texto_limpio.to_csv('resultado_limpio.txt', index=False)\n",
        "\n",
        "tokens_list = [tokenizar(texto) for texto in texto_limpio]\n",
        "Xclean = tokens_list\n",
        "\n",
        "# *********** Aquí termina la sección de agregar código *************"
      ],
      "metadata": {
        "id": "TsnvMp-7oYCM"
      },
      "execution_count": 18,
      "outputs": []
    },
    {
      "cell_type": "code",
      "source": [
        "# Despleguemos los primeros comentarios después de tu proceso de limpieza:\n",
        "\n",
        "for x in Xclean[0:5]:\n",
        "  print(x)\n"
      ],
      "metadata": {
        "id": "7jlQuoI2o33T",
        "colab": {
          "base_uri": "https://localhost:8080/"
        },
        "outputId": "976a197e-79e8-42b2-a5c1-5f135a839fd9"
      },
      "execution_count": 19,
      "outputs": [
        {
          "output_type": "stream",
          "name": "stdout",
          "text": [
            "['so', 'there', 'be', 'no', 'way', 'for', 'me', 'to', 'plug', 'it', 'in', 'here', 'in', 'the', 'us', 'unless', 'go', 'by', 'converter']\n",
            "['good', 'case', 'excellent', 'value']\n",
            "['great', 'for', 'the', 'jawbone']\n",
            "['tied', 'to', 'charger', 'for', 'conversation', 'last', 'more', 'than', 'minute', 'major', 'problems']\n",
            "['the', 'mic', 'be', 'great']\n"
          ]
        }
      ]
    },
    {
      "cell_type": "markdown",
      "source": [
        "#**Pregunta - 3:**\n"
      ],
      "metadata": {
        "id": "ygchEdcKqIzU"
      }
    },
    {
      "cell_type": "markdown",
      "source": [
        "\n",
        "Realicemos una partición aleatoria con los mismos porcentajes de la práctica pasada para poder comparar dichos resultados con los de\n",
        "esta actividad, a saber, 70%, 15% y 15%, para entrenamiento, validación y prueba, respectivamente."
      ],
      "metadata": {
        "id": "7wEIOkkl9Dot"
      }
    },
    {
      "cell_type": "code",
      "source": [
        "\n",
        "# ************* Inicia la sección de agregar código:*****************************\n",
        "\n",
        "from sklearn.model_selection import train_test_split\n",
        "\n",
        "x_train, x_val_and_test, y_train, y_val_and_test = train_test_split(Xclean, Y, train_size=.70, shuffle=True, random_state=1)\n",
        "x_val, x_test, y_val, y_test = train_test_split(x_val_and_test, y_val_and_test, test_size=.50, shuffle=True, random_state=17)\n",
        "\n",
        "print('X,y Train:', len(x_train), len(y_train))      # los \"x_\" son \"list\" y los \"y_\" son \"Series\"\n",
        "print('X,y Val:', len(x_val), len(y_val))\n",
        "print('X,y Test', len(x_test), len(y_test))\n",
        "\n",
        "# *********** Termina la sección de agregar código *************\n",
        "\n",
        "\n",
        "# verificemos las dimensiones obtenidas:\n",
        "print('X,y Train:', len(x_train), len(y_train))\n",
        "print('X,y Val:', len(x_val), len(y_val))\n",
        "print('X,y Test', len(x_test), len(y_test))"
      ],
      "metadata": {
        "id": "b0SAcYdq9X0w",
        "colab": {
          "base_uri": "https://localhost:8080/"
        },
        "outputId": "5bd301ed-e516-4ac3-a374-32efd62f40aa"
      },
      "execution_count": 20,
      "outputs": [
        {
          "output_type": "stream",
          "name": "stdout",
          "text": [
            "X,y Train: 2100 2100\n",
            "X,y Val: 450 450\n",
            "X,y Test 450 450\n",
            "X,y Train: 2100 2100\n",
            "X,y Val: 450 450\n",
            "X,y Test 450 450\n"
          ]
        }
      ]
    },
    {
      "cell_type": "markdown",
      "source": [
        "#**Pregunta - 4:**"
      ],
      "metadata": {
        "id": "1qjKoEqiqBN1"
      }
    },
    {
      "cell_type": "markdown",
      "source": [
        "\n",
        "\n",
        "Construye tu vocabulario a continuación\n"
      ],
      "metadata": {
        "id": "jENsKiN99r3F"
      }
    },
    {
      "cell_type": "code",
      "source": [
        "# a.\tUsa el conjunto de entrenamiento para generar tu vocabulario\n",
        "#     con un tamaño que consideres adecuado:\n",
        "\n",
        "\n",
        "# ******* Inlcuye a continuación todas las líneas de código y celdas que requieras: ***********\n",
        "\n",
        "\n",
        "lista_tokens = Counter()\n",
        "\n",
        "for k in range(len(x_train)):\n",
        "  lista_tokens.update(x_train[k])\n",
        "\n",
        "\n",
        "# Contar la frecuencia de cada token\n",
        "frecuencia_tokens = Counter(lista_tokens)\n",
        "\n",
        "# Definir el umbral de frecuencia\n",
        "umbral_frecuencia = 2\n",
        "\n",
        "# Filtrar palabras con frecuencia menor al umbral\n",
        "frecuencia_filtrada = {token: freq for token, freq in frecuencia_tokens.items() if freq >= umbral_frecuencia}\n",
        "\n",
        "# Ordenar palabras por frecuencia\n",
        "palabras_ordenadas = sorted(frecuencia_filtrada.items(), key=lambda item: item[1], reverse=True)\n",
        "diccionario = dict(palabras_ordenadas)\n",
        "\n",
        "# *********** Aquí termina la sección de agregar código *************"
      ],
      "metadata": {
        "id": "TzJntmLPqPqC"
      },
      "execution_count": 22,
      "outputs": []
    },
    {
      "cell_type": "code",
      "source": [
        "# b.\tIndica el tamaño del vocabulario generado.\n",
        "\n",
        "print('Longitud del vocabulario generado:')\n",
        "\n",
        "\n",
        "# ******* Inicia la sección de agregar código: ***********\n",
        "print(len(diccionario))\n",
        "\n",
        "# *********** Aquí termina la sección de agregar código *************"
      ],
      "metadata": {
        "id": "yTDZ0Rr86CUP",
        "colab": {
          "base_uri": "https://localhost:8080/"
        },
        "outputId": "6edc656f-d17a-4c69-c23a-d72d47ecdee0"
      },
      "execution_count": 32,
      "outputs": [
        {
          "output_type": "stream",
          "name": "stdout",
          "text": [
            "Longitud del vocabulario generado:\n",
            "1495\n"
          ]
        }
      ]
    },
    {
      "cell_type": "markdown",
      "source": [
        "c.\t¿Por qué debe usarse solamente el conjunto de entrenamiento para generar el vocabulario?\n",
        "\n",
        "\n",
        "### ++++++++ Inicia la sección de agregar texto: +++++++++++\n",
        "\n",
        "La principal razon para usar el conjunto de entrenamiento para genrar el vocabulario e evitar el fitrado de información, evitando que los modelos tengan una ventaja al momento de realizar las predicciones. Esto evita el sesgo en la informacion y una mayor imparcialidad en el modelo.\n",
        "\n",
        "Otra de las razones es la de mantener la consistencia al emplear un unico diccionario que seria comun para todos los modelos facilitando el manejo de la información y permitir que los datos sean reprodusibles.\n",
        "\n",
        "\n",
        "### ++++++++ Termina la sección de agregar texto: +++++++++++\n"
      ],
      "metadata": {
        "id": "NDa4EhTqrw15"
      }
    },
    {
      "cell_type": "code",
      "source": [
        "# d.\tCon el vocabulario generado, filtra los conjuntos de entrenamiento,\n",
        "#     validación y prueba para que todos los comentarios usen solamente las\n",
        "#     palabras de este vocabulario.\n",
        "\n",
        "#     Llamar train_x, val_x y test_x a estos tres conjuntos.\n",
        "\n",
        "\n",
        "# ******* Inlcuye a continuación todas las líneas de código y celdas que requieras: ***********\n",
        "\n",
        "\n",
        "None\n",
        "\n",
        "\n",
        "# *********** Aquí termina la sección de agregar código *************\n"
      ],
      "metadata": {
        "id": "7ykjxQI3rpxx"
      },
      "execution_count": null,
      "outputs": []
    },
    {
      "cell_type": "code",
      "source": [
        "# Vemos el resultado de los primeros comentarios del conjunto de entrenamiento:\n",
        "\n",
        "for ss in train_x[0:5]:\n",
        "  print(ss)"
      ],
      "metadata": {
        "id": "iYF2RGuPtQTC"
      },
      "execution_count": null,
      "outputs": []
    },
    {
      "cell_type": "markdown",
      "source": [
        "#**Pregunta - 5:**"
      ],
      "metadata": {
        "id": "RS0Hxj25vTWh"
      }
    },
    {
      "cell_type": "markdown",
      "source": [
        "\n",
        "a. Incluye una tabla comparativa de pros y contras entre los modelos FastText, word2vec de Google y Glove de Stanford."
      ],
      "metadata": {
        "id": "CnHHAza5_P5Z"
      }
    },
    {
      "cell_type": "markdown",
      "source": [
        "### ++++++++ Inicia la sección de agregar texto: +++++++++++\n",
        "\n",
        "None\n",
        "\n",
        "### ++++++++ Termina la sección de agregar texto: +++++++++++\n"
      ],
      "metadata": {
        "id": "uTI9xSgF_Xc8"
      }
    },
    {
      "cell_type": "markdown",
      "source": [
        "#**Pregunta - 6:**\n",
        "\n",
        "Utiliza el modelo FastText de vectores embebidos pre-entrenados de dimensión 300 para generar un nuevo diccionario clave-valor, donde la “clave” será cada token o palabra de tu vocabulario y el “valor” será su vector embebido de dimensión 300.\n",
        "\n",
        "Este diccionario deberá ser del mismo tamaño que el vocabulario previo que hayas construido previamente.\n",
        "\n",
        "Es recomendable que una vez que generes el nuevo vocabulario de vectores embebidos, guardes dicho diccionario en un archivo.\n",
        "\n",
        "Recuerda borrar la variable donde descargaste los 2 millones de vectores embebidos Fasttext.\n",
        "\n"
      ],
      "metadata": {
        "id": "ToqRl7fT_fn2"
      }
    },
    {
      "cell_type": "code",
      "source": [
        "# ******* Inlcuye a continuación todas las líneas de código y celdas que requieras: ***********\n",
        "\n",
        "\n",
        "None\n",
        "\n",
        "\n",
        "# *********** Aquí termina la sección de agregar código *************"
      ],
      "metadata": {
        "id": "UdK-jMfLxHLY"
      },
      "execution_count": null,
      "outputs": []
    },
    {
      "cell_type": "markdown",
      "source": [
        "#**Pregunta - 7:**"
      ],
      "metadata": {
        "id": "W4S7q0yR0Mpi"
      }
    },
    {
      "cell_type": "markdown",
      "source": [
        "\n",
        "\n",
        "Generamos los vectores embebidos a paertir de los conjuntos de entrenamiento, validación y preuba.\n",
        "\n",
        "Los llamaremos trainEmb, valEmb y testEmb, respectivamente."
      ],
      "metadata": {
        "id": "VyeOrkoaC1eq"
      }
    },
    {
      "cell_type": "code",
      "source": [
        "# ******* Inlcuye a continuación todas las líneas de código y celdas que requieras: ***********\n",
        "\n",
        "\n",
        "None\n",
        "\n",
        "\n",
        "# *********** Aquí termina la sección de agregar código *************"
      ],
      "metadata": {
        "id": "wnfQpkxg0Usq"
      },
      "execution_count": null,
      "outputs": []
    },
    {
      "cell_type": "code",
      "source": [
        "# Veamos las dimensiones de cada conjunto embebido:\n",
        "\n",
        "print(\"Train-Emb:\", trainEmb.shape)\n",
        "print(\"Val-Emb:\", valEmb.shape)\n",
        "print(\"Test-Emb:\", testEmb.shape)"
      ],
      "metadata": {
        "id": "J3BBF96D0N8Z"
      },
      "execution_count": null,
      "outputs": []
    },
    {
      "cell_type": "markdown",
      "source": [
        "#**Pregunta - 8:**\n"
      ],
      "metadata": {
        "id": "pibp1LA91CP_"
      }
    },
    {
      "cell_type": "markdown",
      "source": [
        "\n",
        "Utiliza los modelos de regresión logística y bosque aleatorio (random forest) y encuentra sus desempeños.\n",
        "\n",
        "Compara los resultados con los de la semana anterior."
      ],
      "metadata": {
        "id": "UxC9K0VnGOwG"
      }
    },
    {
      "cell_type": "code",
      "source": [
        "# REGRESIÓN LOGÍSTICA:\n",
        "\n",
        "# ******* Inlcuye a continuación todas las líneas de código y celdas que requieras: ***********\n",
        "\n",
        "\n",
        "None\n",
        "\n",
        "\n",
        "# *********** Aquí termina la sección de agregar código *************\n"
      ],
      "metadata": {
        "id": "ycwjD8ztGOL7"
      },
      "execution_count": null,
      "outputs": []
    },
    {
      "cell_type": "code",
      "source": [
        "# BOSQUE ALEATORIO (Random Forest):\n",
        "\n",
        "# ******* Inlcuye a continuación todas las líneas de código y celdas que requieras: ***********\n",
        "\n",
        "\n",
        "None\n",
        "\n",
        "\n",
        "# *********** Aquí termina la sección de agregar código *************"
      ],
      "metadata": {
        "id": "N4n70GHW0sl3"
      },
      "execution_count": null,
      "outputs": []
    },
    {
      "cell_type": "markdown",
      "source": [
        "#**Pregunta - 9:**"
      ],
      "metadata": {
        "id": "WDIiSHvg0_hm"
      }
    },
    {
      "cell_type": "markdown",
      "source": [
        "\n",
        "\n",
        "Reporte del mejor modelo.\n"
      ],
      "metadata": {
        "id": "dJJtALGZHrGk"
      }
    },
    {
      "cell_type": "code",
      "source": [
        "# ******* Inlcuye a continuación todas las líneas de código y celdas que requieras: ***********\n",
        "\n",
        "\n",
        "None\n",
        "\n",
        "\n",
        "# *********** Aquí termina la sección de agregar código *************"
      ],
      "metadata": {
        "id": "ETv4VLjP1GYt"
      },
      "execution_count": null,
      "outputs": []
    },
    {
      "cell_type": "markdown",
      "source": [
        "#**Pregunta - 10:**"
      ],
      "metadata": {
        "id": "YCkh2WfN1MC1"
      }
    },
    {
      "cell_type": "markdown",
      "source": [
        "\n",
        "\n",
        "Incluye tus comentarios finales de la actividad.\n",
        "\n",
        "### ++++++++ Inicia la sección de agregar texto: +++++++++++\n",
        "\n",
        "None\n",
        "\n",
        "### ++++++++ Termina la sección de agregar texto: +++++++++++"
      ],
      "metadata": {
        "id": "4ySFuDQtVuK5"
      }
    },
    {
      "cell_type": "markdown",
      "source": [
        "##**Fin de la Actividad de vectores Embebidos - FastText**"
      ],
      "metadata": {
        "id": "bgKHmQTbWJT1"
      }
    }
  ]
}