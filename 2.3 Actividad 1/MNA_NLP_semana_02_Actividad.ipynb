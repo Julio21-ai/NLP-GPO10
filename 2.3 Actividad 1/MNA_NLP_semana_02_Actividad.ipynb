{
  "nbformat": 4,
  "nbformat_minor": 0,
  "metadata": {
    "colab": {
      "provenance": [],
      "collapsed_sections": [
        "759SG4TyfbUn",
        "Zj-h4drXD-X9",
        "BY6yifxscfrx",
        "k_ewoagic5jc",
        "70StdqAZa9E9"
      ]
    },
    "kernelspec": {
      "name": "python3",
      "display_name": "Python 3"
    },
    "language_info": {
      "name": "python"
    }
  },
  "cells": [
    {
      "cell_type": "markdown",
      "source": [],
      "metadata": {
        "id": "KlBCClnau5-6"
      }
    },
    {
      "cell_type": "markdown",
      "source": [
        "![Evidence 3](https://i.imgur.com/mu6ZuGT.jpg)\n",
        "\n",
        "#**Maestría en Inteligencia Artificial Aplicada**\n",
        "##**Curso: Procesamiento de Lenguaje Natural (NLP)**\n",
        "###Tecnológico de Monterrey\n",
        "###Prof Luis Eduardo Falcón Morales\n",
        "\n",
        "## **Adtividad de la Semana 02**\n",
        "###**Introducción al procesamiento de texto.**\n",
        "\n",
        "##**Julio Baltazar Colín: A01794476**"
      ],
      "metadata": {
        "id": "759SG4TyfbUn"
      }
    },
    {
      "cell_type": "markdown",
      "source": [
        "En esta actividad deberás utilizar los datos del siguiente archivo que se encuentra en Canvas:\n",
        "\n",
        "MNA_NLP_semana_02_Actividad_datos.txt\n",
        "\n",
        "El archivo contiene comentarios en inglés sobre servicios de comida de la página de Yelp: https://www.yelp.com/ .\n",
        "\n",
        "Son mil comentarios y forman parte del conjunto de datos que se encuentra en el Machine Learning Repository de la UCI, llamado \"Sentiment Labelled Sentences\": https://archive.ics.uci.edu/ml/datasets/Sentiment+Labelled+Sentences#\n"
      ],
      "metadata": {
        "id": "6ue1YAKx3XDo"
      }
    },
    {
      "cell_type": "markdown",
      "source": [
        "#**Parte 1. Cargamos los datos.**   "
      ],
      "metadata": {
        "id": "Zj-h4drXD-X9"
      }
    },
    {
      "cell_type": "markdown",
      "source": [
        "Cargar los datos del archivo indicado y obtener una lista de longitud de 1000 strings/comentarios.\n",
        "\n",
        "Por el momento solamente requerimos las bibliotecas de Numpy y re, para el manejo de los arreglos y de las expresiones regulares en Python.\n",
        "\n",
        "En particular, no necesitarás en esta actividad la biblioteca de Pandas.\n",
        "\n",
        "###**NOTA: En esta actividad no debes importar nada más, con estas dos bibliotecas será *suficiente*.**"
      ],
      "metadata": {
        "id": "BY6yifxscfrx"
      }
    },
    {
      "cell_type": "code",
      "source": [
        "import numpy as np    # importamos Numpy para el manejo de los arreglos.\n",
        "import re             # importamos re para el manejo de las expresiones regulares."
      ],
      "metadata": {
        "id": "OJ26dAfhdFnf"
      },
      "execution_count": 1,
      "outputs": []
    },
    {
      "cell_type": "code",
      "source": [
        "import requests\n",
        "url = 'https://raw.githubusercontent.com/Julio21-ai/NLP-GPO10/main/2.3%20Actividad%201/MNA_NLP_semana_02_Actividad_datos.txt'\n",
        "\n",
        "response = requests.get(url)\n",
        "\n",
        "if response.status_code == 200: #200 = OK\n",
        "    docs = response.text.splitlines()  ## separamos cada comentario por líneas\n",
        "else:\n",
        "    print(\"Error al obtener el archivo:\", response.status_code)"
      ],
      "metadata": {
        "id": "zd5TQsvBGSka"
      },
      "execution_count": 2,
      "outputs": []
    },
    {
      "cell_type": "code",
      "source": [
        "type(docs) == list   # Verifica que tu variable \"docs\" es una lista"
      ],
      "metadata": {
        "id": "L6WzrSrodG-Y",
        "outputId": "93c3e1ae-fe43-49e9-9f11-5a99c483d6ce",
        "colab": {
          "base_uri": "https://localhost:8080/"
        }
      },
      "execution_count": 3,
      "outputs": [
        {
          "output_type": "execute_result",
          "data": {
            "text/plain": [
              "True"
            ]
          },
          "metadata": {},
          "execution_count": 3
        }
      ]
    },
    {
      "cell_type": "code",
      "source": [
        "len(docs)==1000  # verifica que la longitud de \"docs\" es de mil comentarios."
      ],
      "metadata": {
        "id": "QIK1u9WS2FtS",
        "outputId": "c2c598c5-87c0-4da5-d59f-79533ed283be",
        "colab": {
          "base_uri": "https://localhost:8080/"
        }
      },
      "execution_count": 4,
      "outputs": [
        {
          "output_type": "execute_result",
          "data": {
            "text/plain": [
              "True"
            ]
          },
          "metadata": {},
          "execution_count": 4
        }
      ]
    },
    {
      "cell_type": "code",
      "source": [
        "docs[0:10]     # observa algunos de los primeros comentarios"
      ],
      "metadata": {
        "id": "9AMLIfQvJqNZ",
        "colab": {
          "base_uri": "https://localhost:8080/"
        },
        "outputId": "faf581a8-5335-4d7e-f6c2-3f5415700ce8"
      },
      "execution_count": 5,
      "outputs": [
        {
          "output_type": "execute_result",
          "data": {
            "text/plain": [
              "['Wow... Loved this place.',\n",
              " 'Crust is not good.',\n",
              " 'Not tasty and the texture was just nasty.',\n",
              " 'Stopped by during the late May bank holiday off Rick Steve recommendation and loved it.',\n",
              " 'The selection on the menu was great and so were the prices.',\n",
              " 'Now I am getting angry and I want my damn pho.',\n",
              " \"Honeslty it didn't taste THAT fresh.)\",\n",
              " 'The potatoes were like rubber and you could tell they had been made up ahead of time being kept under a warmer.',\n",
              " 'The fries were great too.',\n",
              " 'A great touch.']"
            ]
          },
          "metadata": {},
          "execution_count": 5
        }
      ]
    },
    {
      "cell_type": "markdown",
      "source": [
        "#**Parte 2: sección de preguntas (regex).**   \n"
      ],
      "metadata": {
        "id": "k_ewoagic5jc"
      }
    },
    {
      "cell_type": "markdown",
      "source": [
        "##**Instrucciones:**\n",
        "\n",
        "###**A continuación deberás contestar cada una de las preguntas que te piden usando expresiones regulares (regex).**\n",
        "\n",
        "###**Por el momento no hay restricción en cuanto al número de líneas de código que agregues, pero trata de incluir las mínimas posibles.**"
      ],
      "metadata": {
        "id": "X-eMJa3DFCIV"
      }
    },
    {
      "cell_type": "markdown",
      "source": [
        "*   **Pregunta 1.**\n",
        "\n",
        "Busca y elimina todos los saltos de línea '\\n' que se encuentran al final de cada comentario.\n",
        "\n",
        "Una vez finalizado, imprime los primeros 10 comentarios del resultado obtenido.\n"
      ],
      "metadata": {
        "id": "78nJMemzn5a5"
      }
    },
    {
      "cell_type": "code",
      "source": [
        "#Eliminar los saltos de line del texto original (limpieza).\n",
        "#r indica raw string\n",
        "comentarios =  [re.sub(r'\\n$', '', commentario) for commentario in docs]\n",
        "\n",
        "#mostrar los primeros 10 elementos resultantes.\n",
        "comentarios[0:10]"
      ],
      "metadata": {
        "id": "PwbYYIuZn8pE",
        "colab": {
          "base_uri": "https://localhost:8080/"
        },
        "outputId": "aa1f7d18-8c58-45e4-911b-84d859f53834"
      },
      "execution_count": 6,
      "outputs": [
        {
          "output_type": "execute_result",
          "data": {
            "text/plain": [
              "['Wow... Loved this place.',\n",
              " 'Crust is not good.',\n",
              " 'Not tasty and the texture was just nasty.',\n",
              " 'Stopped by during the late May bank holiday off Rick Steve recommendation and loved it.',\n",
              " 'The selection on the menu was great and so were the prices.',\n",
              " 'Now I am getting angry and I want my damn pho.',\n",
              " \"Honeslty it didn't taste THAT fresh.)\",\n",
              " 'The potatoes were like rubber and you could tell they had been made up ahead of time being kept under a warmer.',\n",
              " 'The fries were great too.',\n",
              " 'A great touch.']"
            ]
          },
          "metadata": {},
          "execution_count": 6
        }
      ]
    },
    {
      "cell_type": "markdown",
      "source": [
        "*   **Pregunta 2.**  \n",
        "\n",
        "Busca e imprime todas las palabras que terminan con dos o más signos de admiración seguidos, por ejemplo \"!!!\".\n",
        "\n",
        "Debes imprimir tanto la palabra como la totalidad de signos de admiración que le siguen.\n",
        "\n",
        "Indica cuántos resultados obtuviste.\n",
        "\n"
      ],
      "metadata": {
        "id": "VWeKQC93ctEo"
      }
    },
    {
      "cell_type": "code",
      "source": [
        "#generar el patron de la expresión regular:\n",
        "  # \\w+ caracteres alfanumericos y guiones bajos una o mas veces\n",
        "  # !!+ dos o mas coincidencias de signos de admiración\n",
        "expresion_regular = r'\\w+!!+'\n",
        "#obtener los resultados:\n",
        "matches = [match for commentario in comentarios for match in re.findall(expresion_regular, commentario)]\n",
        "#obtener el total de coincidencias\n",
        "print(\"Número total de coincidencias:\", len(matches))\n"
      ],
      "metadata": {
        "id": "0p3kMXfddICc",
        "colab": {
          "base_uri": "https://localhost:8080/"
        },
        "outputId": "dc96d330-bf5f-496f-cf3e-58173757225e"
      },
      "execution_count": 7,
      "outputs": [
        {
          "output_type": "stream",
          "name": "stdout",
          "text": [
            "Número total de coincidencias: 26\n"
          ]
        }
      ]
    },
    {
      "cell_type": "code",
      "source": [
        "for match in matches:\n",
        "    print(match)"
      ],
      "metadata": {
        "id": "SPVM1MCWdH6Z",
        "colab": {
          "base_uri": "https://localhost:8080/"
        },
        "outputId": "6b86f152-42ea-43ab-a812-685dce1946d0"
      },
      "execution_count": 8,
      "outputs": [
        {
          "output_type": "stream",
          "name": "stdout",
          "text": [
            "Firehouse!!!!!\n",
            "APPETIZERS!!!\n",
            "amazing!!!\n",
            "buffet!!!\n",
            "good!!\n",
            "it!!!!\n",
            "DELICIOUS!!\n",
            "amazing!!\n",
            "shawarrrrrrma!!!!!!\n",
            "yucky!!!\n",
            "steak!!!!!\n",
            "delicious!!!\n",
            "far!!\n",
            "biscuits!!!\n",
            "dry!!\n",
            "disappointing!!!\n",
            "awesome!!\n",
            "Up!!\n",
            "FLY!!!!!!!!\n",
            "here!!!\n",
            "great!!!!!!!!!!!!!!\n",
            "packed!!\n",
            "otherwise!!\n",
            "amazing!!!!!!!!!!!!!!!!!!!\n",
            "style!!\n",
            "disappointed!!\n"
          ]
        }
      ]
    },
    {
      "cell_type": "markdown",
      "source": [
        "*   **Pregunta 3.**  \n",
        "\n",
        "Busca e imprime todas las palabras que están escritas totalmente en mayúsculas. Cada coincidencia debe ser una sola palabra.\n",
        "\n",
        "Indica cuántas palabras encontraste.\n",
        "\n"
      ],
      "metadata": {
        "id": "-s3okBqL96TT"
      }
    },
    {
      "cell_type": "code",
      "source": [
        "#generar el patron de la expresión regular:\n",
        "  # \\b limite de palabra\n",
        "  # [_A-Z] caracteres en mayusculas incluyendo numeros y guion bajo\n",
        "  # \\b limite de palabra\n",
        "expresion_regular = r'\\b[_A-Z0-9]+\\b'\n",
        "#obtener los resultados:\n",
        "matches = [match for commentario in comentarios for match in re.findall(expresion_regular, commentario)]\n",
        "#obtener el total de coincidencias\n",
        "print(\"Número total de coincidencias:\", len(matches))"
      ],
      "metadata": {
        "id": "yKHJkZKo_nW5",
        "colab": {
          "base_uri": "https://localhost:8080/"
        },
        "outputId": "f6c579b9-2c93-4d56-cf4a-514c4c6b6fdd"
      },
      "execution_count": 9,
      "outputs": [
        {
          "output_type": "stream",
          "name": "stdout",
          "text": [
            "Número total de coincidencias: 531\n"
          ]
        }
      ]
    },
    {
      "cell_type": "code",
      "source": [
        "#mostar las 50 primeras coincidencias\n",
        "for match in matches[:50]:\n",
        "    print(match)"
      ],
      "metadata": {
        "id": "L3q08aq69sNn",
        "colab": {
          "base_uri": "https://localhost:8080/"
        },
        "outputId": "1c363969-b711-49c5-89db-6e564a845835"
      },
      "execution_count": 10,
      "outputs": [
        {
          "output_type": "stream",
          "name": "stdout",
          "text": [
            "I\n",
            "I\n",
            "THAT\n",
            "A\n",
            "I\n",
            "I\n",
            "I\n",
            "I\n",
            "I\n",
            "I\n",
            "4\n",
            "23\n",
            "I\n",
            "I\n",
            "I\n",
            "I\n",
            "I\n",
            "5\n",
            "I\n",
            "10\n",
            "APPETIZERS\n",
            "A\n",
            "5\n",
            "2\n",
            "30\n",
            "I\n",
            "I\n",
            "I\n",
            "2\n",
            "I\n",
            "I\n",
            "2\n",
            "I\n",
            "I\n",
            "WILL\n",
            "NEVER\n",
            "EVER\n",
            "STEP\n",
            "FORWARD\n",
            "IN\n",
            "IT\n",
            "AGAIN\n",
            "I\n",
            "LOVED\n",
            "I\n",
            "AND\n",
            "REAL\n",
            "I\n",
            "I\n",
            "I\n"
          ]
        }
      ]
    },
    {
      "cell_type": "code",
      "source": [
        "#Eliminando las letras unicas como \"I\" (Yo) o A que se repiten varias veces  y\n",
        "# letras mayusculas sueltas\n",
        "#generar el patron de la expresión regular:\n",
        "  # \\b limite de palabra\n",
        "  # (?![A-Z]\\b) no permitir Letras sueltas como la palabra \"I\"\n",
        "  # [_A-Z] caracteres en mayusculas incluyendo numeros y guion bajo\n",
        "  # \\b limite de palabra\n",
        "expresion_regular = r'\\b(?![A-Z]\\b)[A-Z]+\\b'\n",
        "#obtener los resultados:\n",
        "matches = [match for commentario in comentarios for match in re.findall(expresion_regular, commentario)]\n",
        "#obtener el total de coincidencias\n",
        "print(\"Número total de coincidencias:\", len(matches))"
      ],
      "metadata": {
        "colab": {
          "base_uri": "https://localhost:8080/"
        },
        "id": "Z0QnHpCwt1_m",
        "outputId": "40ffa35f-a832-4017-f79b-b2cfb7d854c3"
      },
      "execution_count": 11,
      "outputs": [
        {
          "output_type": "stream",
          "name": "stdout",
          "text": [
            "Número total de coincidencias: 96\n"
          ]
        }
      ]
    },
    {
      "cell_type": "code",
      "source": [
        "#mostar las 50 primeras coincidencias\n",
        "for match in matches[:50]:\n",
        "    print(match)"
      ],
      "metadata": {
        "colab": {
          "base_uri": "https://localhost:8080/"
        },
        "id": "nJBAoSILuqSj",
        "outputId": "b6583ab2-bf10-4bcb-98d3-d09220e716a6"
      },
      "execution_count": 12,
      "outputs": [
        {
          "output_type": "stream",
          "name": "stdout",
          "text": [
            "THAT\n",
            "APPETIZERS\n",
            "WILL\n",
            "NEVER\n",
            "EVER\n",
            "STEP\n",
            "FORWARD\n",
            "IN\n",
            "IT\n",
            "AGAIN\n",
            "LOVED\n",
            "AND\n",
            "REAL\n",
            "BITCHES\n",
            "NYC\n",
            "STALE\n",
            "DELICIOUS\n",
            "WORST\n",
            "EXPERIENCE\n",
            "EVER\n",
            "ALL\n",
            "BARGAIN\n",
            "TV\n",
            "NONE\n",
            "FREEZING\n",
            "AYCE\n",
            "FLAVOR\n",
            "NEVER\n",
            "BBQ\n",
            "UNREAL\n",
            "OMG\n",
            "BETTER\n",
            "BLAND\n",
            "RUDE\n",
            "INCONSIDERATE\n",
            "MANAGEMENT\n",
            "WILL\n",
            "NEVER\n",
            "EVER\n",
            "GO\n",
            "BACK\n",
            "AND\n",
            "HAVE\n",
            "TOLD\n",
            "MANY\n",
            "PEOPLE\n",
            "WHAT\n",
            "HAD\n",
            "HAPPENED\n",
            "TOTAL\n"
          ]
        }
      ]
    },
    {
      "cell_type": "markdown",
      "source": [
        "*   **Pregunta 4.**  \n",
        "\n",
        "Busca e imprime los comentarios en donde todos los caracteres alfabéticos (letras) están en mayúsculas.\n",
        "\n",
        "Cada coincidencia encontrada debe ser todo el comentario/enunciado.\n",
        "\n",
        "Indica cuántos resultados obtuviste.\n"
      ],
      "metadata": {
        "id": "GX8eYyDoMZma"
      }
    },
    {
      "cell_type": "code",
      "source": [
        "#buscar todas las concidencias que no sean mayusculas:\n",
        "expresion_regular = r'^[^a-z]*$'\n",
        "#obtener los resultados:\n",
        "matches = [match for commentario in comentarios for match in re.findall(expresion_regular, commentario)]\n",
        "#obtener el total de coincidencias\n",
        "print(\"Número total de coincidencias:\", len(matches))"
      ],
      "metadata": {
        "id": "K8VuZxvTMYj6",
        "colab": {
          "base_uri": "https://localhost:8080/"
        },
        "outputId": "d0dc574e-7cfb-43cb-e7bf-97b83448ea83"
      },
      "execution_count": 13,
      "outputs": [
        {
          "output_type": "stream",
          "name": "stdout",
          "text": [
            "Número total de coincidencias: 5\n"
          ]
        }
      ]
    },
    {
      "cell_type": "code",
      "source": [
        "for match in matches[:50]:\n",
        "    print(match)"
      ],
      "metadata": {
        "id": "PmKgX7sCMcDx",
        "colab": {
          "base_uri": "https://localhost:8080/"
        },
        "outputId": "53a8175d-6abd-4462-945e-61ff3e4ec22c"
      },
      "execution_count": 14,
      "outputs": [
        {
          "output_type": "stream",
          "name": "stdout",
          "text": [
            "DELICIOUS!!\n",
            "RUDE & INCONSIDERATE MANAGEMENT.\n",
            "WILL NEVER EVER GO BACK AND HAVE TOLD MANY PEOPLE WHAT HAD HAPPENED.\n",
            "TOTAL WASTE OF TIME.\n",
            "AVOID THIS ESTABLISHMENT!\n"
          ]
        }
      ]
    },
    {
      "cell_type": "markdown",
      "source": [
        "*   **Pregunta 5.**  \n",
        "\n",
        "Busca e imprime todas las palabras que tengan una vocal acentuada, del tipo á, é, í, ó, ú.\n",
        "\n",
        "Indica cuántos resultados obtuviste."
      ],
      "metadata": {
        "id": "a1i6qv7-McmU"
      }
    },
    {
      "cell_type": "code",
      "source": [
        "#buscar todas las concidencias  á, é, í, ó, ú:\n",
        "expresion_regular = r'\\b\\w*[áéíóú]+\\w*\\b'\n",
        "#obtener los resultados:\n",
        "matches = [match for commentario in comentarios for match in re.findall(expresion_regular, commentario)]\n",
        "#obtener el total de coincidencias\n",
        "print(\"Número total de coincidencias:\", len(matches))\n",
        "\n"
      ],
      "metadata": {
        "id": "nZZ5zKUOMeGD",
        "colab": {
          "base_uri": "https://localhost:8080/"
        },
        "outputId": "9e5fd7f0-62cb-4e8a-82dd-ae92ff07cdf7"
      },
      "execution_count": 15,
      "outputs": [
        {
          "output_type": "stream",
          "name": "stdout",
          "text": [
            "Número total de coincidencias: 3\n"
          ]
        }
      ]
    },
    {
      "cell_type": "code",
      "source": [
        "for match in matches[:50]:\n",
        "    print(match)"
      ],
      "metadata": {
        "id": "l1mFvUEZMe8s",
        "colab": {
          "base_uri": "https://localhost:8080/"
        },
        "outputId": "6162da74-9be3-483a-d42f-c4439f922b40"
      },
      "execution_count": 16,
      "outputs": [
        {
          "output_type": "stream",
          "name": "stdout",
          "text": [
            "fiancé\n",
            "Café\n",
            "puréed\n"
          ]
        }
      ]
    },
    {
      "cell_type": "markdown",
      "source": [
        "*   **Pregunta 6.**  \n",
        "\n",
        "Busca e imprime todas las cantidades numéricas monetarias, enteras o con decimales, que inician con el símbolo $\\$$.\n",
        "\n",
        "Indica cuántos resultados obtuviste."
      ],
      "metadata": {
        "id": "ZmPiAI82Mfb3"
      }
    },
    {
      "cell_type": "code",
      "source": [
        "#buscar todas las concidencias numéricas monetarias, enteras o con decimales, que inician con el símbolo  $:\n",
        "expresion_regular = r'\\$\\d+(?:,\\d{3})*(?:\\.\\d+)?\\b'\n",
        "#\\b limite de palabra\n",
        "#\\$ El simbolo de moneda\n",
        "#\\d+ uno o mas digitos\n",
        "# (?:,\\d{3})* opcional coma seguida de 3 decimales\n",
        "# (?:\\.\\d+)?  opcional cero o una coincidencia con punto y digitos\n",
        "#\\b limite de palabra\n",
        "#obtener los resultados:\n",
        "matches = [match for commentario in comentarios for match in re.findall(expresion_regular, commentario)]\n",
        "#obtener el total de coincidencias\n",
        "print(\"Número total de coincidencias:\", len(matches))\n"
      ],
      "metadata": {
        "id": "6vhe9-Y-MhL9",
        "colab": {
          "base_uri": "https://localhost:8080/"
        },
        "outputId": "e0173353-e89f-4cef-fdbe-2ad743646ae1"
      },
      "execution_count": 17,
      "outputs": [
        {
          "output_type": "stream",
          "name": "stdout",
          "text": [
            "Número total de coincidencias: 8\n"
          ]
        }
      ]
    },
    {
      "cell_type": "code",
      "source": [
        "for match in matches[:50]:\n",
        "    print(match)"
      ],
      "metadata": {
        "id": "_t0a5xWDMhQ5",
        "colab": {
          "base_uri": "https://localhost:8080/"
        },
        "outputId": "ee6da1f4-c5a9-487b-f30a-b16b7692340e"
      },
      "execution_count": 18,
      "outputs": [
        {
          "output_type": "stream",
          "name": "stdout",
          "text": [
            "$20\n",
            "$4.00\n",
            "$17\n",
            "$3\n",
            "$35\n",
            "$7.85\n",
            "$12\n",
            "$11.99\n"
          ]
        }
      ]
    },
    {
      "cell_type": "markdown",
      "source": [
        "*   **Pregunta 7.**  \n",
        "\n",
        "Busca e imprime todas las palabras que sean variantes de la palabra \"love\", sin importar si incluyen mayúsculas o minúsculas, o la manera en que esté conjugada o alguna otra variación que se haga con dicha palabra.\n",
        "\n",
        "Indica cuántos resultados obtuviste."
      ],
      "metadata": {
        "id": "2j-HpvhwMhq2"
      }
    },
    {
      "cell_type": "code",
      "source": [
        "#buscar variantes de la palabra \"love\", sin importar si incluyen mayúsculas o minúsculas:\n",
        "expresion_regular = r'\\b[Ll1][O0o][Vv][Ee3]\\w*\\b'\n",
        "#\\b limite de palabra\n",
        "# (?=[Ll1][O0o][Vv][Ee3]) obigatorio variariaciones de la palabra \"love\"\n",
        "#\\w* cero o mas caracteresalfanumericos\n",
        "#\\b limite de palabra\n",
        "#obtener los resultados:\n",
        "matches = [match for commentario in comentarios for match in re.findall(expresion_regular, commentario)]\n",
        "#obtener el total de coincidencias\n",
        "print(\"Número total de coincidencias:\", len(matches))"
      ],
      "metadata": {
        "id": "kqqyRChVMjol",
        "colab": {
          "base_uri": "https://localhost:8080/"
        },
        "outputId": "498225be-baa1-42e1-acef-a11f33469e19"
      },
      "execution_count": 19,
      "outputs": [
        {
          "output_type": "stream",
          "name": "stdout",
          "text": [
            "Número total de coincidencias: 35\n"
          ]
        }
      ]
    },
    {
      "cell_type": "code",
      "source": [
        "for match in matches[:]:\n",
        "    print(match)"
      ],
      "metadata": {
        "id": "2jFBr_mLwDMp",
        "outputId": "15b2d895-d9bb-496e-ed3e-9f0646a182f5",
        "colab": {
          "base_uri": "https://localhost:8080/"
        }
      },
      "execution_count": 20,
      "outputs": [
        {
          "output_type": "stream",
          "name": "stdout",
          "text": [
            "Loved\n",
            "loved\n",
            "Loved\n",
            "love\n",
            "loves\n",
            "LOVED\n",
            "lovers\n",
            "love\n",
            "lovers\n",
            "Love\n",
            "loved\n",
            "loved\n",
            "love\n",
            "love\n",
            "love\n",
            "loved\n",
            "love\n",
            "loved\n",
            "Love\n",
            "LOVED\n",
            "love\n",
            "lovely\n",
            "love\n",
            "lovely\n",
            "love\n",
            "lover\n",
            "loved\n",
            "love\n",
            "love\n",
            "love\n",
            "love\n",
            "love\n",
            "love\n",
            "love\n",
            "love\n"
          ]
        }
      ]
    },
    {
      "cell_type": "markdown",
      "source": [
        "*   **Pregunta 8.**  \n",
        "\n",
        "Busca e imprime todas las palabras, variantes de \"so\" y \"good\", que tengan dos o más \"o\" en \"so\" y 3 o más \"o\" en good.\n",
        "\n",
        "Indica cuántas encontraste.\n"
      ],
      "metadata": {
        "id": "Ctb-NTY3MkYG"
      }
    },
    {
      "cell_type": "code",
      "source": [
        "#variantes de \"so\", que tengan dos o más \"o\" en \"so\" :\n",
        "expresion_regular = r'\\b([Ss][Oo]{2,})+\\b'\n",
        "matches = [match for commentario in comentarios for match in re.findall(expresion_regular, commentario)]\n",
        "#obtener el total de coincidencias\n",
        "print(\"Número total de coincidencias de so:\", len(matches))"
      ],
      "metadata": {
        "colab": {
          "base_uri": "https://localhost:8080/"
        },
        "id": "hvl-0gjzxQML",
        "outputId": "460d2d18-b09e-4670-8fd7-6c39fc171738"
      },
      "execution_count": 21,
      "outputs": [
        {
          "output_type": "stream",
          "name": "stdout",
          "text": [
            "Número total de coincidencias de so: 4\n"
          ]
        }
      ]
    },
    {
      "cell_type": "code",
      "source": [
        "for match in matches:\n",
        "    print(match)"
      ],
      "metadata": {
        "id": "svS4-vvPMl6f",
        "colab": {
          "base_uri": "https://localhost:8080/"
        },
        "outputId": "715b4c2b-a455-4c8e-af29-87ac91789bc8"
      },
      "execution_count": 22,
      "outputs": [
        {
          "output_type": "stream",
          "name": "stdout",
          "text": [
            "Sooooo\n",
            "soooo\n",
            "soooooo\n",
            "soooo\n"
          ]
        }
      ]
    },
    {
      "cell_type": "code",
      "source": [
        "#variantes de \"good\", que tengan 3 o más \"o\" en good.:\n",
        "expresion_regular = r'\\b[Gg][Oo]{3,}[Dd]+\\b'\n",
        "matches = [match for commentario in comentarios for match in re.findall(expresion_regular, commentario)]\n",
        "#obtener el total de coincidencias\n",
        "print(\"Número total de coincidencias de good:\", len(matches))"
      ],
      "metadata": {
        "colab": {
          "base_uri": "https://localhost:8080/"
        },
        "id": "o7UMkLr5wi5U",
        "outputId": "4f7e104a-f9fe-4008-ce93-33bc24eebf50"
      },
      "execution_count": 23,
      "outputs": [
        {
          "output_type": "stream",
          "name": "stdout",
          "text": [
            "Número total de coincidencias de good: 1\n"
          ]
        }
      ]
    },
    {
      "cell_type": "code",
      "source": [
        "for match in matches:\n",
        "    print(match)"
      ],
      "metadata": {
        "colab": {
          "base_uri": "https://localhost:8080/"
        },
        "id": "YbEMr2qczlsp",
        "outputId": "e81a86d5-7077-4fd5-a111-32887061b3ca"
      },
      "execution_count": 24,
      "outputs": [
        {
          "output_type": "stream",
          "name": "stdout",
          "text": [
            "gooodd\n"
          ]
        }
      ]
    },
    {
      "cell_type": "markdown",
      "source": [
        "*   **Pregunta 9.**  \n",
        "\n",
        "Busca e imprime todas las palabras que tengan una longitud mayor estrictamente a 10 caracteres alfabéticos.\n",
        "\n",
        "No se consideran los signos de puntuación o caracteres especiales en la longitud de estas cadenas, solo caracteres alfabéticos en mayúsculas o minúsculas.\n",
        "\n",
        "Indica la cantidad de palabras encontradas.\n"
      ],
      "metadata": {
        "id": "hkak1opjMmlk"
      }
    },
    {
      "cell_type": "code",
      "source": [
        "#palabras que tengan una longitud mayor estrictamente a 10 caracteres alfabéticos:\n",
        "expresion_regular = r'\\b[a-zA-Z]{11,}\\b'\n",
        "matches = [match for commentario in comentarios for match in re.findall(expresion_regular, commentario)]\n",
        "#obtener el total de coincidencias\n",
        "print(\"Número total de palabras conlongitud mayor a 10 caracteres alfabéticos:\", len(matches))"
      ],
      "metadata": {
        "outputId": "4805099a-a861-44fb-e35a-4d526f5a6722",
        "colab": {
          "base_uri": "https://localhost:8080/"
        },
        "id": "BDlqeZ1h3OwQ"
      },
      "execution_count": 25,
      "outputs": [
        {
          "output_type": "stream",
          "name": "stdout",
          "text": [
            "Número total de palabras conlongitud mayor a 10 caracteres alfabéticos: 141\n"
          ]
        }
      ]
    },
    {
      "cell_type": "code",
      "source": [
        "for match in matches:\n",
        "    print(match)"
      ],
      "metadata": {
        "colab": {
          "base_uri": "https://localhost:8080/"
        },
        "id": "Y0cuQHcP3s5W",
        "outputId": "d5bab24e-b981-47fe-b5c0-7dc102e7832b"
      },
      "execution_count": 26,
      "outputs": [
        {
          "output_type": "stream",
          "name": "stdout",
          "text": [
            "recommendation\n",
            "recommended\n",
            "overwhelmed\n",
            "inexpensive\n",
            "establishment\n",
            "imaginative\n",
            "opportunity\n",
            "experiencing\n",
            "underwhelming\n",
            "relationship\n",
            "unsatisfying\n",
            "disappointing\n",
            "outrageously\n",
            "disappointing\n",
            "expectations\n",
            "restaurants\n",
            "suggestions\n",
            "disappointed\n",
            "considering\n",
            "Unfortunately\n",
            "immediately\n",
            "ingredients\n",
            "accommodations\n",
            "maintaining\n",
            "Interesting\n",
            "disrespected\n",
            "accordingly\n",
            "unbelievable\n",
            "cheeseburger\n",
            "descriptions\n",
            "inexpensive\n",
            "disappointed\n",
            "Veggitarian\n",
            "outstanding\n",
            "recommendation\n",
            "disappointed\n",
            "disappointed\n",
            "neighborhood\n",
            "disappointed\n",
            "corporation\n",
            "considering\n",
            "exceptional\n",
            "shawarrrrrrma\n",
            "disappointed\n",
            "vinaigrette\n",
            "immediately\n",
            "unbelievably\n",
            "replenished\n",
            "disappointed\n",
            "enthusiastic\n",
            "Outstanding\n",
            "comfortable\n",
            "interesting\n",
            "INCONSIDERATE\n",
            "considering\n",
            "transcendant\n",
            "disappointment\n",
            "disappointed\n",
            "disappointed\n",
            "overwhelmed\n",
            "professional\n",
            "Furthermore\n",
            "combination\n",
            "connoisseur\n",
            "profiterole\n",
            "outstanding\n",
            "acknowledged\n",
            "ventilation\n",
            "beautifully\n",
            "establishment\n",
            "extraordinary\n",
            "disappointed\n",
            "cheesecurds\n",
            "disappointed\n",
            "interesting\n",
            "experienced\n",
            "opportunity\n",
            "disgraceful\n",
            "restaurants\n",
            "ESTABLISHMENT\n",
            "recommended\n",
            "disappointed\n",
            "recommended\n",
            "acknowledged\n",
            "presentation\n",
            "Philadelphia\n",
            "disappointed\n",
            "disappointing\n",
            "grandmother\n",
            "drastically\n",
            "informative\n",
            "Disappointed\n",
            "constructed\n",
            "comfortable\n",
            "Smashburger\n",
            "cheeseburger\n",
            "neighborhood\n",
            "disappointed\n",
            "hospitality\n",
            "recommending\n",
            "disappointed\n",
            "deliciously\n",
            "compliments\n",
            "recommendation\n",
            "establishment\n",
            "calligraphy\n",
            "traditional\n",
            "combination\n",
            "Unfortunately\n",
            "Wienerschnitzel\n",
            "unfortunately\n",
            "considering\n",
            "highlighted\n",
            "Mediterranean\n",
            "unprofessional\n",
            "anticipated\n",
            "disappointing\n",
            "unexperienced\n",
            "disrespected\n",
            "professional\n",
            "restaurants\n",
            "Disappointing\n",
            "WAAAAAAyyyyyyyyyy\n",
            "reservation\n",
            "imagination\n",
            "undercooked\n",
            "disappointed\n",
            "disappointment\n",
            "disappointment\n",
            "deuchebaggery\n",
            "disappointed\n",
            "disappointment\n",
            "immediately\n",
            "Unfortunately\n",
            "disapppointment\n",
            "circumstances\n",
            "undercooked\n",
            "caterpillar\n",
            "presentation\n",
            "disappointed\n",
            "underwhelming\n"
          ]
        }
      ]
    },
    {
      "cell_type": "markdown",
      "source": [
        "*   **Pregunta 10.**  \n",
        "\n",
        "Busca e imprime todas las palabras que inician con una letra mayúscula y terminan con una minúscula, pero que además no sea la primera palabra del comentario/string.\n",
        "\n",
        "Indica la cantidad de resultados obtenidos."
      ],
      "metadata": {
        "id": "ApjTNzSxMpDc"
      }
    },
    {
      "cell_type": "code",
      "source": [
        "texto = [\"Mi aata Es negra gorda y loca.\", \"Lorem IPsum DOLOR Sit ameciO.\",\"El gato está durmiendo en el sofá.\"]\n",
        "\n",
        "#Eliminar la primera palabra\n",
        "patron_primera_palabra = r'\\b\\w+\\b'\n",
        "\n",
        "enunciados_sin_primera_palabra = []\n",
        "\n",
        "for enunciado in comentarios:\n",
        "    # Encuentra la primera palabra del enunciado\n",
        "    primera_palabra = re.match(patron_primera_palabra, enunciado)\n",
        "\n",
        "    if primera_palabra:\n",
        "        # Obtiene la posición del final de la primera palabra\n",
        "        fin_primera_palabra = primera_palabra.end()\n",
        "\n",
        "        # Elimina la primera palabra del enunciado y lo procesa\n",
        "        enunciado_sin_primera_palabra = enunciado[fin_primera_palabra:].strip()\n",
        "\n",
        "        # Agrega el enunciado procesado a la lista\n",
        "        enunciados_sin_primera_palabra.append(enunciado_sin_primera_palabra)\n",
        "\n",
        "# Imprime la lista de enunciados sin la primera palabra\n",
        "print(\"Enunciados sin la primera palabra:\", enunciados_sin_primera_palabra)\n",
        "\n",
        "#procesar:\n",
        "#expresion_regular = r'^\\w+\\s+([A-Z]+[a-z]+)'\n",
        "expresion_regular = r'([A-Z]+\\w*[a-z]+)'\n",
        "#expresion_regular = r'(?<=^\\w+\\s+)([A-Z]+\\w*[a-z]+)'\n",
        "\n",
        "matches = [match for commentario in enunciados_sin_primera_palabra for match in re.findall(expresion_regular, commentario)]\n",
        "#obtener el total de coincidencias\n",
        "print(\"Número total de coincidencias de so:\", len(matches))"
      ],
      "metadata": {
        "id": "dLPTRPnTMqqx",
        "colab": {
          "base_uri": "https://localhost:8080/"
        },
        "outputId": "e03efef6-b4a8-4760-c494-f3feeb7f2028"
      },
      "execution_count": 27,
      "outputs": [
        {
          "output_type": "stream",
          "name": "stdout",
          "text": [
            "Enunciados sin la primera palabra: ['... Loved this place.', 'is not good.', 'tasty and the texture was just nasty.', 'by during the late May bank holiday off Rick Steve recommendation and loved it.', 'selection on the menu was great and so were the prices.', 'I am getting angry and I want my damn pho.', \"it didn't taste THAT fresh.)\", 'potatoes were like rubber and you could tell they had been made up ahead of time being kept under a warmer.', 'fries were great too.', 'great touch.', 'was very prompt.', 'not go back.', 'cashier had no care what so ever on what I had to say it still ended up being wayyy overpriced.', 'was disgusted because I was pretty sure that was human hair.', 'was shocked because no signs indicate cash only.', 'recommended.', 'was a little slow in service.', 'not like at all.', 'Burrittos Blah!', 'is also cute.', 'could care less... The interior is just beautiful.', 'they performed.', \"'s right....the red velvet cake.....ohhh this stuff is so good.\", 'worst was the salmon sashimi.', 'was like the final blow!', 'found this place by accident and I could not be happier.', 'only redeeming quality of the restaurant was that it was very inexpensive.', 'portions and good prices.', 'first visit to Hiro was a delight!', 'sucks.', 'shrimp tender and moist.', 'is not a deal good enough that would drag me into that establishment again.', \"to judge whether these sides were good because we were grossed out by the melted styrofoam and didn't want to eat it for fear of getting sick.\", 'only thing I did like was the prime rib and dessert section.', \"'s too bad the food is so damn generic.\", 'you want a sandwich just go to any Firehouse!!!!!', 'ordered the duck rare and it was pink and tender on the inside with a nice char on the outside.', 'came running after us when he realized my husband had left his sunglasses on the table.', 'chow mein is so good!', 'portion was huge!', 'Heart Attack Grill in downtown Vegas is an absolutely flat-lined excuse for a restaurant.', 'much seafood and like 5 strings of pasta at the bottom.', 'least think to refill my water before I struggle to wave you over for 10 minutes.', 'place receives stars for their APPETIZERS!!!', 'cocktails are all handmade and delicious.', \"'d definitely go back here again.\", 'are so glad we found this place.', 'a great time at Dos Gringos!', '.....went back for a second time and it was still just as amazing', 'got the food and apparently they have never heard of salt and the batter on the fish was chewy.', 'great way to finish a great.', 'service was meh.', 'scallop dish is quite appalling for value as well.', 'times - Very Bad Customer Service !', 'sweet potato fries were very good and seasoned well.', \"is the second time I've been to their lunch buffet and it was pretty good.\", 'is so much good food in Vegas that I feel cheated for wasting an eating opportunity by going to Rice and Company.', \"here is like experiencing an underwhelming relationship where both parties can't wait for the other person to ask to break up.\", 'in and the place smelled like an old grease trap and only 2 others there eating.', 'turkey and roast beef were bland.', 'place has it!', 'pan cakes everyone are raving about taste like a sugary disaster tailored to the palate of a six year old.', 'love the Pho and the spring rolls oh so yummy you have to try.', 'poor batter to meat ratio made the chicken tenders very unsatisfying.', 'I have to say is the food was amazing!!!', 'are to die for!', 'was fresh and delicious!', 'breakfast buffet!!!', 'bye bye to your tip lady!', \"'ll never go again.\", 'be back again!', 'arrived quickly!', 'was not good.', 'is one of the better buffets that I have been to.', 'we went to Tigerlilly and had a fantastic afternoon!', 'ambience is wonderful and there is music playing.', 'go back next trip out.', 'good!!', 'is a really fantastic Thai restaurant which is definitely worth a visit.', 'prices.', 'it out.', 'was pretty gross!', \"'ve had better atmosphere.\", 'of hard to mess up a steak but they did.', \"just don't know how this place managed to served the blandest food I have ever eaten when they are preparing Indian cuisine.\", 'was fine and the waitress was friendly.', \"... Not a liking this place for a number of reasons and I don't want to waste time on bad reviewing.. I'll leave it at that...\", \"wouldn't return.\", 'place is way too overpriced for mediocre food.', 'vodka excellent!', 'management is rude.', 'had a seriously solid breakfast here.', 'is one of the best bars with food in Vegas.', 'drink was never empty and he made some really great menu suggestions.', \"'t do it!!!!\", \"waiter wasn't helpful or friendly and rarely checked on us.\", 'husband and I ate lunch here and were very disappointed with the food and service.', \"the red curry had so much bamboo shoots and wasn't very tasty to me.\", 'blanket of moz over top but i feel like this was done to cover up the subpar food.', 'bathrooms are clean and the place itself is well decorated.', 'give it 2 thumbs down', 'watched our waiter pay a lot more attention to other tables and ignore us.', 'fiancé and I came in the middle of the day and we were greeted and seated right away.', 'is a great restaurant at the Mandalay Bay.', 'waited for forty five minutes in vain.', 'that came with the salad was stale.', 'highlights : Great quality nigiri here!', 'staff is friendly and the joint is always clean.', 'was a different cut than the piece the other day but still wonderful and tender s well as well flavored.', \"ordered the Voodoo pasta and it was the first time I'd had really excellent pasta since going gluten free several years ago.\", 'place is good.', 'came back today since they relocated and still not impressed.', 'was seated immediately.', 'at all cost!', 'is always full but never a wait.', '!!', 'place is hands-down one of the best places to eat in the Phoenix metro area.', \"don't go there if you are looking for good food...\", \"'ve never been treated so bad.\", 'is hella salty.', 'also ordered the spinach and avocado salad; the ingredients were sad and the dressing literally had zero taste.', 'waitresses are very friendly.', 'on the menu is terrific and we were also thrilled that they made amazing accommodations for our vegetarian daughter.', 'service here leaves a lot to be desired.', 'literally sat there for 20 minutes with no one asking to take our order.', 'also decided not to send it back because our waitress looked like she was on the verge of having a heart attack.', 'dressed up to be treated so rudely!', 'was probably dirt.', 'ordered the Lemon raspberry ice cocktail which was also incredible.', 'decor.', 'I really like there is the crepe station.', 'can watch them preparing the delicious food!)', 'of the egg rolls were fantastic.', \"'m not really sure how Joey's was voted best hot dog in the Valley by readers of Phoenix Magazine.\", 'best place to go for a tasty bowl of Pho!', 'live music on Fridays totally blows.', \"'ve never been more insulted or felt disrespected.\", 'friendly staff.', 'is worth the drive.', 'was great and so was the serivce!', \"warm beer didn't help.\", 'brunch spot.', 'is friendly and inviting.', 'good lunch spot.', \"'ve lived here since 1979 and this was the first (and last) time I've stepped foot into this place.\", 'WORST EXPERIENCE EVER.', 'have been an off night at this place.', 'friend loved the salmon tartar.', \"'t go back.\", 'Tasty!', 'was good though!', 'and not good.', 'Jamaican mojitos are delicious.', 'are small and not worth the price.', 'service was a bit lacking.', 'this bodes for them going out of business and someone who can cook can come in.', 'loved the bacon wrapped dates.', 'is an unbelievable BARGAIN!', 'folks at Otto always make us feel so welcome and special.', 'is the place where I first had pho and it was amazing!!', 'wonderful experience made this place a must-stop whenever we are in town again.', 'very fun chef.', \"place to have a couple drinks and watch any and all sporting events as the walls are covered with TV's.\", 'she had not rolled the eyes we may have stayed... Not sure if we will go back and try it again.', \"- don't waste your time and money.\", 'this dish was quite flavourful.', 'this time our side of the restaurant was almost empty so there was no excuse.', 'better than the other AYCE sushi place I went to in Vegas.', 'lighting is just dark enough to set the mood.', \"on the sub-par service I received and no effort to show their gratitude for my business I won't be going back.\", \"'s are really great people.!\", 'is nothing privileged about working/eating there.', 'Greek dressing was very creamy and flavorful.', 'the pizza itself was good the peanut sauce was very tasty.', 'had 7 at our table and the service was pretty fast.', 'service here.', \"as well would've given godfathers zero stars if possible.\", 'know how to make them here.', 'tough and very short on flavor!', 'hope this place sticks around.', 'restaurant atmosphere was exquisite.', 'seafood was fresh and generous in portion.', 'as good as when I had it more than a year ago!', 'Veggitarian platter is out of this world!', 'cant go wrong with any of the food here.', \"can't beat that.\", 'chefs were friendly and did a good job.', 'liked the patio and the service was outstanding.', \"goat taco didn't skimp on the meat and wow what FLAVOR!\", 'think not again', 'had the mac salad and it was pretty bland so I will not be getting that again.', \"went to Bachi Burger on a friend's recommendation and was not disappointed.\", 'stinks here!', 'waited and waited.', 'would definitely recommend the wings as well as the pizza.', 'Pizza and Salads!', 'that went wrong: - They burned the saganaki.', 'waited an hour for what was a breakfast I could have done 100 times better at home.', 'place is amazing!', '2 hours & never got either of our pizzas as many other around us who came in later did!', \"don't know why they were so slow.\", \"didn't know pulled pork could be soooo delicious.\", 'I go in to why I gave a 1 star rating please know that this was my third time eating at Bachi burger before writing a review.', 'love the fact that everything on their menu is worth it.', 'again will I be dining at this place!', 'food was excellent and service was very good.', 'beer & drink selection and good food selection.', 'stay away from the shrimp stir fried noodles.', 'potato chip order was sad... I could probably count how many chips were in that box and it was probably around 12.', 'was really boring.', 'Service-check!', 'greedy corporation will NEVER see another dime from me!', 'did not expect this to be so good!', 'food!', 'ordered a toasted English muffin that came out untoasted.', 'food was very good.', 'going back.', 'bus boy on the other hand was so rude.', 'the bread is made in-house!', 'only downside is the service.', 'was exceptional and food was a good as all the reviews.', 'place in town for shawarrrrrrma!!!!!!', 'black eyed peas and sweet potatoes... UNREAL!', \"won't be disappointed.\", 'my mom and I got home she immediately got sick and she only had a few bites of salad.', \"servers are not pleasant to deal with and they don't always honor Pizza Hut coupons.\", 'was gross.', 'love this place.', 'service and food.', '- the bathrooms at this location were dirty- Seat covers were not replenished & just plain yucky!!!', 'is nothing authentic about this place.', 'spaghetti is nothing special whatsoever.', 'vegetables are so fresh and the sauce feels like authentic Thai.', \"'s worth driving up from Tucson!\", \"selection was probably the worst I've seen in Vegas.....there was none.\", 'good beer selection too.', 'stars for the brick oven bread app!', 'sat another ten minutes and finally gave up and left.', 'was terrible!', 'is treated equally special.', \"shouldn't take 30 min for pancakes and eggs.\", 'was delicious!!!', 'always the evening was wonderful and the food delicious!', \"fish I've ever had in my life!\", 'buffet is small and all the food they offered was BLAND.', 'is an Outstanding little restaurant with some of the Best Food I have ever tasted.', 'cool I would say.', \"a turn off for me & i doubt I'll be back unless someone else is buying.\", 'did a great job handling our large rowdy table.', 'wife had the Lobster Bisque soup which was lukewarm.', 'come back again if I had a sushi craving while in Vegas.', 'deserves 5 stars.', 'left with a stomach ache and felt sick the rest of the day.', 'dropped more than the ball.', 'the beans and rice were mediocre at best.', 'tacos in town by far!!', 'took back my money and got outta there.', '& INCONSIDERATE MANAGEMENT.', \"won't be back.\", 'have great dinners.', 'service was outshining & I definitely recommend the Halibut.', 'food was terrible.', 'NEVER EVER GO BACK AND HAVE TOLD MANY PEOPLE WHAT HAD HAPPENED.', \"don't recommend unless your car breaks down in front of it and you are starving.\", \"will come back here every time I'm in Vegas.\", 'place deserves one star and 90% has to do with the food.', 'is a disgrace.', 'coming back to bowl next time', 'will continue to come here on ladies night andddd date night ... highly recommend this place to anyone who is in the area (;', 'walked away stuffed and happy about our first Vegas buffet experience.', 'was excellent and prices are pretty reasonable considering this is Vegas and located inside the Crystals shopping mall by Aria.', \"'m probably one of the few people to ever go to Ians and not like it.\", 'pizza is always a hit too with lots of great side dish options for the kiddos!', 'is perfect and the family atmosphere is nice to see.', 'to perfection and the service was impeccable.', 'one is simply a disappointment.', \"don't have to be an accountant to know I'm getting screwed!\", 'was my first taste of a Buldogis Gourmet Hot Dog and I have to tell you it was more than I ever thought possible.', 'very frustrated.', \"'ll definitely be in soon again.\", 'was really good and I got full petty fast.', 'was fantastic.', 'WASTE OF TIME.', \"don't know what kind it is but they have the best iced tea.\", \"can assure you that you won't be disappointed.\", 'can take a little bad service but the food sucks.', 'up trying to eat any of the crust (teeth still sore).', 'now I was completely grossed out.', 'really enjoyed eating here.', 'time going but I think I will quickly become a regular.', 'what my dinner companions told me...everything was very fresh with nice texture and taste.', \"'ve tried to like this place but after 10+ times I think we're done with them.\", 'a mistake that was!', 'complaints!', \"is some seriously good pizza and I'm an expert/connisseur on the topic.\", 'was a jerk.', \"are the nicest restaurant owners I've ever come across.\", 'never come again.', 'loved the biscuits!!!', 'is quick and friendly.', 'an appetizer and took 40 minutes and then the pizza another 10 minutes.', 'absolutley fantastic.', 'was a huge awkward 1.5lb piece of cow that was 3/4ths gristle and fat.', 'will come back here again.', \"like Steiners because it's dark and it feels like a bar.\", 'very spicy but delicious.', \"'ll take my business dinner dollars elsewhere.\", \"'d love to go back.\", 'special.', \"day of the week they have a different deal and it's all so delicious!\", 'not be back.', 'was tasteless.', 'ribeye steak was cooked perfectly and had great mesquite flavor.', \"don't think we'll be going back anytime soon.\", 'was so gooodd.', 'am far from a sushi connoisseur but I can definitely tell the difference between good food and bad food and this was certainly bad food.', 'was so insulted.', 'last 3 times I had lunch here has been bad.', 'chicken wings contained the driest chicken meat I have ever eaten.', '- I think you are great.', 'tater tots in the southwest.', 'loved the place.', 'not worth the $3 I paid.', 'vanilla ice cream was creamy and smooth while the profiterole (choux) pastry was fresh enough.', 'in AZ all the time and now have my new spot.', 'manager was the worst.', 'inside is really quite nice and very clean.', 'food was outstanding and the prices were very reasonable.', \"don't think I'll be running back to Carly's anytime soon for food.\", 'was my first and only Vegas buffet and it did not disappoint.', 'one down note is the ventilation could use some upgrading.', 'pork sandwich.', \"'t waste your time here.\", 'enjoy their pizza and brunch.', 'steaks are all well trimmed and also perfectly cooked.', 'had a group of 70+ when we claimed we would only have 40 and they handled us beautifully.', 'LOVED it!', \"asked for the bill to leave without eating and they didn't bring that either.\", 'was limited to boiled shrimp and crab legs but the crab legs definitely did not taste fresh.', 'selection of food was not the best.', 'and I will absolutely be back!', 'had a toro tartare with a cavier that was extraordinary and I liked the thinly sliced wagyu with white truffle.', 'dont think I will be back for a very long time.', 'awesome is that.', 'will be back many times soon.', 'menu had so much good stuff on it i could not decide!', ': Very filling meals.', 'daily specials are always a hit with my group.', 'then tragedy struck.', 'pancake was also really good and pretty large at that.', 'monster chicken fried steak and eggs is my all time favorite.', 'was sweet and funny.', 'say enough good things about this place.', 'ambiance was incredible.', 'waitress and manager are so friendly.', 'would not recommend this place.', \"I wasn't very impressed with Noca.\", 'gyro was basically lettuce only.', 'service!', 'disappointed!', 'far the BEST cheesecurds we have ever had!', 'priced also!', 'was perfect the night we were in.', 'food is very good for your typical bar food.', 'was a drive to get there.', \"you haven't gone here GO NOW!\", 'time there and might just be the last.', 'burgers were amazing.', 'it was way to expensive.', \"was my first time and I can't wait until the next.\", 'bartender was also nice.', 'was good and tasty!', 'place is two thumbs up....way up.', 'management.', 'excellent new restaurant by an experienced Frenchman.', 'there were zero stars I would give it zero stars.', 'martini ever!', 'steak and the shrimp are in my opinion the best entrees at GC.', 'had the opportunity today to sample your amazing pizzas!', 'waited for thirty minutes to be seated (although there were 8 vacant tables and we were the only folks waiting).', 'yellowtail carpaccio was melt in your mouth fresh.', \"won't try going back there even if it's empty.\", 'spicy enough.. Perfect actually.', 'night was my second time dining here and I was so happy I decided to go back!', 'desserts were a bit strange.', 'boyfriend and I came here for the first time on a recent trip to Vegas and could not have been more pleased with the quality of food and service.', 'ambiance.', 'would recommend saving room for this!', 'guess maybe we went on an off night but it was disgraceful.', 'THIS ESTABLISHMENT!', 'think this restaurant suffers from not trying hard enough.', 'of the tapas dishes were delicious!', '*heart* this place.', 'salad had a bland vinegrette on the baby greens and hearts of Palm.', 'two I felt disgusting.', 'good time!', 'believe that this place is a great stop for those with a huge belly and hankering for sushi.', 'portions and great taste.', 'will never go back to this place and will never ever recommended this place to anyone!', 'was delicious!', 'HOUR... seriously?', 'consider this theft.', '... This location needs a complete overhaul.', 'recently witnessed her poor quality of management towards other guests as well.', 'and waited and waited.', 'server was super nice and checked on us many times.', 'swung in to give them a try but was deeply disappointed.', 'was good and the company was better!', 'staff are also very friendly and efficient.', 'was that sucker dry!!.', 'rated.', 'steaks are 100% recommended!', 'I pulled up my car I waited for another 15 minutes before being acknowledged.', 'food and great service in a clean and friendly setting.', 'hate those things as much as cheap quality black olives.', 'kids play area is NASTY!', 'place fo take out or eat in.', 'waitress was friendly and happy to accomodate for vegan/veggie options.', 'I felt like I had never eaten Thai food until this dish.', 'was a pale color instead of nice and char and has NO flavor.', 'croutons also taste homemade which is an extra plus.', 'got home to see the driest damn wings ever!', \"'ll be a regular stop on my trips to Phoenix!\", 'really enjoyed Crema Café before they expanded; I even told friends they had the BEST breakfast.', 'good for the money.', 'miss it and wish they had one in Philadelphia!', 'also have the best cheese crisp in town.', \"'t ask for a more satisfying meal.\", 'food is good.', 'was awesome.', 'just wanted to leave.', 'made the drive all the way from North Scottsdale... and I was not one bit disappointed!', 'will not be eating there again.', 'checked out this place a couple years ago and was not impressed.', 'absolute must visit!', 'cow tongue and cheek tacos are amazing.', 'friend did not like his Bloody Mary.', 'really want to make your experience a good one.', 'will not return.', 'had the chicken Pho and it tasted very bland.', 'disappointing!!!', 'grilled chicken was so tender and yellow from the saffron seasoning.', 'awesome place.', 'is perfect.', 'of luck to the rude and non-customer service focused new management.', 'grandmother can make a roasted chicken better than this one.', 'asked multiple times for the wine list and after some time of being ignored I went to the hostess and got one myself.', 'stars for the food & the guy in the blue shirt for his great vibe & still letting us in to eat !', 'roast beef sandwich tasted really good!', '-quality chicken on the chicken Caesar salad.', \"burger rare came in we'll done.\", 'were promptly greeted and seated.', 'to go here for lunch and it was a madhouse.', 'is a good joint.', 'Macarons here are insanely good.', \"'m not eating here!\", \"if they weren't cold they would have been somewhat edible.\", 'place has a lot of promise but fails to deliver.', 'bad Experience!', 'a mistake.', 'was average at best.', 'food.', \"won't be going back anytime soon!\", 'Very Disappointed ordered the $35 Big Bay Plater.', 'place to relax and have an awesome burger and beer.', 'is PERFECT for a sit-down family meal or get together with a few friends.', 'patio seating was very comfortable.', 'fried rice was dry as well.', 'down my favorite Italian restaurant!', 'was just not a fun experience.', 'atmosphere was great with a lovely duo of violinists playing songs we requested.', 'owners are super friendly and the staff is courteous.', 'great!', 'selection.', 'sweet potato tots were good but the onion rings were perfection or as close as I have had.', 'staff was very attentive.', 'the chef was generous with his time (even came around twice so we can take pictures with him).', 'mediocre and I imagine Smashburger will pop up.', 'go here.', \"promise they won't disappoint.\", 'a sushi lover avoid this place by all means.', 'a great double cheeseburger!', 'service and food.', 'fantastic neighborhood gem !!!', \"can't wait to go back.\", \"plantains were the worst I've ever tasted.\", \"'s a great place and I highly recommend it.\", 'was slow and not attentive.', 'staff spends more time talking to themselves than me.', ': Panna Cotta was amazing.', 'good steak.', 'brunch fail.', 'steak was amazing...rge fillet relleno was the best seafood plate i have ever had!', 'was absolutely amazing.', 'definitely be back!', 'sergeant pepper beef sandwich with auju sauce is an excellent sandwich as well.', 'for lunch - service was slow.', 'was mortified.', \"wasn't really impressed with Strip Steak.\", 'been going since 2007 and every meal has been awesome!!', 'server was very nice and attentive as were the other serving staff.', 'cashier was friendly and even brought the food out to me.', 'work in the hospitality industry in Paradise Valley and have refrained from recommending Cibo any longer.', 'atmosphere here is fun.', 'not recommend to others.', 'my thing.', 'Thumbs Up!!', \"you are reading this please don't go there.\", 'Pros : Large seating area/ Nice bar area/ Great simple drink menu/ The BEST brick oven pizza with homemade dough!', 'have a really nice atmosphere.', 'I had the Elk Filet special...and it sucked.', 'ordered some old classics and some new dishes after going there a few times and were sorely disappointed with everything.', 'chicken was deliciously seasoned and had the perfect fry on the outside and moist chicken on the inside.', 'thanks to Dylan T. for the recommendation on what to order :) All yummy for my tummy.', 'selection of beer.', 'food and awesome service!', 'FLY was in my apple juice.. A FLY!!!!!!!!', 'Han Nan Chicken was also very tasty.', \"'s Bar is definitely one Edinburgh establishment I won't be revisiting.\", \"Chinese restaurant I've been in a while.\", 'also now serve Indian naan bread with hummus and some spicy pine nut sauce that was out of this world.', 'love the decor with the Chinese calligraphy wall paper.', 'had anything to complain about here.', 'restaurant is very clean and has a family restaurant feel to it.', 'was way over fried.', \"'m not sure how long we stood there but it was long enough for me to begin to feel awkwardly out of place.\", 'not be back!', 'was a warm feeling with the service and I felt like their guest for a special treat.', 'extensive menu provides lots of options for breakfast.', 'lil tapas and the ambience made me feel all warm and fuzzy inside.', 'were sat right on time and our server from the get go was FANTASTIC!', 'had to wait over 30 minutes to get my drink and longer to get 2 arepas.', 'is a GREAT place to eat!', 'jalapeno bacon is soooo good.', 'service was poor and thats being nice.', 'place was not clean and the food oh so stale!', 'the service was beyond bad.', 'like dirt.', 'of the few places in Phoenix that I would definately go back to again .', 'block was amazing.', 'sashimi was poor quality being soggy and tasteless.', 'time - family dinner on a Sunday night.', 'flair bartenders are absolutely amazing!', 'frozen margaritas are WAY too sugary for my taste.', 'were so good we ordered them twice.', 'in a nutshell: 1) The restaraunt smells like a combination of a dirty fish market and a sewer.', \"girlfriend's veal was very bad.\", 'had a pretty satifying experience.', 'the club and get awesome offers via email.', 'and flavorless is a good way of describing the barely tepid meat.', 'nachos are a MUST HAVE!', 'will not be coming back.', 'I received my Pita it was huge it did have a lot of meat in it so thumbs up there.', \"your food arrives it's meh.\", \"$7.85 for a hot dog and fries that looks like it came out of a kid's meal at the Wienerschnitzel is not my idea of a good meal.\", 'classic Maine Lobster Roll was fantastic.', 'good I am going to have to review this place twice - once hereas a tribute to the place and once as a tribute to an event held here last night.', 'place is great!!!!!!!!!!!!!!', 'food.', \"you get inside you'll be impressed with the place.\", \"'m super pissd.\", 'service was super friendly.', 'are these sad little vegetables so overcooked?', 'place was such a nice surprise!', 'were golden-crispy and delicious.', 'could eat their bruschetta all day it is devine.', 'a single employee came out to see if we were OK or even needed a water refill once they finally served us our food.', 'server was very negligent of our needs and made us feel very unwelcome... I would not suggest this place!', 'service was terrible though.', 'was packed!!', 'love this place.', 'can say that the desserts were yummy.', 'food was terrible.', 'seasonal fruit was fresh white peach puree.', \"kept getting worse and worse so now I'm officially done.\", 'place should honestly be blown up.', 'I definitely would not eat here again.', 'not waste your money here!', 'love that they put their food in nice plastic containers as opposed to cramming it in little paper takeout boxes.', 'crêpe was delicate and thin and moist.', 'service.', \"'t ever go here again.\", 'quality has been horrible.', 'that price I can think of a few place I would have much rather gone.', 'service here is fair at best.', 'yourself a favor and stay away from this dish.', 'poor service.', 'one at the table thought the food was above average or worth the wait that we had for it.', 'were excellent.', 'paid the bill but did not tip because I felt the server did a terrible job.', 'had lunch here and had a great experience.', 'have never had such bland food which surprised me considering the article we read focused so much on their spices and flavor.', 'is way overpriced and portions are fucking small.', \"recently tried Caballero's and I have been back every week since!\", 'food came out at a good pace.', \"won't be back.\", 'could not believe how dirty the oysters were!', 'place deserves no stars.', 'would not recommend this place.', 'potatoes were great and so was the biscuit.', 'probably would not go here again.', 'flavorful and has just the perfect amount of heat.', 'price is reasonable and the service is great.', \"fella got the huevos rancheros and they didn't look too appealing.\", 'may say this buffet is pricey but I think you get what you pay for and this place you are getting quite a lot!', \"probably won't be coming back here.\", \"food/service I've had in a while.\", 'about great customer service of course we will be back.', 'love their fries and their beans.', 'a pleasure dealing with him.', 'place is awesome if you want something light and healthy during the summer.', 'feel of the dining room was more college cooking course than high class dining and the service was slow at best.', \"is the worst sushi i have ever eat besides Costco's.\", 'boyfriend and i sat at the bar and had a completely delightful experience.', 'vibe from owners.', 'was hardly any meat.', \"'ve had better bagels from the grocery store.\", 'To Place for Gyros.', 'found a six inch long piece of wire in my salsa.', 'definately enjoyed ourselves.', 'ordered Albondigas soup - which was just warm - and tasted like tomato soup with frozen meatballs.', 'had about two bites and refused to eat anymore.', 'service was extremely slow.', 'killer hot chai latte.', 'boyfriend tried the Mediterranean Chicken Salad and fell in love.', 'rotating beers on tap is also a highlight of this place.', 'is a bit of a concern at Mellow Mushroom.', 'Thai ever.', 'you stay in Vegas you must get breakfast here at least once.', 'want to first say our server was great and we had perfect service.', 'pizza selections are good.', 'unprofessional and rude to a loyal patron!', 'your money elsewhere.', 'regular toasted bread was equally satisfying with the occasional pats of butter... Mmmm...!', 'Buffet at Bellagio was far from what I anticipated.', 'the disappointing dinner we went elsewhere for dessert.', 'chips and sals a here is amazing!!!!!!!!!!!!!!!!!!!', \"won't be returning.\", 'is my new fav Vegas buffet spot.', 'seriously cannot believe that the owner has so many unexperienced employees that all are running around like chickens with their heads cut off.', \"'m not impressed with the concept or the food.\", \"only thing I wasn't too crazy about was their guacamole as I don't like it puréed.\", 'got food poisoning here at the buffet.', 'brought a fresh batch of fries and I was thinking yay something warm but no!', 'place is disgusting!', 'RI style calamari was a joke.', 'also took her forever to bring us the check when we asked for it.', \"aren't ones to make a scene at restaurants but I just don't get it...definitely lost the love after this one!\", 'experience.', 'over rated is all I am saying.', \"won't be going back.\", \"place was fairly clean but the food simply wasn't worth it.\", 'place lacked style!!', \"'t bother coming here.\", 'was equally awful.', 'not in a hurry to go back.', 'slow at seating even with reservation.', 'good by any stretch of the imagination.', 'cashew cream sauce was bland and the vegetables were undercooked.', 'was VERY disappointed!!', 'place is horrible and way overpriced.', \"wasn't busy at all and now we know why.\", 'tables outside are also dirty a lot of the time and the workers are not always friendly and helpful with the menu.', ': spotty service.', 'then they came back cold.', 'real disappointment was our waiter.', 'husband said she was very rude... did not even apologize for the bad food or anything.', 'only reason to eat here would be to fill up before a night of binge drinking just to get some carbs in your stomach.', \"someone orders two tacos don't' you think it may be part of customer service to ask if it is combo or ala cart?\", 'was quite disappointed although some blame needs to be placed at her door.', \"all the rave reviews I couldn't wait to eat here......what a disappointment!\", 'Taco is pretty nasty and should be avoided if possible.', \"'s NOT hard to make a decent hamburger.\", \"I don't like it.\", 'no will I go back', \"'ve have gotten a much better service from the pizza place next door than the services we received from this restaurant.\", 'immediately said I wanted to talk to the manager but I did not want to talk to the guy who was doing shots of fireball behind the bar.', \"ambiance isn't much better.\", \"food wasn't good.\", 'happened next was pretty....off putting.', 'for what you are getting.', 'vomited in the bathroom mid lunch.', \"started with the tuna sashimi which was brownish in color and obviously wasn't fresh.\", 'was below average.', 'sure does beat the nachos at the movies but I would expect a little bit more coming from a restaurant.', 'problem I have is that they charge $11.99 for a sandwich that is no bigger than a Subway sub (which offers better and more amount of vegetables).', '- When I unwrapped it (I live only 1/2 a mile from Brushfire) it was literally ice cold.', \"really is impressive that the place hasn't closed down.\", 'would avoid this place if you are staying in the Mirage.', 'refried beans that came with my meal were dried out and crusty and the food was bland.', 'your money and time some place else.', 'lady at the table next to us found a live green caterpillar In her salad.', 'presentation of the food was awful.', \"can't tell you how disappointed I was.\", 'think food should have flavor and texture and both were lacking.', 'instantly gone.', 'I was not impressed and would not go back.']\n",
            "Número total de coincidencias de so: 165\n"
          ]
        }
      ]
    },
    {
      "cell_type": "code",
      "source": [
        "for match in matches:\n",
        "    print(match)"
      ],
      "metadata": {
        "colab": {
          "base_uri": "https://localhost:8080/"
        },
        "id": "lZofDS5CJ5gO",
        "outputId": "c35ca24f-9d29-4bc3-8373-65c06fedc392"
      },
      "execution_count": 28,
      "outputs": [
        {
          "output_type": "stream",
          "name": "stdout",
          "text": [
            "Loved\n",
            "May\n",
            "Rick\n",
            "Steve\n",
            "Burrittos\n",
            "Blah\n",
            "The\n",
            "Hiro\n",
            "Firehouse\n",
            "Heart\n",
            "Attack\n",
            "Grill\n",
            "Vegas\n",
            "Dos\n",
            "Gringos\n",
            "Very\n",
            "Bad\n",
            "Customer\n",
            "Service\n",
            "Vegas\n",
            "Rice\n",
            "Company\n",
            "Pho\n",
            "Tigerlilly\n",
            "Thai\n",
            "Indian\n",
            "Not\n",
            "Vegas\n",
            "Mandalay\n",
            "Bay\n",
            "Great\n",
            "Voodoo\n",
            "Phoenix\n",
            "Lemon\n",
            "Joey\n",
            "Valley\n",
            "Phoenix\n",
            "Magazine\n",
            "Pho\n",
            "Fridays\n",
            "Tasty\n",
            "Jamaican\n",
            "Otto\n",
            "Not\n",
            "Vegas\n",
            "Greek\n",
            "Veggitarian\n",
            "Bachi\n",
            "Burger\n",
            "Pizza\n",
            "Salads\n",
            "They\n",
            "Bachi\n",
            "Service\n",
            "English\n",
            "Pizza\n",
            "Hut\n",
            "Seat\n",
            "Thai\n",
            "Tucson\n",
            "Vegas\n",
            "Outstanding\n",
            "Best\n",
            "Food\n",
            "Lobster\n",
            "Bisque\n",
            "Vegas\n",
            "Halibut\n",
            "Vegas\n",
            "Vegas\n",
            "Vegas\n",
            "Crystals\n",
            "Aria\n",
            "Ians\n",
            "Buldogis\n",
            "Gourmet\n",
            "Hot\n",
            "Dog\n",
            "Steiners\n",
            "Carly\n",
            "Vegas\n",
            "Very\n",
            "Noca\n",
            "Frenchman\n",
            "Perfect\n",
            "Vegas\n",
            "Palm\n",
            "This\n",
            "Thai\n",
            "Phoenix\n",
            "Crema\n",
            "Caf\n",
            "Philadelphia\n",
            "North\n",
            "Scottsdale\n",
            "Bloody\n",
            "Mary\n",
            "Pho\n",
            "Caesar\n",
            "Macarons\n",
            "Experience\n",
            "Very\n",
            "Disappointed\n",
            "Big\n",
            "Bay\n",
            "Plater\n",
            "Italian\n",
            "Smashburger\n",
            "Panna\n",
            "Cotta\n",
            "Strip\n",
            "Steak\n",
            "Paradise\n",
            "Valley\n",
            "Cibo\n",
            "Thumbs\n",
            "Up\n",
            "Pros\n",
            "Large\n",
            "Nice\n",
            "Great\n",
            "The\n",
            "Elk\n",
            "Filet\n",
            "Dylan\n",
            "All\n",
            "Han\n",
            "Nan\n",
            "Chicken\n",
            "Bar\n",
            "Edinburgh\n",
            "Chinese\n",
            "Indian\n",
            "Chinese\n",
            "Phoenix\n",
            "Sunday\n",
            "The\n",
            "Pita\n",
            "Wienerschnitzel\n",
            "Maine\n",
            "Lobster\n",
            "Roll\n",
            "Caballero\n",
            "Costco\n",
            "To\n",
            "Place\n",
            "Gyros\n",
            "Albondigas\n",
            "Mediterranean\n",
            "Chicken\n",
            "Salad\n",
            "Mellow\n",
            "Mushroom\n",
            "Thai\n",
            "Vegas\n",
            "Mmmm\n",
            "Buffet\n",
            "Bellagio\n",
            "Vegas\n",
            "Taco\n",
            "Subway\n",
            "When\n",
            "Brushfire\n",
            "Mirage\n",
            "In\n"
          ]
        }
      ]
    },
    {
      "cell_type": "code",
      "source": [
        "import re\n",
        "\n",
        "enunciado = \"El gato está durmiendo en el sofá.\"\n",
        "\n",
        "# Utilizamos una expresión regular para encontrar la primera palabra del enunciado\n",
        "primera_palabra = re.match(r'\\b\\w+\\b', enunciado)\n",
        "\n",
        "if primera_palabra:\n",
        "    # Obtenemos la posición del final de la primera palabra\n",
        "    fin_primera_palabra = primera_palabra.end()\n",
        "\n",
        "    # Eliminamos la primera palabra del enunciado\n",
        "    enunciado_sin_primera_palabra = enunciado[fin_primera_palabra:].strip()\n",
        "\n",
        "    # Procesamos el enunciado sin la primera palabra\n",
        "    print(\"Enunciado sin la primera palabra:\", enunciado_sin_primera_palabra)\n",
        "else:\n",
        "    print(\"No se encontró la primera palabra en el enunciado.\")\n"
      ],
      "metadata": {
        "colab": {
          "base_uri": "https://localhost:8080/"
        },
        "id": "pTsGzBWmFjGv",
        "outputId": "07bf21c2-c003-45d0-dad8-c27b21fc247d"
      },
      "execution_count": 29,
      "outputs": [
        {
          "output_type": "stream",
          "name": "stdout",
          "text": [
            "Enunciado sin la primera palabra: gato está durmiendo en el sofá.\n"
          ]
        }
      ]
    },
    {
      "cell_type": "code",
      "source": [
        "for match in matches:\n",
        "    print(match)"
      ],
      "metadata": {
        "colab": {
          "base_uri": "https://localhost:8080/"
        },
        "id": "O-13vyCmC5WO",
        "outputId": "e64dbfa9-b1ca-41be-df83-1525c88b5d09"
      },
      "execution_count": 30,
      "outputs": [
        {
          "output_type": "stream",
          "name": "stdout",
          "text": [
            "Loved\n",
            "May\n",
            "Rick\n",
            "Steve\n",
            "Burrittos\n",
            "Blah\n",
            "The\n",
            "Hiro\n",
            "Firehouse\n",
            "Heart\n",
            "Attack\n",
            "Grill\n",
            "Vegas\n",
            "Dos\n",
            "Gringos\n",
            "Very\n",
            "Bad\n",
            "Customer\n",
            "Service\n",
            "Vegas\n",
            "Rice\n",
            "Company\n",
            "Pho\n",
            "Tigerlilly\n",
            "Thai\n",
            "Indian\n",
            "Not\n",
            "Vegas\n",
            "Mandalay\n",
            "Bay\n",
            "Great\n",
            "Voodoo\n",
            "Phoenix\n",
            "Lemon\n",
            "Joey\n",
            "Valley\n",
            "Phoenix\n",
            "Magazine\n",
            "Pho\n",
            "Fridays\n",
            "Tasty\n",
            "Jamaican\n",
            "Otto\n",
            "Not\n",
            "Vegas\n",
            "Greek\n",
            "Veggitarian\n",
            "Bachi\n",
            "Burger\n",
            "Pizza\n",
            "Salads\n",
            "They\n",
            "Bachi\n",
            "Service\n",
            "English\n",
            "Pizza\n",
            "Hut\n",
            "Seat\n",
            "Thai\n",
            "Tucson\n",
            "Vegas\n",
            "Outstanding\n",
            "Best\n",
            "Food\n",
            "Lobster\n",
            "Bisque\n",
            "Vegas\n",
            "Halibut\n",
            "Vegas\n",
            "Vegas\n",
            "Vegas\n",
            "Crystals\n",
            "Aria\n",
            "Ians\n",
            "Buldogis\n",
            "Gourmet\n",
            "Hot\n",
            "Dog\n",
            "Steiners\n",
            "Carly\n",
            "Vegas\n",
            "Very\n",
            "Noca\n",
            "Frenchman\n",
            "Perfect\n",
            "Vegas\n",
            "Palm\n",
            "This\n",
            "Thai\n",
            "Phoenix\n",
            "Crema\n",
            "Caf\n",
            "Philadelphia\n",
            "North\n",
            "Scottsdale\n",
            "Bloody\n",
            "Mary\n",
            "Pho\n",
            "Caesar\n",
            "Macarons\n",
            "Experience\n",
            "Very\n",
            "Disappointed\n",
            "Big\n",
            "Bay\n",
            "Plater\n",
            "Italian\n",
            "Smashburger\n",
            "Panna\n",
            "Cotta\n",
            "Strip\n",
            "Steak\n",
            "Paradise\n",
            "Valley\n",
            "Cibo\n",
            "Thumbs\n",
            "Up\n",
            "Pros\n",
            "Large\n",
            "Nice\n",
            "Great\n",
            "The\n",
            "Elk\n",
            "Filet\n",
            "Dylan\n",
            "All\n",
            "Han\n",
            "Nan\n",
            "Chicken\n",
            "Bar\n",
            "Edinburgh\n",
            "Chinese\n",
            "Indian\n",
            "Chinese\n",
            "Phoenix\n",
            "Sunday\n",
            "The\n",
            "Pita\n",
            "Wienerschnitzel\n",
            "Maine\n",
            "Lobster\n",
            "Roll\n",
            "Caballero\n",
            "Costco\n",
            "To\n",
            "Place\n",
            "Gyros\n",
            "Albondigas\n",
            "Mediterranean\n",
            "Chicken\n",
            "Salad\n",
            "Mellow\n",
            "Mushroom\n",
            "Thai\n",
            "Vegas\n",
            "Mmmm\n",
            "Buffet\n",
            "Bellagio\n",
            "Vegas\n",
            "Taco\n",
            "Subway\n",
            "When\n",
            "Brushfire\n",
            "Mirage\n",
            "In\n"
          ]
        }
      ]
    },
    {
      "cell_type": "code",
      "source": [
        "texto = \"Mi aata Es negra Gorda y loca\"\n",
        "\n",
        "# Utilizamos una expresión regular que busca la segunda palabra de la cadena\n",
        "# La expresión regular coincide con la primera palabra, luego ignora cualquier cantidad de espacios en blanco,\n",
        "# y finalmente captura la segunda palabra.\n",
        "##patron = r'^\\w+\\s+([A-Z]+[a-z]+)'\n",
        "patron = r'([A-Z]+[a-z]+)*'\n",
        "#(?<=foo)bar\n",
        "# Buscamos la segunda palabra utilizando el método search de re\n",
        "resultado = re.search(patron, texto)\n",
        "\n",
        "if resultado:\n",
        "    segunda_palabra = resultado.group(1)\n",
        "    print(segunda_palabra)\n",
        "else:\n",
        "    print(\"No se encontró la segunda palabra.\")"
      ],
      "metadata": {
        "colab": {
          "base_uri": "https://localhost:8080/"
        },
        "id": "5iWX61fRAfHU",
        "outputId": "a2f1f7b7-4d16-4a4d-8f67-5417a2ec11cb"
      },
      "execution_count": 49,
      "outputs": [
        {
          "output_type": "stream",
          "name": "stdout",
          "text": [
            "Mi\n"
          ]
        }
      ]
    },
    {
      "cell_type": "code",
      "source": [
        "comentarios[:10]"
      ],
      "metadata": {
        "id": "7M_aBo-LIrzp",
        "outputId": "88e11bc5-7631-42d9-e329-db9699f3c600",
        "colab": {
          "base_uri": "https://localhost:8080/"
        }
      },
      "execution_count": 50,
      "outputs": [
        {
          "output_type": "execute_result",
          "data": {
            "text/plain": [
              "['Wow... Loved this place.',\n",
              " 'Crust is not good.',\n",
              " 'Not tasty and the texture was just nasty.',\n",
              " 'Stopped by during the late May bank holiday off Rick Steve recommendation and loved it.',\n",
              " 'The selection on the menu was great and so were the prices.',\n",
              " 'Now I am getting angry and I want my damn pho.',\n",
              " \"Honeslty it didn't taste THAT fresh.)\",\n",
              " 'The potatoes were like rubber and you could tell they had been made up ahead of time being kept under a warmer.',\n",
              " 'The fries were great too.',\n",
              " 'A great touch.']"
            ]
          },
          "metadata": {},
          "execution_count": 50
        }
      ]
    },
    {
      "cell_type": "code",
      "source": [
        "import re\n",
        "\n",
        "texto = \"Este es un Ejemplo de texto que muestra algunas Palabras. La Primera palabra está en mayúscula.\"\n",
        "\n",
        "#eliminar la primera palabra de los comentarios\n",
        "\n",
        "# Utilizamos una expresión regular que busca palabras que comiencen con una letra mayúscula,\n",
        "# seguida de una o más letras minúsculas, pero no sea la primera palabra del string.\n",
        "patron = r'\\b[A-Z][a-z]+\\b'\n",
        "\n",
        "# Encontramos todas las coincidencias en el texto\n",
        "coincidencias = re.findall(patron, texto)\n",
        "\n",
        "# Filtramos las coincidencias para excluir la primera palabra del texto\n",
        "coincidencias_filtradas = [palabra for palabra in coincidencias if texto.index(palabra) > 0]\n",
        "\n",
        "# Imprimimos las coincidencias filtradas\n",
        "for palabra in coincidencias_filtradas:\n",
        "    print(palabra)"
      ],
      "metadata": {
        "colab": {
          "base_uri": "https://localhost:8080/"
        },
        "id": "TN6F-PXh-j4s",
        "outputId": "a21d1d45-f8bb-41ce-96d3-6fd7be8abe07"
      },
      "execution_count": 51,
      "outputs": [
        {
          "output_type": "stream",
          "name": "stdout",
          "text": [
            "Ejemplo\n",
            "Palabras\n",
            "La\n",
            "Primera\n"
          ]
        }
      ]
    },
    {
      "cell_type": "code",
      "source": [
        "comentarios[:10]\n"
      ],
      "metadata": {
        "colab": {
          "base_uri": "https://localhost:8080/"
        },
        "id": "z_mmHqVq_xNz",
        "outputId": "231bedb1-f644-46f7-b308-2a2576fd1d56"
      },
      "execution_count": 47,
      "outputs": [
        {
          "output_type": "execute_result",
          "data": {
            "text/plain": [
              "['Wow... Loved this place.',\n",
              " 'Crust is not good.',\n",
              " 'Not tasty and the texture was just nasty.',\n",
              " 'Stopped by during the late May bank holiday off Rick Steve recommendation and loved it.',\n",
              " 'The selection on the menu was great and so were the prices.',\n",
              " 'Now I am getting angry and I want my damn pho.',\n",
              " \"Honeslty it didn't taste THAT fresh.)\",\n",
              " 'The potatoes were like rubber and you could tell they had been made up ahead of time being kept under a warmer.',\n",
              " 'The fries were great too.',\n",
              " 'A great touch.']"
            ]
          },
          "metadata": {},
          "execution_count": 47
        }
      ]
    },
    {
      "cell_type": "markdown",
      "source": [
        "*   **Pregunta 11.**  \n",
        "\n",
        "Busca e imprime la secuencia de dos o más palabras que están separadas por un guion, \"-\", sin que tengan espacios en blanco entre ellas.\n",
        "\n",
        "Por ejemplo \"Go-Kart\" sería válido, pero \"Go  -Kart\" o \"Go  -  Kart\" no lo serían.\n",
        "\n",
        "Indica la cantidad de resultados obtenidos."
      ],
      "metadata": {
        "id": "u7nfm4KhMrNW"
      }
    },
    {
      "cell_type": "code",
      "source": [
        "#palabras que están separadas por un guion, \"-\", sin que tengan espacios en blanco entre ellas:\n",
        "expresion_regular = r'\\b\\w+-\\w+\\b'\n",
        "matches = [match for commentario in comentarios for match in re.findall(expresion_regular, commentario)]\n",
        "#obtener el total de coincidencias\n",
        "print(\"Número total de palabras conlongitud mayor a 10 caracteres alfabéticos:\", len(matches))"
      ],
      "metadata": {
        "id": "OwU-a7eGMsub",
        "colab": {
          "base_uri": "https://localhost:8080/"
        },
        "outputId": "032b604f-fbd4-47ca-b24f-f2650ed0c88e"
      },
      "execution_count": 34,
      "outputs": [
        {
          "output_type": "stream",
          "name": "stdout",
          "text": [
            "Número total de palabras conlongitud mayor a 10 caracteres alfabéticos: 21\n"
          ]
        }
      ]
    },
    {
      "cell_type": "code",
      "source": [
        "for match in matches:\n",
        "    print(match)"
      ],
      "metadata": {
        "id": "SgzIL74ZMtGw",
        "colab": {
          "base_uri": "https://localhost:8080/"
        },
        "outputId": "a6c5db01-1b0b-4fd3-801e-ea8c50c0aaa8"
      },
      "execution_count": 35,
      "outputs": [
        {
          "output_type": "stream",
          "name": "stdout",
          "text": [
            "flat-lined\n",
            "hands-down\n",
            "must-stop\n",
            "sub-par\n",
            "Service-check\n",
            "in-house\n",
            "been-stepped\n",
            "in-and\n",
            "tracked-everywhere\n",
            "multi-grain\n",
            "to-go\n",
            "non-customer\n",
            "High-quality\n",
            "sit-down\n",
            "over-whelm\n",
            "low-key\n",
            "non-fancy\n",
            "golden-crispy\n",
            "over-priced\n",
            "over-hip\n",
            "under-services\n"
          ]
        }
      ]
    },
    {
      "cell_type": "markdown",
      "source": [
        "*   **Pregunta 12.**  \n",
        "\n",
        "Busca e imprime todas las palabras que terminan en \"ing\" o \"ed\".\n",
        "\n",
        "Indica la cantidad de palabras que encontraste de cada una."
      ],
      "metadata": {
        "id": "DEIgl79HMthr"
      }
    },
    {
      "cell_type": "code",
      "source": [
        "import re\n",
        "\n",
        "texto = [\"He is mecing.\",\"She canceled\", \"Ing.\", \"Ed.\", \"Mecied\", \"Faging.\"]\n",
        "\n",
        "# Expresión regular para buscar palabras que terminan en \"ing\" o \"ed\"\n",
        "patron = r'\\b\\w+(?:ing|ed)\\b'\n",
        "\n",
        "# Busca todas las coincidencias en el texto\n",
        "coincidencias = [match for commentario in comentarios for match in re.findall(patron, commentario)]\n",
        "\n",
        "# Inicializa contadores para palabras terminadas en \"ing\" y \"ed\"\n",
        "cont_ing = 0\n",
        "cont_ed = 0\n",
        "\n",
        "# Itera sobre las coincidencias para contar la cantidad de palabras encontradas\n",
        "for palabra in coincidencias:\n",
        "    if palabra.endswith(\"ing\"):\n",
        "        cont_ing += 1\n",
        "    elif palabra.endswith(\"ed\"):\n",
        "        cont_ed += 1\n",
        "\n",
        "# Imprime las palabras encontradas y la cantidad de cada una\n",
        "print(\"Palabras que terminan en 'ing':\", cont_ing)\n",
        "print(\"Palabras que terminan en 'ed':\", cont_ed)\n"
      ],
      "metadata": {
        "id": "I4TSofBMMv9y",
        "colab": {
          "base_uri": "https://localhost:8080/"
        },
        "outputId": "9a0f0696-2e8d-409e-9d80-89ab1250df21"
      },
      "execution_count": 36,
      "outputs": [
        {
          "output_type": "stream",
          "name": "stdout",
          "text": [
            "Palabras que terminan en 'ing': 279\n",
            "Palabras que terminan en 'ed': 335\n"
          ]
        }
      ]
    },
    {
      "cell_type": "code",
      "source": [
        "for match in coincidencias:\n",
        "    print(match)"
      ],
      "metadata": {
        "id": "VQqYgQCxM_v4",
        "outputId": "c5efcd89-c114-49c0-8e90-adc723bb71d1",
        "colab": {
          "base_uri": "https://localhost:8080/"
        }
      },
      "execution_count": 37,
      "outputs": [
        {
          "output_type": "stream",
          "name": "stdout",
          "text": [
            "Loved\n",
            "Stopped\n",
            "during\n",
            "loved\n",
            "getting\n",
            "being\n",
            "ended\n",
            "being\n",
            "overpriced\n",
            "tried\n",
            "disgusted\n",
            "shocked\n",
            "recommended\n",
            "amazing\n",
            "performed\n",
            "red\n",
            "asked\n",
            "running\n",
            "overwhelmed\n",
            "redeeming\n",
            "grossed\n",
            "melted\n",
            "getting\n",
            "provided\n",
            "thing\n",
            "cooked\n",
            "dressing\n",
            "refreshing\n",
            "ordered\n",
            "running\n",
            "realized\n",
            "Loved\n",
            "lined\n",
            "cooked\n",
            "ripped\n",
            "ripped\n",
            "petrified\n",
            "amazing\n",
            "included\n",
            "expected\n",
            "nothing\n",
            "appalling\n",
            "seasoned\n",
            "cheated\n",
            "wasting\n",
            "eating\n",
            "going\n",
            "Coming\n",
            "experiencing\n",
            "underwhelming\n",
            "walked\n",
            "smelled\n",
            "eating\n",
            "raving\n",
            "tailored\n",
            "spring\n",
            "unsatisfying\n",
            "amazing\n",
            "Everything\n",
            "disappointing\n",
            "dining\n",
            "flirting\n",
            "arrived\n",
            "roasted\n",
            "added\n",
            "thing\n",
            "coming\n",
            "cooked\n",
            "playing\n",
            "passed\n",
            "ordering\n",
            "arriving\n",
            "liked\n",
            "disappointing\n",
            "managed\n",
            "served\n",
            "preparing\n",
            "loving\n",
            "liking\n",
            "reviewing\n",
            "venturing\n",
            "overpriced\n",
            "including\n",
            "during\n",
            "checked\n",
            "disappointed\n",
            "red\n",
            "decorated\n",
            "changing\n",
            "going\n",
            "considering\n",
            "served\n",
            "coming\n",
            "watched\n",
            "greeted\n",
            "seated\n",
            "waited\n",
            "flavored\n",
            "ordered\n",
            "going\n",
            "everything\n",
            "ordered\n",
            "relocated\n",
            "impressed\n",
            "seated\n",
            "priced\n",
            "looking\n",
            "treated\n",
            "ordered\n",
            "dressing\n",
            "dining\n",
            "used\n",
            "handed\n",
            "listed\n",
            "missed\n",
            "Everything\n",
            "thrilled\n",
            "amazing\n",
            "judging\n",
            "inspired\n",
            "desired\n",
            "maintaining\n",
            "asking\n",
            "overcooked\n",
            "decided\n",
            "looked\n",
            "having\n",
            "dressed\n",
            "treated\n",
            "something\n",
            "lacking\n",
            "ordered\n",
            "sucked\n",
            "expected\n",
            "sucked\n",
            "imagined\n",
            "Interesting\n",
            "served\n",
            "preparing\n",
            "arrived\n",
            "missing\n",
            "feeling\n",
            "satisfied\n",
            "voted\n",
            "insulted\n",
            "disrespected\n",
            "exceeding\n",
            "dreamed\n",
            "inviting\n",
            "lived\n",
            "stepped\n",
            "mixed\n",
            "showed\n",
            "climbing\n",
            "waiting\n",
            "realized\n",
            "coming\n",
            "loved\n",
            "being\n",
            "lacking\n",
            "needed\n",
            "going\n",
            "loved\n",
            "wrapped\n",
            "uninspired\n",
            "amazing\n",
            "dealing\n",
            "annoying\n",
            "Ordered\n",
            "falling\n",
            "uploaded\n",
            "sporting\n",
            "covered\n",
            "supposed\n",
            "amazing\n",
            "rolled\n",
            "stayed\n",
            "providing\n",
            "building\n",
            "lighting\n",
            "Based\n",
            "received\n",
            "going\n",
            "nothing\n",
            "privileged\n",
            "working\n",
            "eating\n",
            "dressing\n",
            "being\n",
            "charged\n",
            "visited\n",
            "proclaimed\n",
            "disappointed\n",
            "Stopped\n",
            "dedicated\n",
            "liked\n",
            "outstanding\n",
            "getting\n",
            "disappointed\n",
            "waited\n",
            "waited\n",
            "burned\n",
            "waited\n",
            "amazing\n",
            "disappointed\n",
            "Waited\n",
            "disappointed\n",
            "pulled\n",
            "prepared\n",
            "rating\n",
            "eating\n",
            "writing\n",
            "everything\n",
            "dining\n",
            "fried\n",
            "boring\n",
            "passed\n",
            "charming\n",
            "ordered\n",
            "toasted\n",
            "untoasted\n",
            "going\n",
            "figured\n",
            "making\n",
            "pricing\n",
            "considering\n",
            "returned\n",
            "amazing\n",
            "eyed\n",
            "disappointed\n",
            "pleased\n",
            "Everything\n",
            "replenished\n",
            "disappointed\n",
            "nothing\n",
            "nothing\n",
            "driving\n",
            "treated\n",
            "during\n",
            "evening\n",
            "offered\n",
            "Outstanding\n",
            "tasted\n",
            "buying\n",
            "handling\n",
            "wasting\n",
            "craving\n",
            "dropped\n",
            "dining\n",
            "decorated\n",
            "interesting\n",
            "amazing\n",
            "being\n",
            "served\n",
            "outshining\n",
            "starving\n",
            "coming\n",
            "walked\n",
            "stuffed\n",
            "considering\n",
            "located\n",
            "shopping\n",
            "nothing\n",
            "Cooked\n",
            "disappointed\n",
            "getting\n",
            "screwed\n",
            "frustrated\n",
            "iced\n",
            "stuffed\n",
            "disappointed\n",
            "trying\n",
            "grossed\n",
            "enjoyed\n",
            "eating\n",
            "going\n",
            "looked\n",
            "overwhelmed\n",
            "stayed\n",
            "everything\n",
            "smeared\n",
            "stepped\n",
            "tracked\n",
            "tried\n",
            "rushed\n",
            "loved\n",
            "Ordered\n",
            "Nothing\n",
            "cooked\n",
            "going\n",
            "insulted\n",
            "contained\n",
            "enjoyed\n",
            "relaxed\n",
            "loved\n",
            "outstanding\n",
            "running\n",
            "acknowledged\n",
            "forgetting\n",
            "upgrading\n",
            "trimmed\n",
            "cooked\n",
            "claimed\n",
            "handled\n",
            "asked\n",
            "eating\n",
            "bring\n",
            "hoping\n",
            "living\n",
            "limited\n",
            "boiled\n",
            "dining\n",
            "liked\n",
            "sliced\n",
            "attached\n",
            "humiliated\n",
            "filling\n",
            "fried\n",
            "amazing\n",
            "impressed\n",
            "disappointed\n",
            "priced\n",
            "Everything\n",
            "disappointed\n",
            "thing\n",
            "amazing\n",
            "need\n",
            "Everything\n",
            "interesting\n",
            "need\n",
            "experienced\n",
            "amazing\n",
            "amazing\n",
            "waited\n",
            "seated\n",
            "waiting\n",
            "going\n",
            "going\n",
            "dining\n",
            "decided\n",
            "pleased\n",
            "saving\n",
            "something\n",
            "trying\n",
            "disgusting\n",
            "hankering\n",
            "recommended\n",
            "being\n",
            "helped\n",
            "witnessed\n",
            "Waited\n",
            "waited\n",
            "waited\n",
            "checked\n",
            "tasted\n",
            "disappointed\n",
            "being\n",
            "served\n",
            "rated\n",
            "recommended\n",
            "pulled\n",
            "waited\n",
            "being\n",
            "acknowledged\n",
            "setting\n",
            "perpared\n",
            "dusted\n",
            "powdered\n",
            "enjoyed\n",
            "expanded\n",
            "sitting\n",
            "ended\n",
            "waiting\n",
            "arrived\n",
            "satisfying\n",
            "wanted\n",
            "disappointed\n",
            "eating\n",
            "need\n",
            "being\n",
            "freaking\n",
            "checked\n",
            "impressed\n",
            "reheated\n",
            "getting\n",
            "amazing\n",
            "tasted\n",
            "disappointing\n",
            "grilled\n",
            "seasoning\n",
            "going\n",
            "focused\n",
            "roasted\n",
            "asked\n",
            "being\n",
            "ignored\n",
            "bring\n",
            "letting\n",
            "tasted\n",
            "evening\n",
            "Ordered\n",
            "greeted\n",
            "seated\n",
            "Tried\n",
            "waiting\n",
            "being\n",
            "seated\n",
            "eating\n",
            "going\n",
            "Disappointed\n",
            "ordered\n",
            "constructed\n",
            "seating\n",
            "fried\n",
            "playing\n",
            "requested\n",
            "amazing\n",
            "staying\n",
            "used\n",
            "tasted\n",
            "giving\n",
            "talking\n",
            "amazing\n",
            "drenched\n",
            "amazing\n",
            "amazing\n",
            "tried\n",
            "walked\n",
            "expected\n",
            "amazing\n",
            "disappointed\n",
            "mortified\n",
            "filling\n",
            "dripping\n",
            "impressed\n",
            "going\n",
            "serving\n",
            "refrained\n",
            "recommending\n",
            "pleased\n",
            "thing\n",
            "reading\n",
            "loved\n",
            "grilled\n",
            "reminded\n",
            "seating\n",
            "sucked\n",
            "hooked\n",
            "ordered\n",
            "going\n",
            "disappointed\n",
            "everything\n",
            "seasoned\n",
            "thing\n",
            "added\n",
            "sitting\n",
            "waiting\n",
            "bring\n",
            "revisiting\n",
            "coming\n",
            "touched\n",
            "anything\n",
            "fried\n",
            "opened\n",
            "impressed\n",
            "feeling\n",
            "during\n",
            "watched\n",
            "thing\n",
            "being\n",
            "Tasted\n",
            "amazing\n",
            "being\n",
            "amazing\n",
            "ordered\n",
            "satifying\n",
            "describing\n",
            "coming\n",
            "everything\n",
            "received\n",
            "Paying\n",
            "going\n",
            "impressed\n",
            "overcooked\n",
            "cooked\n",
            "needed\n",
            "served\n",
            "thing\n",
            "ordered\n",
            "amazing\n",
            "overpriced\n",
            "packed\n",
            "getting\n",
            "opposed\n",
            "cramming\n",
            "priced\n",
            "surprised\n",
            "considering\n",
            "focused\n",
            "overpriced\n",
            "fucking\n",
            "tried\n",
            "enjoyed\n",
            "going\n",
            "qualified\n",
            "tasted\n",
            "hated\n",
            "appealing\n",
            "getting\n",
            "coming\n",
            "watched\n",
            "Everything\n",
            "fried\n",
            "dealing\n",
            "everything\n",
            "tried\n",
            "something\n",
            "during\n",
            "helped\n",
            "dining\n",
            "cooking\n",
            "dining\n",
            "started\n",
            "editing\n",
            "highlighted\n",
            "setting\n",
            "used\n",
            "amazing\n",
            "enjoyed\n",
            "ordered\n",
            "tasted\n",
            "asked\n",
            "refused\n",
            "tried\n",
            "rotating\n",
            "Pricing\n",
            "toasted\n",
            "satisfying\n",
            "anticipated\n",
            "disappointing\n",
            "amazing\n",
            "returning\n",
            "unexperienced\n",
            "running\n",
            "insulted\n",
            "disrespected\n",
            "being\n",
            "impressed\n",
            "thing\n",
            "puréed\n",
            "nothing\n",
            "poisoning\n",
            "thinking\n",
            "something\n",
            "going\n",
            "disgusting\n",
            "caring\n",
            "bring\n",
            "asked\n",
            "Disappointing\n",
            "rated\n",
            "saying\n",
            "going\n",
            "lacked\n",
            "coming\n",
            "sliced\n",
            "pulled\n",
            "building\n",
            "seating\n",
            "undercooked\n",
            "dipping\n",
            "seemed\n",
            "watered\n",
            "lacked\n",
            "disappointed\n",
            "overpriced\n",
            "setting\n",
            "ensued\n",
            "anything\n",
            "drinking\n",
            "serving\n",
            "disappointed\n",
            "placed\n",
            "avoided\n",
            "received\n",
            "wanted\n",
            "doing\n",
            "sucked\n",
            "happened\n",
            "putting\n",
            "owned\n",
            "wanted\n",
            "Overpriced\n",
            "getting\n",
            "vomited\n",
            "looking\n",
            "started\n",
            "coming\n",
            "unwrapped\n",
            "lacked\n",
            "seemed\n",
            "undercooked\n",
            "closed\n",
            "staying\n",
            "refried\n",
            "dried\n",
            "disappointed\n",
            "lacking\n",
            "impressed\n",
            "underwhelming\n",
            "wasted\n",
            "poured\n",
            "drawing\n",
            "bring\n"
          ]
        }
      ]
    },
    {
      "cell_type": "code",
      "source": [
        "for match in matches:\n",
        "    print(match)"
      ],
      "metadata": {
        "id": "AhGq6De2Mvyh",
        "colab": {
          "base_uri": "https://localhost:8080/"
        },
        "outputId": "0c3b8411-9c2a-4e2d-fff9-81e4d07669f0"
      },
      "execution_count": 38,
      "outputs": [
        {
          "output_type": "stream",
          "name": "stdout",
          "text": [
            "flat-lined\n",
            "hands-down\n",
            "must-stop\n",
            "sub-par\n",
            "Service-check\n",
            "in-house\n",
            "been-stepped\n",
            "in-and\n",
            "tracked-everywhere\n",
            "multi-grain\n",
            "to-go\n",
            "non-customer\n",
            "High-quality\n",
            "sit-down\n",
            "over-whelm\n",
            "low-key\n",
            "non-fancy\n",
            "golden-crispy\n",
            "over-priced\n",
            "over-hip\n",
            "under-services\n"
          ]
        }
      ]
    },
    {
      "cell_type": "markdown",
      "source": [
        "#**Parte 3. Proceso de limpieza.**"
      ],
      "metadata": {
        "id": "70StdqAZa9E9"
      }
    },
    {
      "cell_type": "markdown",
      "source": [
        "*   **Pregunta 13.**  \n",
        "\n",
        "Ahora realiza un proceso de limpieza del corpus que incluya los siguientes procesos:\n",
        "\n",
        "*   Solo se deben considerar caracteres alfabéticos. Es decir, se eliminan todos los signos de puntuación y caracteres especiales.\n",
        "*   Todos los caracteres alfabéticos se transforman a minúsculas.\n",
        "*   Se deben eliminar todos los espacios en blanco adicionales que se puedan encontrar en cada comentario.\n",
        "\n",
        "Al finalizar dicho proceso de limpieza, imprime el resultado de los primeros 10 comentarios resultantes.\n",
        "   \n",
        "\n",
        "\n"
      ],
      "metadata": {
        "id": "xaDUFXHrMvX2"
      }
    },
    {
      "cell_type": "code",
      "source": [
        "#Eliminación de los signos de puntuacion\n",
        "\n",
        "comentarios_limpios =  [re.sub(r'[^\\w\\s]', '',  comentario).lower().strip() for comentario in comentarios]\n"
      ],
      "metadata": {
        "id": "K3kQzPOPMx0w"
      },
      "execution_count": 68,
      "outputs": []
    },
    {
      "cell_type": "code",
      "source": [
        "comentarios_limpios[:10]"
      ],
      "metadata": {
        "id": "O3bl4u8VHmp9",
        "outputId": "2f127544-455a-44e8-9895-9df9375c0945",
        "colab": {
          "base_uri": "https://localhost:8080/"
        }
      },
      "execution_count": 69,
      "outputs": [
        {
          "output_type": "execute_result",
          "data": {
            "text/plain": [
              "['wow loved this place',\n",
              " 'crust is not good',\n",
              " 'not tasty and the texture was just nasty',\n",
              " 'stopped by during the late may bank holiday off rick steve recommendation and loved it',\n",
              " 'the selection on the menu was great and so were the prices',\n",
              " 'now i am getting angry and i want my damn pho',\n",
              " 'honeslty it didnt taste that fresh',\n",
              " 'the potatoes were like rubber and you could tell they had been made up ahead of time being kept under a warmer',\n",
              " 'the fries were great too',\n",
              " 'a great touch']"
            ]
          },
          "metadata": {},
          "execution_count": 69
        }
      ]
    },
    {
      "cell_type": "markdown",
      "source": [
        "*   **Pregunta 14.**  \n",
        "\n",
        "Con el resultado de la limpieza obtenido en la pregunta anterior, realiza ahora un proceso de tokenización por palabras del corpus.\n",
        "\n",
        "Es decir, al final de este proceso de tokenización, debes tener como resultado una lista de listas, donde cada comentario estará tokenizado por palabras.\n",
        "\n",
        "Al terminar calcula el total de tokens obtenido en todo el corpus."
      ],
      "metadata": {
        "id": "WZwEhg2lUSAX"
      }
    },
    {
      "cell_type": "code",
      "source": [
        "#tokenizacion por palabras"
      ],
      "metadata": {
        "id": "kbAL9-v0V-jx"
      },
      "execution_count": null,
      "outputs": []
    },
    {
      "cell_type": "code",
      "source": [
        "#calculo del total de tokens"
      ],
      "metadata": {
        "id": "DZs_etmiV-fd"
      },
      "execution_count": null,
      "outputs": []
    },
    {
      "cell_type": "markdown",
      "source": [
        "*   **Pregunta 15.**  \n",
        "\n",
        "Finalmente, en este ejercicio definiremos nuestro conjunto de palabras \"stopwords\", las cuales deberás eliminar de todo el corpus.\n",
        "\n",
        "Recuerda que ejemplos de stopwords son artículos, adverbios, conectivos, etcétera, que tienen frecuencias de aparición muy altas en cualquier documento, pero que no brindan mucho significado en cuanto al significado de un enunciado.\n",
        "\n",
        "Con base a la lista de stopwords que se te proporciona, realiza un proceso de limpieza eliminando todas estas palabras del corpus obtenido en el ejercicio anterior.\n",
        "\n",
        "Obtener cuántos tokens/palabras quedan finalmente en todo el corpus.\n",
        "\n",
        "Obtener cuántos de estos tokens/palabras son diferentes, es decir, cuántos tokens únicos tendrá lo que llamaremos más adelante nuestro vocabulario."
      ],
      "metadata": {
        "id": "EFeu0OJ7WDPD"
      }
    },
    {
      "cell_type": "code",
      "source": [
        "# Considera la siguiente lista como tu conjunto de stopwords:\n",
        "mis_stopwords = ['i', 'me', 'my', 'myself', 'we', 'our', 'ours', 'ourselves', 'you', 'your', 'yours', 'he', 'him', 'his', 'himself', 'she', 'her', 'hers', 'herself', 'it', 'its', 'itself', 'they', 'them', 'their', 'theirs', 'themselves', 'what', 'which', 'who', 'whom', 'this', 'that', 'these', 'those', 'am', 'is', 'are', 'was', 'were', 'be', 'been', 'being', 'have', 'has', 'had', 'having', 'do', 'does', 'did', 'doing', 'a', 'an', 'the', 'and', 'but', 'if', 'or', 'because', 'as', 'until', 'while', 'of', 'at', 'by', 'for', 'with', 'about', 'against', 'between', 'into', 'through', 'during', 'before', 'after', 'above', 'below', 'to', 'from', 'up', 'down', 'in', 'out', 'on', 'over', 'under', 'again', 'further', 'then', 'once', 'here', 'there', 'when', 'where', 'why', 'how', 'all', 'any', 'both', 'each', 'few', 'more', 'most', 'other', 'some', 'such', 'only', 'own', 'same', 'so', 'than', 'too', 'very', 's', 't', 'can', 'will', 'just', 'should', 'now', 'll']"
      ],
      "metadata": {
        "id": "6FP4FF3KXGxm"
      },
      "execution_count": null,
      "outputs": []
    },
    {
      "cell_type": "code",
      "source": [
        "#eliminacion de stop words"
      ],
      "metadata": {
        "id": "CD8yjyq1ZrwY"
      },
      "execution_count": null,
      "outputs": []
    },
    {
      "cell_type": "code",
      "source": [
        "#total de tokens en el corpus\n"
      ],
      "metadata": {
        "id": "4ZPi5prKZro5"
      },
      "execution_count": null,
      "outputs": []
    },
    {
      "cell_type": "markdown",
      "source": [
        "*   **Comentarios**\n",
        "\n",
        "Incluye finalmente tus comentarios de la actividad."
      ],
      "metadata": {
        "id": "NDbKkuxRbLoX"
      }
    },
    {
      "cell_type": "markdown",
      "source": [
        "<< incluye aquí tus comentarios >>"
      ],
      "metadata": {
        "id": "o7fzbvqVbUGr"
      }
    },
    {
      "cell_type": "markdown",
      "source": [
        "##**Fin de la Actividad de la semana 2.**"
      ],
      "metadata": {
        "id": "PHaKw_6Ldbaf"
      }
    }
  ]
}